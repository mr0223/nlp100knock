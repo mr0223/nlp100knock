{
 "cells": [
  {
   "cell_type": "markdown",
   "id": "24b5176c",
   "metadata": {},
   "source": [
    "# 言語処理100本ノック\n",
    "## 第2章：UNIXコマンド"
   ]
  },
  {
   "cell_type": "code",
   "execution_count": 1,
   "id": "4b7eba5e",
   "metadata": {},
   "outputs": [
    {
     "name": "stdout",
     "output_type": "stream",
     "text": [
      "2780\n"
     ]
    }
   ],
   "source": [
    "# 10. 行数のカウント\n",
    "count = sum([1 for line in open('data/ch02/popular-names.txt')])\n",
    "\n",
    "print(count)\n",
    "\n",
    "# cd data/ch02\n",
    "# wc popular-names.txt -l"
   ]
  },
  {
   "cell_type": "code",
   "execution_count": 2,
   "id": "e2706d23",
   "metadata": {},
   "outputs": [],
   "source": [
    "# 11. タブをスペースに置換\n",
    "with open('data/ch02/popular-names.txt') as f:\n",
    "    lines = f.read()\n",
    "\n",
    "with open('data/ch02/popular-names-space.txt', 'w') as f:\n",
    "    f.write(lines.replace('\\t', ' '))\n",
    "\n",
    "# sed s/'\\t'/' '/g popular-names.txt > popular-names-sed.txt\n",
    "# tr '\\t' ' ' <popular-names.txt> popular-names-tr.txt\n",
    "# expand -t 1 popular-names.txt > popular-names-expand.txt"
   ]
  },
  {
   "cell_type": "code",
   "execution_count": 3,
   "id": "50eb8e96",
   "metadata": {},
   "outputs": [],
   "source": [
    "# 12. 1列目をcol1.txtに，2列目をcol2.txtに保存\n",
    "col1 = [line.split('\\t')[0] for line in open('data/ch02/popular-names.txt')]\n",
    "col2 = [line.split('\\t')[1] for line in open('data/ch02/popular-names.txt')]\n",
    "\n",
    "with open('data/ch02/col1.txt', 'w') as f1:\n",
    "    f1.write('\\n'.join(col1))\n",
    "with open('data/ch02/col2.txt', 'w') as f2:\n",
    "    f2.write('\\n'.join(col2))\n",
    "\n",
    "# cut -f 1 popular-names.txt > col1-cut.txt\n",
    "# cut -f 2 popular-names.txt > col2-cut.txt"
   ]
  },
  {
   "cell_type": "code",
   "execution_count": 4,
   "id": "38675dc0",
   "metadata": {},
   "outputs": [],
   "source": [
    "# 13. col1.txtとcol2.txtをマージ\n",
    "with open('data/ch02/col1.txt') as f1:\n",
    "    col1 = f1.read().split('\\n')\n",
    "with open('data/ch02/col2.txt') as f2:\n",
    "    col2 = f2.read().split('\\n')\n",
    "\n",
    "merged = [i+'\\t'+j+'\\n' for i,j in zip(col1, col2)]\n",
    "\n",
    "with open('data/ch02/merged.txt', 'w') as f:\n",
    "    f.write(''.join(merged))\n",
    "\n",
    "# paste col1-cut.txt col2.cut.txt > merged-paste.txt"
   ]
  },
  {
   "cell_type": "code",
   "execution_count": 5,
   "id": "a5325044",
   "metadata": {},
   "outputs": [
    {
     "name": "stdout",
     "output_type": "stream",
     "text": [
      "Display the first N lines. Enter N: 4\n",
      "Mary\tF\t7065\t1880\n",
      "Anna\tF\t2604\t1880\n",
      "Emma\tF\t2003\t1880\n",
      "Elizabeth\tF\t1939\t1880\n"
     ]
    }
   ],
   "source": [
    "# 14. 先頭からN行を出力\n",
    "n = int(input('Display the first N lines. Enter N: '))\n",
    "\n",
    "with open('data/ch02/popular-names.txt') as f:\n",
    "    for num, line in enumerate(f):\n",
    "        if num >= n:\n",
    "            break\n",
    "        print(line.rstrip())\n",
    "\n",
    "# head -n 4 popular-names.txt"
   ]
  },
  {
   "cell_type": "code",
   "execution_count": 6,
   "id": "1335ef7f",
   "metadata": {},
   "outputs": [
    {
     "name": "stdout",
     "output_type": "stream",
     "text": [
      "Display the last N lines. Enter N: 4\n",
      "Elijah\tM\t12886\t2018\n",
      "Lucas\tM\t12585\t2018\n",
      "Mason\tM\t12435\t2018\n",
      "Logan\tM\t12352\t2018\n"
     ]
    }
   ],
   "source": [
    "# 15. 末尾のN行を出力\n",
    "n = int(input('Display the last N lines. Enter N: '))\n",
    "\n",
    "total_lines = sum([1 for line in open('data/ch02/popular-names.txt')])\n",
    "\n",
    "with open('data/ch02/popular-names.txt') as f:\n",
    "    for num, line in enumerate(f):\n",
    "        if num < total_lines-n:\n",
    "            continue\n",
    "        print(line.rstrip())\n",
    "\n",
    "# tail -n 4 popular-names.txt"
   ]
  },
  {
   "cell_type": "code",
   "execution_count": 7,
   "id": "0104fa7d",
   "metadata": {},
   "outputs": [
    {
     "name": "stdout",
     "output_type": "stream",
     "text": [
      "Split the file into N parts. Enter N: 4\n"
     ]
    }
   ],
   "source": [
    "# 16. ファイルをN分割する\n",
    "import math\n",
    "\n",
    "n = int(input('Split the file into N parts. Enter N: '))\n",
    "\n",
    "total_lines = sum([1 for line in open('data/ch02/popular-names.txt')])\n",
    "splited_lines = math.ceil(total_lines/n)\n",
    "file_names = [f'data/ch02/popular-names-splited{i+1}.txt' for i in range(n)]\n",
    "\n",
    "with open('data/ch02/popular-names.txt') as f:\n",
    "    data = f.readlines()\n",
    "\n",
    "for num, file_name in enumerate(file_names):\n",
    "    with open(file_name, 'w') as f:\n",
    "        f.write(''.join(data[num*splited_lines:min((num+1)*splited_lines,total_lines)]))\n",
    "\n",
    "# split -l 695 --additional-suffix=.txt popular-names.txt popular-names-split"
   ]
  },
  {
   "cell_type": "code",
   "execution_count": 8,
   "id": "ec4a8fb6",
   "metadata": {},
   "outputs": [],
   "source": [
    "# 17. １列目の文字列の異なり\n",
    "col1 = [line.split()[0] for line in open('data/ch02/popular-names.txt')]\n",
    "uniq_names = list(set(col1))\n",
    "uniq_names.sort()\n",
    "\n",
    "with open('data/ch02/uniq-names.txt', 'w') as f:\n",
    "    f.write('\\n'.join(uniq_names))\n",
    "\n",
    "# cut -f 1 popular-names.txt | sort | uniq > uniq-names-cut-sort-uniq.txt"
   ]
  },
  {
   "cell_type": "code",
   "execution_count": 9,
   "id": "d1bb680c",
   "metadata": {},
   "outputs": [],
   "source": [
    "# 18. 各行を3コラム目の数値の降順にソート\n",
    "data = []\n",
    "with open('data/ch02/popular-names.txt') as f:\n",
    "    for line in f:\n",
    "        data.append(line.split())\n",
    "\n",
    "data.sort(key=lambda x: int(x[2]), reverse=True)\n",
    "\n",
    "with open('data/ch02/popular-names-sorted.txt', 'w') as f:\n",
    "    for line in data:\n",
    "        f.write('\\t'.join(line) + '\\n')\n",
    "\n",
    "# sort -k 3nr popular-names.txt > popular-names-sort.txt"
   ]
  },
  {
   "cell_type": "code",
   "execution_count": 10,
   "id": "c105fe73",
   "metadata": {},
   "outputs": [],
   "source": [
    "# 19. 各行の1コラム目の文字列の出現頻度を求め，出現頻度の高い順に並べる\n",
    "col1 = [line.split()[0] for line in open('data/ch02/popular-names.txt')]\n",
    "uniq_names = list(set(col1))\n",
    "uniq_names.sort(key=lambda x: col1.count(x), reverse=True)\n",
    "\n",
    "with open('data/ch02/uniq-names-sorted.txt', 'w') as f:\n",
    "    f.write('\\n'.join(uniq_names))\n",
    "\n",
    "# cut -f 1 popular-names.txt | sort | uniq -c | sort -r | cut -b 9- > uniq-names-sort.txt"
   ]
  },
  {
   "cell_type": "code",
   "execution_count": null,
   "id": "f1ffaaf7",
   "metadata": {},
   "outputs": [],
   "source": []
  }
 ],
 "metadata": {
  "kernelspec": {
   "display_name": "Python 3 (ipykernel)",
   "language": "python",
   "name": "python3"
  },
  "language_info": {
   "codemirror_mode": {
    "name": "ipython",
    "version": 3
   },
   "file_extension": ".py",
   "mimetype": "text/x-python",
   "name": "python",
   "nbconvert_exporter": "python",
   "pygments_lexer": "ipython3",
   "version": "3.9.7"
  }
 },
 "nbformat": 4,
 "nbformat_minor": 5
}
