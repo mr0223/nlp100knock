{
  "cells": [
    {
      "cell_type": "code",
      "execution_count": 1,
      "metadata": {
        "colab": {
          "base_uri": "https://localhost:8080/"
        },
        "id": "ws9Z1XhE1mgB",
        "outputId": "8e1a422e-28f6-44a8-f155-3cb2a9bb52aa"
      },
      "outputs": [
        {
          "name": "stdout",
          "output_type": "stream",
          "text": [
            "Mounted at /content/drive\n",
            "/content/drive/My Drive/Colab Notebooks/nlp100knock\n"
          ]
        }
      ],
      "source": [
        "# 6章：GoogleColaboratory上で実行\n",
        "# chapter06.ipynb's directory: /content/drive/My Drive/Colab Notebooks/nlp100knock/\n",
        "from google.colab import drive\n",
        "drive.mount('/content/drive')\n",
        "%cd \"/content/drive/My Drive/Colab Notebooks/nlp100knock/\""
      ]
    },
    {
      "cell_type": "code",
      "execution_count": 2,
      "metadata": {
        "id": "wzTCgJu8qZwp"
      },
      "outputs": [],
      "source": [
        "# 50. データの入手・整形\n",
        "# データセットは事前にダウンロード、解凍して data/ch06/ にアップロード\n",
        "import re\n",
        "from sklearn.model_selection import train_test_split\n",
        "\n",
        "with open('data/ch06/newsCorpora.csv') as f:\n",
        "    lines = f.readlines()\n",
        "\n",
        "publishers = ['Reuters', 'Huffington Post', 'Businessweek', 'Contactmusic.com', 'Daily Mail']\n",
        "extract_data = []\n",
        "\n",
        "for num, line in enumerate(lines):\n",
        "    # 指定情報源の記事のみを抽出\n",
        "    line_splited = re.findall('(?:\\d+)\\t(?P<title>.*?)\\t(?:.*?)\\t(?P<publisher>.*?)\\t(?P<category>[betm])', line)\n",
        "    if line_splited[0][1] in publishers:\n",
        "        extract_data.append(f'{line_splited[0][2]}\\t{line_splited[0][0]}')\n",
        "\n",
        "# データの分割\n",
        "train_data, other_data = train_test_split(extract_data, test_size=0.2, random_state=0)\n",
        "valid_data, test_data = train_test_split(other_data, test_size=0.5, random_state=0)\n",
        "\n",
        "# データの保存\n",
        "with open('data/ch06/train.txt', 'w') as f:\n",
        "    f.write('\\n'.join(train_data))\n",
        "with open('data/ch06/valid.txt', 'w') as f:\n",
        "    f.write('\\n'.join(valid_data))\n",
        "with open('data/ch06/test.txt', 'w') as f:\n",
        "    f.write('\\n'.join(test_data))"
      ]
    },
    {
      "cell_type": "markdown",
      "metadata": {
        "id": "_S5OswuDcLmV"
      },
      "source": [
        "**各カテゴリの事例数**\n",
        "\n",
        "cmd: cut -f 1 train.txt | sort | uniq -c | sort -nr\n",
        "- train.txt -> b:4537, e:4200, t:1220, m:727\n",
        "- valid.txt -> b:556, e:539, t:152, m:89\n",
        "- test.txt  -> b:551, e:538, t:153, m:94"
      ]
    },
    {
      "cell_type": "code",
      "execution_count": null,
      "metadata": {
        "id": "6Ty6mcwDybte"
      },
      "outputs": [],
      "source": [
        "# 51. 特徴量抽出\n",
        "from sklearn.feature_extraction.text import CountVectorizer\n",
        "import pandas as pd\n",
        "import numpy as np\n",
        "\n",
        "train_df = pd.read_table('data/ch06/train.txt', names=('category', 'title'))\n",
        "valid_df = pd.read_table('data/ch06/valid.txt', names=('category', 'title'))\n",
        "test_df = pd.read_table('data/ch06/test.txt', names=('category', 'title'))\n",
        "\n",
        "vectorizer = CountVectorizer()      # 単語カウントを特徴量として抽出\n",
        "vectorizer.fit(train_df['title'])   # 単語辞書の学習\n",
        "\n",
        "train_X = vectorizer.transform(train_df['title'])\n",
        "valid_X = vectorizer.transform(valid_df['title'])\n",
        "test_X = vectorizer.transform(test_df['title'])\n",
        "\n",
        "np.savetxt('data/ch06/train.feature.txt', train_X.toarray(), fmt='%d')\n",
        "np.savetxt('data/ch06/valid.feature.txt', valid_X.toarray(), fmt='%d')\n",
        "np.savetxt('data/ch06/test.feature.txt', test_X.toarray(), fmt='%d')\n",
        "\n",
        "np.savetxt('data/ch06/feature_names_out.txt', vectorizer.get_feature_names_out(), fmt='%s') # 単語辞書を保存"
      ]
    },
    {
      "cell_type": "code",
      "execution_count": null,
      "metadata": {
        "colab": {
          "base_uri": "https://localhost:8080/"
        },
        "id": "ucpJ570puJLv",
        "outputId": "ff1682b1-5381-4aa4-8c68-088bcc463ae3"
      },
      "outputs": [
        {
          "data": {
            "text/plain": [
              "LogisticRegression(max_iter=200)"
            ]
          },
          "execution_count": 4,
          "metadata": {},
          "output_type": "execute_result"
        }
      ],
      "source": [
        "# 52. 学習\n",
        "from sklearn.linear_model import LogisticRegression\n",
        "import pandas as pd\n",
        "import numpy as np\n",
        "\n",
        "X_train = np.loadtxt('data/ch06/train.feature.txt') # 10684, 12802\n",
        "train_df = pd.read_table('data/ch06/train.txt', names=('category', 'title'))\n",
        "Y_train = train_df['category']  # 10684,\n",
        "\n",
        "lr = LogisticRegression(max_iter=200) # ロジスティック回帰モデルの作成\n",
        "lr.fit(X_train, Y_train)  # ロジスティック回帰モデルの学習\n",
        "\n",
        "# Warning: 最大反復回数(default: 100iter)までに収束していない"
      ]
    },
    {
      "cell_type": "code",
      "execution_count": null,
      "metadata": {
        "colab": {
          "base_uri": "https://localhost:8080/"
        },
        "id": "Iib_mzI2btiD",
        "outputId": "071d4ac6-534f-474a-b7c1-5464b1a90e87"
      },
      "outputs": [
        {
          "name": "stdout",
          "output_type": "stream",
          "text": [
            "['category', proba]:[['b', 0.993452350314459], ['b', 0.9995044443467324], ['b', 0.9782338258176773]]\n"
          ]
        }
      ],
      "source": [
        "# 53. 予測\n",
        "# lr: 52で学習したロジスティック回帰モデル\n",
        "def predict_categorys(title):\n",
        "    '''\n",
        "    input:  記事見出しの特徴量(n_samples, n_features)\n",
        "    output: カテゴリ, 予測確率(n_samples, 2)\n",
        "    '''\n",
        "    category_dict = {'b':0, 'e':1, 'm':2, 't':3}\n",
        "    results = []\n",
        "\n",
        "    result_categorys = lr.predict(title)      # (n_samples,)\n",
        "    result_probas = lr.predict_proba(title)   # (n_samples, n_classes)\n",
        "\n",
        "    for num, result_category in enumerate(result_categorys):\n",
        "        # 各sampleのカテゴリと予測確率をappend\n",
        "        category_num = category_dict[result_category]\n",
        "        results.append([result_category, result_probas[num][category_num]])\n",
        "\n",
        "    return results\n",
        "\n",
        "test_features = np.loadtxt('data/ch06/test.feature.txt')\n",
        "\n",
        "# 評価データのカテゴリとその予測確率を計算(ここでは最初の3つのみ計算)\n",
        "sample_results = predict_categorys(test_features[:3].reshape(3,-1))\n",
        "\n",
        "print(f'[\\'category\\', proba]:{sample_results}')"
      ]
    },
    {
      "cell_type": "code",
      "execution_count": null,
      "metadata": {
        "colab": {
          "base_uri": "https://localhost:8080/"
        },
        "id": "UMBKY4qbPO-S",
        "outputId": "0b9f5e76-5869-4010-89ed-c40daee23bb0"
      },
      "outputs": [
        {
          "name": "stdout",
          "output_type": "stream",
          "text": [
            "train accuracy: 0.9959752901535006\n",
            "test accuracy : 0.905688622754491\n"
          ]
        }
      ],
      "source": [
        "# 54. 正解率の計測\n",
        "from sklearn.metrics import accuracy_score\n",
        "\n",
        "# lr: 52で学習したロジスティック回帰モデル\n",
        "# X/Y_train: 52参照\n",
        "train_true = Y_train\n",
        "train_pred = lr.predict(X_train)\n",
        "\n",
        "print(f'train accuracy: {accuracy_score(train_true, train_pred)}')\n",
        "\n",
        "\n",
        "X_test = np.loadtxt('data/ch06/test.feature.txt')\n",
        "test_df = pd.read_table('data/ch06/test.txt', names=('category', 'title'))\n",
        "Y_test = test_df['category']\n",
        "\n",
        "test_true = Y_test\n",
        "test_pred = lr.predict(X_test)\n",
        "\n",
        "print(f'test accuracy : {accuracy_score(test_true, test_pred)}')"
      ]
    },
    {
      "cell_type": "code",
      "execution_count": null,
      "metadata": {
        "colab": {
          "base_uri": "https://localhost:8080/"
        },
        "id": "LO4w94AqZ5nD",
        "outputId": "958258e3-7044-4169-fa43-b901cddec550"
      },
      "outputs": [
        {
          "name": "stdout",
          "output_type": "stream",
          "text": [
            "train confusion matrix (b, e, m, t):\n",
            "[[4481    3    1    8]\n",
            " [   7 4234    0    2]\n",
            " [   0    2  717    0]\n",
            " [  16    4    0 1209]]\n",
            "\n",
            "test confusion matrix (b, e, m, t):\n",
            "[[551  10   3  15]\n",
            " [ 11 501   0   4]\n",
            " [ 17  16  68   3]\n",
            " [ 30  16   1  90]]\n"
          ]
        }
      ],
      "source": [
        "# 55. 混同行列の作成\n",
        "from sklearn.metrics import confusion_matrix\n",
        "\n",
        "# train/test_true/pred: 54参照\n",
        "print(f'train confusion matrix (b, e, m, t):\\n{confusion_matrix(train_true, train_pred)}')\n",
        "\n",
        "print(f'\\ntest confusion matrix (b, e, m, t):\\n{confusion_matrix(test_true, test_pred)}')"
      ]
    },
    {
      "cell_type": "code",
      "execution_count": null,
      "metadata": {
        "colab": {
          "base_uri": "https://localhost:8080/"
        },
        "id": "ELrG3TC58YC2",
        "outputId": "b65bdd49-234e-4370-c252-cc3db2080bbb"
      },
      "outputs": [
        {
          "name": "stdout",
          "output_type": "stream",
          "text": [
            "precision score\t(b, e, m, t): [0.9047619  0.92265193 0.94444444 0.80357143]\n",
            "recall score\t(b, e, m, t): [0.95164076 0.97093023 0.65384615 0.65693431]\n",
            "f1 score\t(b, e, m, t): [0.92760943 0.94617564 0.77272727 0.72289157]\n",
            "\n",
            "precision score\t(micro average): 0.905688622754491\n",
            "recall score\t(micro average): 0.905688622754491\n",
            "f1 score\t(micro average): 0.905688622754491\n",
            "\n",
            "precision score\t(macro average): 0.8938574278698588\n",
            "recall score\t(macro average): 0.8083378632261379\n",
            "f1 score\t(macro average): 0.8423509759988821\n"
          ]
        }
      ],
      "source": [
        "# 56. 適合率，再現率，F1スコアの計測\n",
        "from sklearn.metrics import precision_score, recall_score, f1_score\n",
        "# from sklearn.metrics import precision_recall_fscore_support\n",
        "\n",
        "# カテゴリごとに適合率、再現率、F1スコアを求める\n",
        "print(f'precision score\\t(b, e, m, t): {precision_score(test_true, test_pred, average=None)}')\n",
        "print(f'recall score\\t(b, e, m, t): {recall_score(test_true, test_pred, average=None)}')\n",
        "print(f'f1 score\\t(b, e, m, t): {f1_score(test_true, test_pred, average=None)}')\n",
        "# print(precision_recall_fscore_support(test_true, test_pred))\n",
        "\n",
        "# マイクロ平均、マクロ平均で統合\n",
        "print(f'\\nprecision score\\t(micro average): {precision_score(test_true, test_pred, average=\"micro\")}')\n",
        "print(f'recall score\\t(micro average): {recall_score(test_true, test_pred, average=\"micro\")}')\n",
        "print(f'f1 score\\t(micro average): {f1_score(test_true, test_pred, average=\"micro\")}')\n",
        "# print(f'micro averages: {precision_recall_fscore_support(test_true, test_pred, average=\"micro\")}')\n",
        "\n",
        "print(f'\\nprecision score\\t(macro average): {precision_score(test_true, test_pred, average=\"macro\")}')\n",
        "print(f'recall score\\t(macro average): {recall_score(test_true, test_pred, average=\"macro\")}')\n",
        "print(f'f1 score\\t(macro average): {f1_score(test_true, test_pred, average=\"macro\")}')\n",
        "# print(f'macro averages: {precision_recall_fscore_support(test_true, test_pred, average=\"macro\")}')"
      ]
    },
    {
      "cell_type": "code",
      "execution_count": null,
      "metadata": {
        "colab": {
          "base_uri": "https://localhost:8080/"
        },
        "id": "nx0BzBAO-qq-",
        "outputId": "b66e70ef-b69b-46dc-d22a-bc59b907d2cf"
      },
      "outputs": [
        {
          "name": "stdout",
          "output_type": "stream",
          "text": [
            "most important words : ['bank', 'gm', 'cancer', 'fda', 'climate', 'microsoft', 'apple', 'facebook', 'ebola', 'google']\n",
            "least important words: ['upstage', 'narrowed', 'sneaking', 'active', 'christmas', 'outsell', 'tone', 'disses', 'reminds', 'brushed']\n"
          ]
        }
      ],
      "source": [
        "# 57. 特徴量の重みの確認\n",
        "# lr.coef_: ロジスティック回帰モデルの回帰係数行列 (4, 12802)\n",
        "# 回帰係数の分散が大きいものほど重要として計算\n",
        "coef_var = np.var(lr.coef_, axis=0)  # 行ごとの分散を求める\n",
        "most_important_features = np.argsort(coef_var)[-10:]\n",
        "least_important_features = np.argsort(coef_var)[:10]\n",
        "\n",
        "print(f'most important words : {list(vectorizer.get_feature_names_out()[most_important_features])}')\n",
        "print(f'least important words: {list(vectorizer.get_feature_names_out()[least_important_features])}')"
      ]
    },
    {
      "cell_type": "code",
      "execution_count": null,
      "metadata": {
        "colab": {
          "base_uri": "https://localhost:8080/",
          "height": 283
        },
        "id": "iBaYylYC-s7e",
        "outputId": "1e32b7eb-bec8-444a-b3e5-d00a32a37f19"
      },
      "outputs": [
        {
          "data": {
            "image/png": "[encoded data removed]",
            "text/plain": [
              "<Figure size 432x288 with 1 Axes>"
            ]
          },
          "metadata": {
            "needs_background": "light"
          },
          "output_type": "display_data"
        }
      ],
      "source": [
        "# 58. 正則化パラメータの変更\n",
        "# 正則化パラメータを調整し、学習/検証/評価データ上の正解率を求める\n",
        "# グラフ  横軸：正則化パラメータ, 縦軸：正解率\n",
        "import matplotlib.pyplot as plt\n",
        "\n",
        "# 正則化パラメータ\n",
        "c_array = [0.001, 0.01, 0.1, 1, 10]\n",
        "\n",
        "# 各パラメータにおける正解率を記録\n",
        "train_accs = []\n",
        "valid_accs = []\n",
        "test_accs  = []\n",
        "\n",
        "# 検証データの準備\n",
        "X_valid = np.loadtxt('data/ch06/valid.feature.txt')\n",
        "valid_df = pd.read_table('data/ch06/valid.txt', names=('category', 'title'))\n",
        "Y_valid = valid_df['category']\n",
        "\n",
        "valid_true = Y_valid\n",
        "\n",
        "for c in c_array:\n",
        "    # モデルの構築・学習 (X/Y_train: 52参照)\n",
        "    lr_model = LogisticRegression(C=c, max_iter=200)\n",
        "    lr_model.fit(X_train, Y_train)\n",
        "\n",
        "    # 予測\n",
        "    train_pred = lr_model.predict(X_train)\n",
        "    valid_pred = lr_model.predict(X_valid)\n",
        "    test_pred  = lr_model.predict(X_test)\n",
        "\n",
        "    # 正解率の計算\n",
        "    train_accs.append(accuracy_score(train_true, train_pred))\n",
        "    valid_accs.append(accuracy_score(valid_true, valid_pred))\n",
        "    test_accs.append(accuracy_score(test_true, test_pred))\n",
        "\n",
        "# グラフの描写\n",
        "p1 = plt.plot(c_array, train_accs, marker='o')\n",
        "p2 = plt.plot(c_array, valid_accs, marker='o')\n",
        "p3 = plt.plot(c_array, test_accs, marker='o')\n",
        "plt.xscale('log')\n",
        "plt.xlabel('regularization param')\n",
        "plt.ylabel('accuracy')\n",
        "plt.legend((p1[0], p2[0], p3[0]), ('train acc', 'valid acc', 'test acc'))\n",
        "plt.show()"
      ]
    },
    {
      "cell_type": "code",
      "execution_count": null,
      "metadata": {
        "colab": {
          "base_uri": "https://localhost:8080/"
        },
        "id": "gkkmWRLE-ugj",
        "outputId": "f8b40a60-da5a-4847-faed-cd9cb9d14440"
      },
      "outputs": [
        {
          "name": "stdout",
          "output_type": "stream",
          "text": [
            "best param & solver: {'C': 5.4881350392732475, 'solver': 'lbfgs'}\n",
            "test accuracy: 0.9139221556886228\n"
          ]
        }
      ],
      "source": [
        "# 59. ハイパーパラメータの探索\n",
        "from sklearn.model_selection import RandomizedSearchCV\n",
        "from scipy.stats import uniform\n",
        "\n",
        "# 学習データと検証データを統合\n",
        "X_train_valid = np.concatenate([X_train, X_valid]) \n",
        "Y_train_valid = pd.concat([Y_train, Y_valid])\n",
        "\n",
        "# ランダムサーチを用いた探索\n",
        "logistic = LogisticRegression(max_iter=200)\n",
        "distributions = dict(C=uniform(loc=0, scale=10), solver=['newton-cg', 'lbfgs', 'sag'])\n",
        "\n",
        "clf = RandomizedSearchCV(logistic, distributions, random_state=0, n_iter=2)\n",
        "search = clf.fit(X_train_valid, Y_train_valid)\n",
        "\n",
        "# 最適化された学習アルゴリズム・パラメータ\n",
        "print(f'best param & solver: {search.best_params_}')\n",
        "\n",
        "# 評価データでの正解率\n",
        "test_pred = clf.predict(X_test)\n",
        "print(f'test accuracy: {accuracy_score(test_true, test_pred)}')"
      ]
    },
    {
      "cell_type": "code",
      "execution_count": null,
      "metadata": {
        "id": "EDxj_9-VFTae"
      },
      "outputs": [],
      "source": []
    }
  ],
  "metadata": {
    "colab": {
      "collapsed_sections": [],
      "name": "chapter06.ipynb",
      "provenance": []
    },
    "kernelspec": {
      "display_name": "Python 3",
      "name": "python3"
    },
    "language_info": {
      "name": "python"
    }
  },
  "nbformat": 4,
  "nbformat_minor": 0
}
