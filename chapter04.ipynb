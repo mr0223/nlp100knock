{
 "cells": [
  {
   "cell_type": "code",
   "execution_count": 1,
   "id": "bb2c7341",
   "metadata": {},
   "outputs": [],
   "source": [
    "# 4章. MeCabを使った形態素解析\n",
    "# neko.txt.M\\mecabの作成\n",
    "import MeCab\n",
    "\n",
    "mecab = MeCab.Tagger()\n",
    "with open('data/ch04/neko.txt', encoding='utf-8') as f:\n",
    "    data = f.read()\n",
    "\n",
    "with open('data/ch04/neko.txt.mecab', 'w', encoding='utf-8') as f:\n",
    "    f.write(mecab.parse(data))"
   ]
  },
  {
   "cell_type": "code",
   "execution_count": 2,
   "id": "5053c6c5",
   "metadata": {},
   "outputs": [
    {
     "name": "stdout",
     "output_type": "stream",
     "text": [
      "display first 10 dict\n",
      "\n",
      "[{'surface': '一', 'base': '一', 'pos': '名詞', 'pos1': '数'}, {'surface': '\\u3000', 'base': '\\u3000', 'pos': '記号', 'pos1': '空白'}, {'surface': '吾輩', 'base': '吾輩', 'pos': '名詞', 'pos1': '代名詞'}, {'surface': 'は', 'base': 'は', 'pos': '助詞', 'pos1': '係助詞'}, {'surface': '猫', 'base': '猫', 'pos': '名詞', 'pos1': '一般'}, {'surface': 'で', 'base': 'だ', 'pos': '助動詞', 'pos1': '*'}, {'surface': 'ある', 'base': 'ある', 'pos': '助動詞', 'pos1': '*'}, {'surface': '。', 'base': '。', 'pos': '記号', 'pos1': '句点'}, {'surface': '名前', 'base': '名前', 'pos': '名詞', 'pos1': '一般'}, {'surface': 'は', 'base': 'は', 'pos': '助詞', 'pos1': '係助詞'}]\n"
     ]
    }
   ],
   "source": [
    "# 30. 形態素解析結果の読み込み\n",
    "# MeCab output: 表層形\\t品詞,品詞細分類1,2,3,活用形,活用型,原形,読み,発音\n",
    "# unknown word: 表層形\\t品詞,品詞細分類1,2,3,活用形,活用型,原形\n",
    "# 表層形(surface), 基本形(base), 品詞(pos), 品詞細分類1(pos1)を辞書型に格納\n",
    "import re\n",
    "def create_dict_list():\n",
    "    with open('data/ch04/neko.txt.mecab', encoding='utf-8') as f:\n",
    "        mecab_output = f.readlines()\n",
    "    i=0\n",
    "    dict_list = []\n",
    "    for line in mecab_output:\n",
    "        if re.search('EOS', line): break\n",
    "        dict = {}\n",
    "        line_splited = re.findall('(.*?)\\t(.*)', line)\n",
    "        dict['surface'] = line_splited[0][0]\n",
    "        dict['base'] = line_splited[0][1].split(',')[6]\n",
    "        dict['pos']  = line_splited[0][1].split(',')[0]\n",
    "        dict['pos1'] = line_splited[0][1].split(',')[1]\n",
    "        dict_list.append(dict)\n",
    "    return dict_list\n",
    "\n",
    "dict_list = create_dict_list()\n",
    "\n",
    "print(f'display first 10 dict\\n\\n{dict_list[:10]}')"
   ]
  },
  {
   "cell_type": "code",
   "execution_count": 3,
   "id": "0be680a4",
   "metadata": {},
   "outputs": [
    {
     "name": "stdout",
     "output_type": "stream",
     "text": [
      "display first 30 verbs\n",
      "\n",
      "['生れ', 'つか', 'し', '泣い', 'し', 'いる', '始め', '見', '聞く', '捕え', '煮', '食う', '思わ', '載せ', 'られ', '持ち上げ', 'られ', 'し', 'あっ', '落ちつい', '見', '見', '思っ', '残っ', 'いる', 'さ', 'れ', 'し', '逢っ', '出会わ']\n"
     ]
    }
   ],
   "source": [
    "# 31. 動詞\n",
    "# create_dict_list: def in 30\n",
    "dict_list = create_dict_list()\n",
    "verb_surface_list = [dict['surface'] for dict in dict_list if dict['pos'] == '動詞']\n",
    "\n",
    "print(f'display first 30 verbs\\n\\n{verb_surface_list[:30]}')"
   ]
  },
  {
   "cell_type": "code",
   "execution_count": 4,
   "id": "2adf2b8a",
   "metadata": {},
   "outputs": [
    {
     "name": "stdout",
     "output_type": "stream",
     "text": [
      "display first 30 verbs' stem\n",
      "\n",
      "['生れる', 'つく', 'する', '泣く', 'する', 'いる', '始める', '見る', '聞く', '捕える', '煮る', '食う', '思う', '載せる', 'られる', '持ち上げる', 'られる', 'する', 'ある', '落ちつく', '見る', '見る', '思う', '残る', 'いる', 'する', 'れる', 'する', '逢う', '出会う']\n"
     ]
    }
   ],
   "source": [
    "# 32. 動詞の基本形\n",
    "dict_list = create_dict_list()\n",
    "verb_surface_list = [dict['base'] for dict in dict_list if dict['pos'] == '動詞']\n",
    "\n",
    "print(f'display first 30 verbs\\' stem\\n\\n{verb_surface_list[:30]}')"
   ]
  },
  {
   "cell_type": "code",
   "execution_count": 5,
   "id": "39946324",
   "metadata": {},
   "outputs": [
    {
     "name": "stdout",
     "output_type": "stream",
     "text": [
      "display first 30 \"B of A\"\n",
      "\n",
      "['彼の掌', '掌の上', '書生の顔', 'はずの顔', '顔の真中', '穴の中', '書生の掌', '掌の裏', '何の事', '肝心の母親', '藁の上', '笹原の中', '池の前', '池の上', '一樹の蔭', '垣根の穴', '隣家の三', '時の通路', '一刻の猶予', '家の内', '彼の書生', '以外の人間', '前の書生', 'おさんの隙', 'おさんの三', '胸の痞', '家の主人', '主人の方', '鼻の下', '吾輩の顔']\n"
     ]
    }
   ],
   "source": [
    "# 33. 「AのB」\n",
    "dict_list = create_dict_list()\n",
    "b_of_a_list = []\n",
    "for i in range(len(dict_list)-2):\n",
    "    if (dict_list[i]['pos']=='名詞') & (dict_list[i+1]['surface']=='の') & (dict_list[i+2]['pos']=='名詞'):\n",
    "        b_of_a_list.append(dict_list[i]['surface']+dict_list[i+1]['surface']+dict_list[i+2]['surface'])\n",
    "\n",
    "print(f'display first 30 \"B of A\"\\n\\n{b_of_a_list[:30]}')"
   ]
  },
  {
   "cell_type": "code",
   "execution_count": 6,
   "id": "5c6842ff",
   "metadata": {},
   "outputs": [
    {
     "name": "stdout",
     "output_type": "stream",
     "text": [
      "display first 30 noun conjugations\n",
      "\n",
      "['人間中', '一番獰悪', '時妙', '一毛', 'その後猫', '一度', 'ぷうぷうと煙', '邸内', '三毛', '書生以外', '四五遍', 'この間おさん', '三馬', '御台所', 'まま奥', '住家', '終日書斎', '勉強家', '勉強家', '勤勉家', '二三ページ', '主人以外', '限り吾輩', '朝主人', '一番心持', '二人', '一つ床', '一人', '最後大変', '——猫']\n"
     ]
    }
   ],
   "source": [
    "# 34. 名詞の連接(conjugation)\n",
    "dict_list = create_dict_list()\n",
    "noun_conjugation_list = []\n",
    "i = 0\n",
    "while i<len(dict_list)-1:\n",
    "    if (dict_list[i]['pos']=='名詞') & (dict_list[i+1]['pos']=='名詞'):\n",
    "        noun_conjugation = ''\n",
    "        while dict_list[i]['pos']=='名詞':\n",
    "            noun_conjugation += dict_list[i]['surface']\n",
    "            i += 1\n",
    "        noun_conjugation_list.append(noun_conjugation)\n",
    "    else:\n",
    "        i += 1\n",
    "\n",
    "print(f'display first 30 noun conjugations\\n\\n{noun_conjugation_list[:30]}')"
   ]
  },
  {
   "cell_type": "code",
   "execution_count": 7,
   "id": "962694ac",
   "metadata": {},
   "outputs": [
    {
     "name": "stdout",
     "output_type": "stream",
     "text": [
      "display the 30 most frequent words\n",
      "\n",
      "[('の', 9194), ('。', 7486), ('て', 6873), ('、', 6772), ('は', 6422), ('に', 6268), ('を', 6071), ('と', 5515), ('が', 5339), ('た', 3989), ('で', 3813), ('「', 3231), ('」', 3225), ('も', 2479), ('ない', 2391), ('だ', 2367), ('し', 2328), ('から', 2043), ('ある', 1730), ('な', 1612), ('ん', 1568), ('か', 1531), ('いる', 1251), ('事', 1207), ('へ', 1034), ('する', 998), ('う', 992), ('もの', 981), ('君', 973), ('です', 973)]\n"
     ]
    }
   ],
   "source": [
    "# 35. 単語の出現頻度\n",
    "from collections import Counter\n",
    "dict_list = create_dict_list()\n",
    "word_list = [dict['surface'] for dict in dict_list]\n",
    "\n",
    "word_counter = Counter(word_list).most_common()\n",
    "\n",
    "print(f'display the 30 most frequent words\\n\\n{word_counter[:30]}')"
   ]
  },
  {
   "cell_type": "code",
   "execution_count": 8,
   "id": "6a26d267",
   "metadata": {},
   "outputs": [
    {
     "data": {
      "image/png": "[encoded data removed]",
      "text/plain": [
       "<Figure size 432x288 with 1 Axes>"
      ]
     },
     "metadata": {
      "needs_background": "light"
     },
     "output_type": "display_data"
    }
   ],
   "source": [
    "# 36. 頻度上位10語\n",
    "# using code in 35\n",
    "from collections import Counter\n",
    "import matplotlib.pyplot as plt\n",
    "import japanize_matplotlib\n",
    "dict_list = create_dict_list()\n",
    "word_list = [dict['surface'] for dict in dict_list]\n",
    "\n",
    "word_counter = Counter(word_list).most_common()\n",
    "\n",
    "left = [i for i in range(10)]\n",
    "height = [word[1] for word in word_counter][:10]\n",
    "label  = [word[0] for word in word_counter][:10]\n",
    "\n",
    "plt.bar(left, height, tick_label=label)\n",
    "plt.xlabel('word')\n",
    "plt.ylabel('word count')\n",
    "plt.title('the 10 most frequent words')\n",
    "plt.show()"
   ]
  },
  {
   "cell_type": "code",
   "execution_count": 9,
   "id": "764d5e16",
   "metadata": {},
   "outputs": [
    {
     "data": {
      "image/png": "[encoded data removed]",
      "text/plain": [
       "<Figure size 432x288 with 1 Axes>"
      ]
     },
     "metadata": {
      "needs_background": "light"
     },
     "output_type": "display_data"
    }
   ],
   "source": [
    "# 37. 「猫」と共起頻度の高い上位10語\n",
    "# using code in 36\n",
    "from collections import Counter\n",
    "import matplotlib.pyplot as plt\n",
    "import japanize_matplotlib\n",
    "dict_list = create_dict_list()\n",
    "word_list = [dict['surface'] for dict in dict_list]\n",
    "\n",
    "bigram_collocate_list = []\n",
    "for i in range(len(word_list)-1):\n",
    "    if word_list[i]=='猫':\n",
    "        bigram_collocate_list += [word_list[i-1], word_list[i+1]]\n",
    "\n",
    "collocate_counter = Counter(bigram_collocate_list).most_common()\n",
    "\n",
    "left = [i for i in range(10)]\n",
    "height = [word[1] for word in collocate_counter][:10]\n",
    "label  = [word[0] for word in collocate_counter][:10]\n",
    "\n",
    "plt.bar(left, height, tick_label=label)\n",
    "plt.xlabel('word')\n",
    "plt.ylabel('collocation count')\n",
    "plt.title('the 10 most collocates with cat')\n",
    "plt.show()"
   ]
  },
  {
   "cell_type": "code",
   "execution_count": 10,
   "id": "616d59b1",
   "metadata": {},
   "outputs": [
    {
     "data": {
      "image/png": "[encoded data removed]",
      "text/plain": [
       "<Figure size 432x288 with 1 Axes>"
      ]
     },
     "metadata": {
      "needs_background": "light"
     },
     "output_type": "display_data"
    }
   ],
   "source": [
    "# 38. ヒストグラム\n",
    "# using code in 36\n",
    "from collections import Counter\n",
    "import matplotlib.pyplot as plt\n",
    "dict_list = create_dict_list()\n",
    "word_list = [dict['surface'] for dict in dict_list]\n",
    "\n",
    "# word_counter: {'word': count}\n",
    "# count_list  : [count]\n",
    "word_counter = Counter(word_list)\n",
    "count_list   = word_counter.values()\n",
    "\n",
    "plt.hist(count_list, log=True)\n",
    "plt.xlabel('word count')\n",
    "plt.ylabel('number of words')\n",
    "plt.title('word frequency')\n",
    "plt.show()"
   ]
  },
  {
   "cell_type": "code",
   "execution_count": 11,
   "id": "5d75ad98",
   "metadata": {},
   "outputs": [
    {
     "data": {
      "image/png": "[encoded data removed]",
      "text/plain": [
       "<Figure size 432x288 with 1 Axes>"
      ]
     },
     "metadata": {
      "needs_background": "light"
     },
     "output_type": "display_data"
    }
   ],
   "source": [
    "# 39. Zipfの法則\n",
    "# using code in 38\n",
    "from collections import Counter\n",
    "import pandas as pd\n",
    "import matplotlib.pyplot as plt\n",
    "dict_list = create_dict_list()\n",
    "word_list = [dict['surface'] for dict in dict_list]\n",
    "\n",
    "# word_counter: {'word': count}\n",
    "# count_list  : [count]\n",
    "# df: pd(counts, rank) (descending by counts)\n",
    "word_counter = Counter(word_list)\n",
    "count_list   = list(word_counter.values())\n",
    "df = pd.DataFrame({'counts':count_list})\n",
    "df.sort_values('counts', ascending=False, inplace=True)\n",
    "df['rank'] = df.counts.rank(ascending=False, method='min')\n",
    "\n",
    "plt.scatter(list(df['rank']), list(df['counts']))\n",
    "plt.loglog()\n",
    "plt.xlabel('rank of word count')\n",
    "plt.ylabel('word count')\n",
    "plt.title('low of Zipf')\n",
    "plt.show()"
   ]
  },
  {
   "cell_type": "code",
   "execution_count": null,
   "id": "a9f0006e",
   "metadata": {},
   "outputs": [],
   "source": []
  }
 ],
 "metadata": {
  "kernelspec": {
   "display_name": "Python 3 (ipykernel)",
   "language": "python",
   "name": "python3"
  },
  "language_info": {
   "codemirror_mode": {
    "name": "ipython",
    "version": 3
   },
   "file_extension": ".py",
   "mimetype": "text/x-python",
   "name": "python",
   "nbconvert_exporter": "python",
   "pygments_lexer": "ipython3",
   "version": "3.9.7"
  }
 },
 "nbformat": 4,
 "nbformat_minor": 5
}
