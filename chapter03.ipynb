{
 "cells": [
  {
   "cell_type": "code",
   "execution_count": 1,
   "id": "0ff24a9f",
   "metadata": {},
   "outputs": [
    {
     "name": "stdout",
     "output_type": "stream",
     "text": [
      "display first 20 lines\n",
      "\n",
      "{{redirect|UK}}\n",
      "{{redirect|英国|春秋時代の諸侯国|英 (春秋)}}\n",
      "{{Otheruses|ヨーロッパの国|長崎県・熊本県の郷土料理|いぎりす}}\n",
      "{{基礎情報 国\n",
      "|略名  =イギリス\n",
      "|日本語国名 = グレートブリテン及び北アイルランド連合王国\n",
      "|公式国名 = {{lang|en|United Kingdom of Great Britain and Northern Ireland}}<ref>英語以外での正式国名:<br />\n",
      "*{{lang|gd|An Rìoghachd Aonaichte na Breatainn Mhòr agus Eirinn mu Thuath}}（[[スコットランド・ゲール語]]）\n",
      "*{{lang|cy|Teyrnas Gyfunol Prydain Fawr a Gogledd Iwerddon}}（[[ウェールズ語]]）\n",
      "*{{lang|ga|Ríocht Aontaithe na Breataine Móire agus Tuaisceart na hÉireann}}（[[アイルランド語]]）\n",
      "*{{lang|kw|An Rywvaneth Unys a Vreten Veur hag Iwerdhon Glédh}}（[[コーンウォール語]]）\n",
      "*{{lang|sco|Unitit Kinrick o Great Breetain an Northren Ireland}}（[[スコットランド語]]）\n",
      "**{{lang|sco|Claught Kängrick o Docht Brätain an Norlin Airlann}}、{{lang|sco|Unitet Kängdom o Great Brittain an Norlin Airlann}}（アルスター・スコットランド語）</ref>\n",
      "|国旗画像 = Flag of the United Kingdom.svg\n",
      "|国章画像 = [[ファイル:Royal Coat of Arms of the United Kingdom.svg|85px|イギリスの国章]]\n",
      "|国章リンク =（[[イギリスの国章|国章]]）\n",
      "|標語 = {{lang|fr|[[Dieu et mon droit]]}}<br />（[[フランス語]]:[[Dieu et mon droit|神と我が権利]]）\n",
      "|国歌 = [[女王陛下万歳|{{lang|en|God Save the Queen}}]]{{en icon}}<br />''神よ女王を護り賜え''<br />{{center|[[ファイル:United States Navy Band - God Save the Queen.ogg]]}}\n",
      "|地図画像 = Europe-UK.svg\n",
      "|位置画像 = United Kingdom (+overseas territories) in the World (+Antarctica claims).svg\n"
     ]
    }
   ],
   "source": [
    "# 20. JSONデータの読み込み\n",
    "import pandas as pd\n",
    "\n",
    "def read_UK():\n",
    "    df_gzip = pd.read_json('data/ch03/jawiki-country.json.gz', lines=True, compression='infer')\n",
    "    UK_text = df_gzip.query('title==\"イギリス\"')['text'].values[0]\n",
    "    return UK_text\n",
    "\n",
    "UK_text = read_UK()\n",
    "UK_lines = UK_text.split('\\n')\n",
    "\n",
    "print('display first 20 lines\\n')\n",
    "for num, line in enumerate(UK_lines):\n",
    "    if num>=20: break\n",
    "    print(line)"
   ]
  },
  {
   "cell_type": "code",
   "execution_count": 2,
   "id": "21acd7b8",
   "metadata": {},
   "outputs": [
    {
     "name": "stdout",
     "output_type": "stream",
     "text": [
      "[[Category:イギリス|*]]\n",
      "[[Category:イギリス連邦加盟国]]\n",
      "[[Category:英連邦王国|*]]\n",
      "[[Category:G8加盟国]]\n",
      "[[Category:欧州連合加盟国|元]]\n",
      "[[Category:海洋国家]]\n",
      "[[Category:現存する君主国]]\n",
      "[[Category:島国]]\n",
      "[[Category:1801年に成立した国家・領域]]\n"
     ]
    }
   ],
   "source": [
    "# 21. カテゴリ名を含む行を抽出\n",
    "# read_UK: def in 20\n",
    "UK_text = read_UK()\n",
    "UK_lines = UK_text.split('\\n')\n",
    "\n",
    "category_lines = []\n",
    "for line in UK_lines:\n",
    "    if '[Category' in line:\n",
    "        category_lines.append(line)\n",
    "        print(line)"
   ]
  },
  {
   "cell_type": "code",
   "execution_count": 3,
   "id": "d0988914",
   "metadata": {},
   "outputs": [
    {
     "name": "stdout",
     "output_type": "stream",
     "text": [
      "['イギリス|*', 'イギリス連邦加盟国', '英連邦王国|*', 'G8加盟国', '欧州連合加盟国|元', '海洋国家', '現存する君主国', '島国', '1801年に成立した国家・領域']\n"
     ]
    }
   ],
   "source": [
    "# 22. カテゴリ名の抽出\n",
    "'''\n",
    "# using code in 21\n",
    "UK_text = read_UK()\n",
    "UK_lines = UK_text.split('\\n')\n",
    "\n",
    "categorys = []\n",
    "for line in UK_lines:\n",
    "    # Category names are surrounded by '[[Category:' and ']]' \n",
    "    if '[Category' in line:\n",
    "        categorys.append(line[11:-2])\n",
    "        print(line[11:-2])\n",
    "'''\n",
    "\n",
    "# using re module\n",
    "import re\n",
    "\n",
    "UK_text = read_UK()\n",
    "\n",
    "# Category names are surrounded by '[[Category:' and ']]' \n",
    "category_template = r'Category:(.*?)]'\n",
    "categorys = re.findall(category_template, UK_text)\n",
    "print(categorys)"
   ]
  },
  {
   "cell_type": "code",
   "execution_count": 4,
   "id": "fd743134",
   "metadata": {},
   "outputs": [
    {
     "name": "stdout",
     "output_type": "stream",
     "text": [
      "display first 20 sections\n",
      "\n",
      "section name: 国名, \tlevel: 2\n",
      "section name: 歴史, \tlevel: 2\n",
      "section name: 地理, \tlevel: 2\n",
      "section name: 主要都市, \tlevel: 3\n",
      "section name: 気候, \tlevel: 3\n",
      "section name: 政治, \tlevel: 2\n",
      "section name: 元首, \tlevel: 3\n",
      "section name: 法, \tlevel: 3\n",
      "section name: 内政, \tlevel: 3\n",
      "section name: 地方行政区分, \tlevel: 3\n",
      "section name: 外交・軍事, \tlevel: 3\n",
      "section name: 経済, \tlevel: 2\n",
      "section name: 鉱業, \tlevel: 3\n",
      "section name: 農業, \tlevel: 3\n",
      "section name: 貿易, \tlevel: 3\n",
      "section name: 不動産, \tlevel: 3\n",
      "section name: エネルギー政策, \tlevel: 3\n",
      "section name: 通貨, \tlevel: 3\n",
      "section name: 企業, \tlevel: 3\n",
      "section name: 通信, \tlevel: 4\n"
     ]
    }
   ],
   "source": [
    "# 23. セクション構造\n",
    "import re\n",
    "\n",
    "UK_text = read_UK()\n",
    "\n",
    "section_template = r'==+.*==+'\n",
    "sections = re.findall(section_template, UK_text)\n",
    "\n",
    "print('display first 20 sections\\n')\n",
    "for num, section in enumerate(sections):\n",
    "    section_name, section_level = re.subn('=', '', section)\n",
    "    section_name = re.sub(' ', '', section_name)\n",
    "    if num<20:\n",
    "        print(f'section name: {section_name}, \\tlevel: {int(section_level/2)}')"
   ]
  },
  {
   "cell_type": "code",
   "execution_count": 5,
   "id": "f9d38a08",
   "metadata": {},
   "outputs": [
    {
     "name": "stdout",
     "output_type": "stream",
     "text": [
      "display first 20 files\n",
      "\n",
      "Flag of the United Kingdom.svg\n",
      "Royal Coat of Arms of the United Kingdom.svg\n",
      "United States Navy Band - God Save the Queen.ogg\n",
      "Europe-UK.svg\n",
      "United Kingdom (+overseas territories) in the World (+Antarctica claims).svg\n",
      "Descriptio Prime Tabulae Europae.jpg\n",
      "Lenepveu, Jeanne d'Arc au siège d'Orléans.jpg\n",
      "London.bankofengland.arp.jpg\n",
      "Battle of Waterloo 1815.PNG\n",
      "Uk topo en.jpg\n",
      "BenNevis2005.jpg\n",
      "Population density UK 2011 census.png\n",
      "2019 Greenwich Peninsula & Canary Wharf.jpg\n",
      "Birmingham Skyline from Edgbaston Cricket Ground crop.jpg\n",
      "Leeds CBD at night.jpg\n",
      "Glasgow and the Clyde from the air (geograph 4665720).jpg\n",
      "Palace of Westminster, London - Feb 2007.jpg\n",
      "Scotland Parliament Holyrood.jpg\n",
      "Donald Trump and Theresa May (33998675310) (cropped).jpg\n",
      "Soldiers Trooping the Colour, 16th June 2007.jpg\n"
     ]
    }
   ],
   "source": [
    "# 24. ファイル参照の抽出\n",
    "# files are usually written like '[[ファイル:Wikipedia-logo-v2-ja.png|thumb|説明文]]'\n",
    "# some files are written without 'ファイル:'\n",
    "# file extension is jpg, jpeg, png, svg, or ogg\n",
    "import re\n",
    "\n",
    "UK_text = read_UK()\n",
    "\n",
    "# extract all files\n",
    "file_template = r'(:|= |\\n)([^:\\n=]+?)(jpg|jpeg|png|svg|ogg)'\n",
    "file_list = re.findall(file_template, UK_text, re.IGNORECASE)\n",
    "\n",
    "files = []\n",
    "print('display first 20 files\\n')\n",
    "for num, file in enumerate(file_list):\n",
    "    files.append(''.join(file[1:3]))\n",
    "    if num<20:\n",
    "        print(f'{file[1]}{file[2]}')"
   ]
  },
  {
   "cell_type": "code",
   "execution_count": 6,
   "id": "68673d74",
   "metadata": {},
   "outputs": [
    {
     "name": "stdout",
     "output_type": "stream",
     "text": [
      "{'略名': 'イギリス', '日本語国名': ' グレートブリテン及び北アイルランド連合王国', '公式国名': ' {{lang|en|United Kingdom of Great Britain and Northern Ireland}}', '国旗画像': ' Flag of the United Kingdom.svg', '国章画像': ' [[ファイル:Royal Coat of Arms of the United Kingdom.svg|85px|イギリスの国章]]', '国章リンク': '（[[イギリスの国章|国章]]）', '標語': ' {{lang|fr|[[Dieu et mon droit]]}}<br />（[[フランス語]]:[[Dieu et mon droit|神と我が権利]]）', '国歌': \" [[女王陛下万歳|{{lang|en|God Save the Queen}}]]{{en icon}}<br />''神よ女王を護り賜え''<br />{{center|[[ファイル:United States Navy Band - God Save the Queen.ogg]]}}\", '地図画像': ' Europe-UK.svg', '位置画像': ' United Kingdom (+overseas territories) in the World (+Antarctica claims).svg', '公用語': ' [[英語]]', '首都': ' [[ロンドン]]（事実上）', '最大都市': ' ロンドン', '元首等肩書': ' [[イギリスの君主|女王]]', '元首等氏名': ' [[エリザベス2世]]', '首相等肩書': ' [[イギリスの首相|首相]]', '首相等氏名': ' [[ボリス・ジョンソン]]', '他元首等肩書1': ' [[貴族院 (イギリス)|貴族院議長]]', '他元首等氏名1': ' [[:en:Norman Fowler, Baron Fowler|ノーマン・ファウラー]]', '他元首等肩書2': ' [[庶民院 (イギリス)|庶民院議長]]', '他元首等氏名2': ' {{仮リンク|リンゼイ・ホイル|en|Lindsay Hoyle}}', '他元首等肩書3': ' [[連合王国最高裁判所|最高裁判所長官]]', '他元首等氏名3': ' [[:en:Brenda Hale, Baroness Hale of Richmond|ブレンダ・ヘイル]]', '面積順位': ' 76', '面積大きさ': ' 1 E11', '面積値': ' 244,820', '水面積率': ' 1.3%', '人口統計年': ' 2018', '人口順位': ' 22', '人口大きさ': ' 1 E7', '人口値': ' 6643万5600', '人口密度値': ' 271', 'GDP統計年元': ' 2012', 'GDP値元': ' 1兆5478億', 'GDP統計年MER': ' 2012', 'GDP順位MER': ' 6', 'GDP値MER': ' 2兆4337億', 'GDP統計年': ' 2012', 'GDP順位': ' 6', 'GDP値': ' 2兆3162億', 'GDP/人': ' 36,727', '建国形態': ' 建国', '確立形態1': ' [[イングランド王国]]／[[スコットランド王国]]<br />（両国とも[[合同法 (1707年)|1707年合同法]]まで）', '確立年月日1': ' 927年／843年', '確立形態2': ' [[グレートブリテン王国]]成立<br />（1707年合同法）', '確立年月日2': ' 1707年{{0}}5月{{0}}1日', '確立形態3': ' [[グレートブリテン及びアイルランド連合王国]]成立<br />（[[合同法 (1800年)|1800年合同法]]）', '確立年月日3': ' 1801年{{0}}1月{{0}}1日', '確立形態4': \" 現在の国号「'''グレートブリテン及び北アイルランド連合王国'''」に変更\", '確立年月日4': ' 1927年{{0}}4月12日', '通貨': ' [[スターリング・ポンド|UKポンド]] (£)', '通貨コード': ' GBP', '時間帯': ' ±0', '夏時間': ' +1', 'ISO 3166-1': ' GB / GBR', 'ccTLD': ' [[.uk]] / [[.gb]]', '国際電話番号': ' 44', '注記': ' <references/>'}\n"
     ]
    }
   ],
   "source": [
    "# 25. テンプレートの抽出\n",
    "# 「基礎情報」テンプレート \"|フィールド名 = 値(\\n or <ref~)\"\n",
    "import re\n",
    "\n",
    "# basic info is written before the first '\\n\\n'\n",
    "info_text = read_UK().split('\\n\\n')[0]\n",
    "\n",
    "info_template = r'\\|(.+?)\\s*=(.+?)(\\n|<ref[ >])'\n",
    "info_list = re.findall(info_template, info_text)\n",
    "\n",
    "dict ={}\n",
    "for info in info_list:\n",
    "    if info[0] == 'url': continue\n",
    "    dict[info[0]] = info[1]\n",
    "\n",
    "print(dict)"
   ]
  },
  {
   "cell_type": "code",
   "execution_count": 7,
   "id": "b4dbad48",
   "metadata": {},
   "outputs": [
    {
     "name": "stdout",
     "output_type": "stream",
     "text": [
      "{'略名': 'イギリス', '日本語国名': 'グレートブリテン及び北アイルランド連合王国', '公式国名': 'United Kingdom of Great Britain and Northern Ireland', '国旗画像': 'Flag of the United Kingdom.svg', '国章画像': 'イギリスの国章', '国章リンク': '（国章）', '標語': 'Dieu et mon droit （フランス語:神と我が権利）', '国歌': 'God Save the Queen 神よ女王を護り賜え ファイル:United States Navy Band - God Save the Queen.ogg', '地図画像': 'Europe-UK.svg', '位置画像': 'United Kingdom (+overseas territories) in the World (+Antarctica claims).svg', '公用語': '英語', '首都': 'ロンドン（事実上）', '最大都市': 'ロンドン', '元首等肩書': '女王', '元首等氏名': 'エリザベス2世', '首相等肩書': '首相', '首相等氏名': 'ボリス・ジョンソン', '他元首等肩書1': '貴族院議長', '他元首等氏名1': 'ノーマン・ファウラー', '他元首等肩書2': '庶民院議長', '他元首等氏名2': 'Lindsay Hoyle', '他元首等肩書3': '最高裁判所長官', '他元首等氏名3': 'ブレンダ・ヘイル', '面積順位': '76', '面積大きさ': '1 E11', '面積値': '244,820', '水面積率': '1.3%', '人口統計年': '2018', '人口順位': '22', '人口大きさ': '1 E7', '人口値': '6643万5600', '人口密度値': '271', 'GDP統計年元': '2012', 'GDP値元': '1兆5478億', 'GDP統計年MER': '2012', 'GDP順位MER': '6', 'GDP値MER': '2兆4337億', 'GDP統計年': '2012', 'GDP順位': '6', 'GDP値': '2兆3162億', 'GDP/人': '36,727', '建国形態': '建国', '確立形態1': 'イングランド王国／スコットランド王国 （両国とも1707年合同法まで）', '確立年月日1': '927年／843年', '確立形態2': 'グレートブリテン王国成立 （1707年合同法）', '確立年月日2': '1707年05月01日', '確立形態3': 'グレートブリテン及びアイルランド連合王国成立 （1800年合同法）', '確立年月日3': '1801年01月01日', '確立形態4': '現在の国号「グレートブリテン及び北アイルランド連合王国」に変更', '確立年月日4': '1927年04月12日', '通貨': 'UKポンド (£)', '通貨コード': 'GBP', '時間帯': '±0', '夏時間': '+1', 'ISO 3166-1': 'GB / GBR', 'ccTLD': '.uk / .gb', '国際電話番号': '44', '注記': '<references/>'}\n"
     ]
    }
   ],
   "source": [
    "# 26. 強調マークアップの除去\n",
    "# 27. 内部リンクの除去\n",
    "# 28. MediaWikiマークアップの除去\n",
    "# using code in 25\n",
    "import re\n",
    "\n",
    "# basic info is written before the first '\\n\\n'\n",
    "info_text = read_UK().split('\\n\\n')[0]\n",
    "\n",
    "# if flag is 0: modify [[A|B]] to B\n",
    "# if flag is 1: modify {{A|B}} to B\n",
    "def remove_brackets(str, flag):\n",
    "    brackets = [r'(.*?)\\[\\[(.*?)]](.*)', r'(.*?){{(.*?)}}(.*)']\n",
    "    lines = r'([^{\\[]*)\\|(.*)'\n",
    "    while re.findall(brackets[flag], str):\n",
    "        str_t1 = re.findall(brackets[flag], str)[0]\n",
    "        if re.findall(lines, str_t1[1]):\n",
    "            str_t2 = re.findall(lines, str_t1[1])[0]\n",
    "            str = str_t1[0] + str_t2[1] + str_t1[2]\n",
    "        else:\n",
    "            str = str_t1[0] + str_t1[1] + str_t1[2]\n",
    "    return str\n",
    "\n",
    "def extract_template(info_text):\n",
    "    info_template = r'\\|(.+?)\\s*=(.+?)(\\n|<ref[ >])'\n",
    "    info_list = re.findall(info_template, info_text)\n",
    "    \n",
    "    dict ={}\n",
    "    for info in info_list:\n",
    "        if info[0] == 'url': continue\n",
    "        \n",
    "        # 26 remove emphasis markup\n",
    "        fixed_info = re.sub('\\'', '', info[1])\n",
    "        # 28 format texts\n",
    "        fixed_info = fixed_info.lstrip()\n",
    "        fixed_info = re.sub('<br.*?>', ' ', fixed_info)\n",
    "        fixed_info = re.sub('{{.{1,5}icon}}', '', fixed_info)\n",
    "        \n",
    "        # 27 remove internal links\n",
    "        fixed_info = remove_brackets(fixed_info, 0)\n",
    "        # 28 remove {{}}\n",
    "        fixed_info = remove_brackets(fixed_info, 1)\n",
    "\n",
    "        dict[info[0]] = fixed_info\n",
    "    return dict\n",
    "\n",
    "info_dict = extract_template(info_text)\n",
    "print(info_dict)"
   ]
  },
  {
   "cell_type": "code",
   "execution_count": 8,
   "id": "19afc10d",
   "metadata": {},
   "outputs": [],
   "source": [
    "# 29. 国旗画像のURLを取得する\n",
    "import re\n",
    "\n",
    "# extract_template: def in 26~28\n",
    "info_text = read_UK().split('\\n\\n')[0]\n",
    "info_dict = extract_template(info_text)\n",
    "\n",
    "file_name = info_dict['国旗画像']"
   ]
  },
  {
   "cell_type": "code",
   "execution_count": 9,
   "id": "e06531bf",
   "metadata": {},
   "outputs": [
    {
     "name": "stdout",
     "output_type": "stream",
     "text": [
      "https://upload.wikimedia.org/wikipedia/en/a/ae/Flag_of_the_United_Kingdom.svg\n"
     ]
    }
   ],
   "source": [
    "# MediaWiki API: https://www.mediawiki.org/wiki/API:Imageinfo\n",
    "import requests\n",
    "\n",
    "S = requests.Session()\n",
    "URL = 'https://en.wikipedia.org/w/api.php'\n",
    "PARAMS = {\n",
    "    'action': 'query',\n",
    "    'format': 'json',\n",
    "    'prop': 'imageinfo',\n",
    "    'titles': 'File:'+file_name,\n",
    "    'iiprop': 'url'\n",
    "}\n",
    "\n",
    "R = S.get(url=URL, params=PARAMS)\n",
    "DATA = R.json()\n",
    "\n",
    "PAGES = DATA['query']['pages']\n",
    "\n",
    "for k, v in PAGES.items():\n",
    "    print(v['imageinfo'][0]['url'])"
   ]
  },
  {
   "cell_type": "code",
   "execution_count": null,
   "id": "f3a661dc",
   "metadata": {},
   "outputs": [],
   "source": []
  }
 ],
 "metadata": {
  "kernelspec": {
   "display_name": "Python 3 (ipykernel)",
   "language": "python",
   "name": "python3"
  },
  "language_info": {
   "codemirror_mode": {
    "name": "ipython",
    "version": 3
   },
   "file_extension": ".py",
   "mimetype": "text/x-python",
   "name": "python",
   "nbconvert_exporter": "python",
   "pygments_lexer": "ipython3",
   "version": "3.9.7"
  }
 },
 "nbformat": 4,
 "nbformat_minor": 5
}
