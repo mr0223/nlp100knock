{
 "cells": [
  {
   "cell_type": "markdown",
   "id": "eb012c7c",
   "metadata": {},
   "source": [
    "# 言語処理100本ノック\n",
    "## 第1章：準備運動"
   ]
  },
  {
   "cell_type": "code",
   "execution_count": 33,
   "id": "930430ea",
   "metadata": {},
   "outputs": [
    {
     "name": "stdout",
     "output_type": "stream",
     "text": [
      "desserts\n"
     ]
    }
   ],
   "source": [
    "# 00. 文字列の逆順\n",
    "s = 'stressed'\n",
    "\n",
    "s_rev = s[::-1]\n",
    "\n",
    "print(s_rev)"
   ]
  },
  {
   "cell_type": "code",
   "execution_count": 34,
   "id": "2fc7543b",
   "metadata": {},
   "outputs": [
    {
     "name": "stdout",
     "output_type": "stream",
     "text": [
      "パトカー\n"
     ]
    }
   ],
   "source": [
    "# 01. パタトクカシーー\n",
    "s = 'パタトクカシーー'\n",
    "\n",
    "s_odd = s[::2]\n",
    "\n",
    "print(s_odd)"
   ]
  },
  {
   "cell_type": "code",
   "execution_count": 35,
   "id": "fcd99525",
   "metadata": {},
   "outputs": [
    {
     "name": "stdout",
     "output_type": "stream",
     "text": [
      "パタトクカシーー\n"
     ]
    }
   ],
   "source": [
    "# 02. 「パトカー」＋「タクシー」＝「パタトクカシーー」\n",
    "s1 = 'パトカー'\n",
    "s2 = 'タクシー'\n",
    "s_joined = ''\n",
    "\n",
    "for i, j in zip(s1,s2):\n",
    "    s_joined += i\n",
    "    s_joined += j\n",
    "\n",
    "print(s_joined)"
   ]
  },
  {
   "cell_type": "code",
   "execution_count": 36,
   "id": "2b663db9",
   "metadata": {},
   "outputs": [
    {
     "name": "stdout",
     "output_type": "stream",
     "text": [
      "[3, 1, 4, 1, 5, 9, 2, 6, 5, 3, 5, 8, 9, 7, 9]\n"
     ]
    }
   ],
   "source": [
    "# 03. 円周率\n",
    "import re\n",
    "\n",
    "s = \"Now I need a drink, alcoholic of course, after the heavy lectures involving quantum mechanics.\"\n",
    "\n",
    "s_splited = re.sub('\\.|,', '', s).split()\n",
    "s_count = [len(s_splited[i]) for i in range(len(s_splited))]\n",
    "\n",
    "print(s_count)"
   ]
  },
  {
   "cell_type": "code",
   "execution_count": 37,
   "id": "a1b15683",
   "metadata": {},
   "outputs": [
    {
     "name": "stdout",
     "output_type": "stream",
     "text": [
      "{'H': 0, 'He': 1, 'Li': 2, 'Be': 3, 'B': 4, 'C': 5, 'N': 6, 'O': 7, 'F': 8, 'Ne': 9, 'Na': 10, 'Mi': 11, 'Al': 12, 'Si': 13, 'P': 14, 'S': 15, 'Cl': 16, 'Ar': 17, 'K': 18, 'Ca': 19}\n"
     ]
    }
   ],
   "source": [
    "# 04. 元素記号\n",
    "s = 'Hi He Lied Because Boron Could Not Oxidize Fluorine. New Nations Might Also Sign Peace Security Clause. Arthur King Can.'\n",
    "mask = [1, 5, 6, 7, 8, 9, 15, 16, 19]\n",
    "dict = {}\n",
    "\n",
    "s_splited = s.split()\n",
    "for i in range(len(s_splited)):\n",
    "    if i+1 in mask:\n",
    "        dict[s_splited[i][:1]] = i\n",
    "    else:\n",
    "        dict[s_splited[i][:2]] = i\n",
    "\n",
    "print(dict)"
   ]
  },
  {
   "cell_type": "code",
   "execution_count": 38,
   "id": "eaed2d49",
   "metadata": {},
   "outputs": [
    {
     "name": "stdout",
     "output_type": "stream",
     "text": [
      "[['I', 'am'], ['am', 'an'], ['an', 'NLPer']]\n",
      "['I ', ' a', 'am', 'm ', ' a', 'an', 'n ', ' N', 'NL', 'LP', 'Pe', 'er']\n"
     ]
    }
   ],
   "source": [
    "# 05. n-gram\n",
    "s = 'I am an NLPer'\n",
    "\n",
    "def make_ngram(s, n):\n",
    "    ngram = []\n",
    "    for i in range(len(s)-n+1):\n",
    "        ngram.append(s[i:i+n])\n",
    "    return ngram\n",
    "\n",
    "s_splited = s.split()\n",
    "word_bigram = make_ngram(s_splited, 2)\n",
    "character_bigram = make_ngram(s, 2)\n",
    "\n",
    "print(word_bigram)\n",
    "print(character_bigram)"
   ]
  },
  {
   "cell_type": "code",
   "execution_count": 39,
   "id": "38eee149",
   "metadata": {},
   "outputs": [
    {
     "name": "stdout",
     "output_type": "stream",
     "text": [
      "union       :  {'ar', 'gr', 'ag', 'ph', 'ap', 'di', 'se', 'pa', 'is', 'ra', 'ad'}\n",
      "intersection:  {'ra', 'ar', 'pa', 'ap'}\n",
      "difference  :  {'is', 'se', 'ad', 'di'}\n",
      "\"se\" is in X:  True\n",
      "\"se\" is in Y:  False\n"
     ]
    }
   ],
   "source": [
    "# 06. 集合\n",
    "s1 = 'paraparaparadise'\n",
    "s2 = 'paragraph'\n",
    "\n",
    "# make_ngram : def in \"05. ngram\"\n",
    "X = set(make_ngram(s1, 2))\n",
    "Y = set(make_ngram(s2, 2))\n",
    "\n",
    "union = X|Y\n",
    "intersection = X&Y\n",
    "difference = X-Y\n",
    "in_X = 'se' in X\n",
    "in_Y = 'se' in Y\n",
    "\n",
    "print('union       : ', union)\n",
    "print('intersection: ', intersection)\n",
    "print('difference  : ', difference)\n",
    "print('\"se\" is in X: ', in_X)\n",
    "print('\"se\" is in Y: ', in_Y)"
   ]
  },
  {
   "cell_type": "code",
   "execution_count": 40,
   "id": "9b62bf8e",
   "metadata": {},
   "outputs": [
    {
     "name": "stdout",
     "output_type": "stream",
     "text": [
      "12時の気温は22.4\n"
     ]
    }
   ],
   "source": [
    "# 07. テンプレートによる文生成\n",
    "x = 12\n",
    "y = \"気温\"\n",
    "z = 22.4\n",
    "\n",
    "def y_at_x_is_z(x, y, z):\n",
    "    return str(x) + \"時の\" + str(y) + \"は\" + str(z)\n",
    "\n",
    "s = y_at_x_is_z(x, y ,z)\n",
    "\n",
    "print(s)"
   ]
  },
  {
   "cell_type": "code",
   "execution_count": 41,
   "id": "10a2ff43",
   "metadata": {},
   "outputs": [
    {
     "name": "stdout",
     "output_type": "stream",
     "text": [
      "I zn zm NLPvi.\n",
      "I am an NLPer.\n"
     ]
    }
   ],
   "source": [
    "# 08. 暗号文\n",
    "import re\n",
    "\n",
    "s = 'I am an NLPer.'\n",
    "\n",
    "def cipher(s):\n",
    "    lower = re.compile('[a-z]')\n",
    "    new_s = ''\n",
    "    for i in s:\n",
    "        if lower.match(i):\n",
    "            code = int.from_bytes(i.encode('utf-8'), byteorder='big')\n",
    "            new_code = 219 - code\n",
    "            new_s += new_code.to_bytes(1, 'big').decode('utf-8')\n",
    "        else:\n",
    "            new_s += i\n",
    "    return new_s\n",
    "\n",
    "s_encrypted = cipher(s)\n",
    "s_decrypted = cipher(s_encrypted)\n",
    "\n",
    "print(s_encrypted)\n",
    "print(s_decrypted)"
   ]
  },
  {
   "cell_type": "code",
   "execution_count": 42,
   "id": "3ef0659b",
   "metadata": {},
   "outputs": [
    {
     "name": "stdout",
     "output_type": "stream",
     "text": [
      "I c’lodnust bleviee that I culod autlcaly udsentrnad what I was riadeng : the pomannehel pweor of the huamn mind .\n"
     ]
    }
   ],
   "source": [
    "# 09. Typoglycemia\n",
    "import random\n",
    "\n",
    "s = 'I couldn’st believe that I could actually understand what I was reading : the phenomenal power of the human mind .'\n",
    "\n",
    "s_splited = s.split()\n",
    "new_s = ''\n",
    "for i in s_splited:\n",
    "    if len(i) <= 4:\n",
    "        new_s += i\n",
    "    else:\n",
    "        new_s += i[0] + ''.join(random.sample(i[1:-1], len(i)-2)) + i[-1]\n",
    "    new_s += ' '\n",
    "new_s = new_s.rstrip()\n",
    "\n",
    "print(new_s)"
   ]
  },
  {
   "cell_type": "code",
   "execution_count": null,
   "id": "40dfdc6b",
   "metadata": {},
   "outputs": [],
   "source": []
  }
 ],
 "metadata": {
  "kernelspec": {
   "display_name": "Python 3 (ipykernel)",
   "language": "python",
   "name": "python3"
  },
  "language_info": {
   "codemirror_mode": {
    "name": "ipython",
    "version": 3
   },
   "file_extension": ".py",
   "mimetype": "text/x-python",
   "name": "python",
   "nbconvert_exporter": "python",
   "pygments_lexer": "ipython3",
   "version": "3.9.7"
  }
 },
 "nbformat": 4,
 "nbformat_minor": 5
}
