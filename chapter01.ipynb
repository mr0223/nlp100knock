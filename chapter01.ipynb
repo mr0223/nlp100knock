{
 "cells": [
  {
   "cell_type": "markdown",
   "id": "eb012c7c",
   "metadata": {},
   "source": [
    "# 言語処理100本ノック\n",
    "## 第1章：準備運動"
   ]
  },
  {
   "cell_type": "code",
   "execution_count": 7,
   "id": "930430ea",
   "metadata": {},
   "outputs": [
    {
     "name": "stdout",
     "output_type": "stream",
     "text": [
      "desserts\n"
     ]
    }
   ],
   "source": [
    "# 00. 文字列の逆順\n",
    "str = 'stressed'\n",
    "\n",
    "str_rev = str[::-1]\n",
    "\n",
    "print(str_rev)"
   ]
  },
  {
   "cell_type": "code",
   "execution_count": 8,
   "id": "2fc7543b",
   "metadata": {},
   "outputs": [
    {
     "name": "stdout",
     "output_type": "stream",
     "text": [
      "パトカー\n"
     ]
    }
   ],
   "source": [
    "# 01. パタトクカシーー\n",
    "str = 'パタトクカシーー'\n",
    "\n",
    "str_odd = str[::2]\n",
    "\n",
    "print(str_odd)"
   ]
  },
  {
   "cell_type": "code",
   "execution_count": 9,
   "id": "fcd99525",
   "metadata": {},
   "outputs": [
    {
     "name": "stdout",
     "output_type": "stream",
     "text": [
      "パタトクカシーー\n"
     ]
    }
   ],
   "source": [
    "# 02. 「パトカー」＋「タクシー」＝「パタトクカシーー」\n",
    "str1 = 'パトカー'\n",
    "str2 = 'タクシー'\n",
    "str_joined = ''\n",
    "\n",
    "for i, j in zip(str1,str2):\n",
    "    str_joined += i\n",
    "    str_joined += j\n",
    "\n",
    "print(str_joined)"
   ]
  },
  {
   "cell_type": "code",
   "execution_count": 16,
   "id": "2b663db9",
   "metadata": {},
   "outputs": [
    {
     "name": "stdout",
     "output_type": "stream",
     "text": [
      "[3, 1, 4, 1, 5, 9, 2, 6, 5, 3, 5, 8, 9, 7, 9]\n"
     ]
    }
   ],
   "source": [
    "# 03. 円周率\n",
    "import re\n",
    "\n",
    "str = \"Now I need a drink, alcoholic of course, after the heavy lectures involving quantum mechanics.\"\n",
    "\n",
    "str_splited = re.sub('\\.|,', '', str).split()\n",
    "str_count = [len(str_splited[i]) for i in range(len(str_splited))]\n",
    "\n",
    "print(str_count)"
   ]
  },
  {
   "cell_type": "code",
   "execution_count": 26,
   "id": "a1b15683",
   "metadata": {},
   "outputs": [
    {
     "name": "stdout",
     "output_type": "stream",
     "text": [
      "{'H': 0, 'He': 1, 'Li': 2, 'Be': 3, 'B': 4, 'C': 5, 'N': 6, 'O': 7, 'F': 8, 'Ne': 9, 'Na': 10, 'Mi': 11, 'Al': 12, 'Si': 13, 'P': 14, 'S': 15, 'Cl': 16, 'Ar': 17, 'K': 18, 'Ca': 19}\n"
     ]
    }
   ],
   "source": [
    "# 04. 元素記号\n",
    "str = 'Hi He Lied Because Boron Could Not Oxidize Fluorine. New Nations Might Also Sign Peace Security Clause. Arthur King Can.'\n",
    "mask = [1, 5, 6, 7, 8, 9, 15, 16, 19]\n",
    "dict = {}\n",
    "\n",
    "str_splited = str.split()\n",
    "for i in range(len(str_splited)):\n",
    "    if i+1 in mask:\n",
    "        dict[str_splited[i][:1]] = i\n",
    "    else:\n",
    "        dict[str_splited[i][:2]] = i\n",
    "\n",
    "print(dict)"
   ]
  },
  {
   "cell_type": "code",
   "execution_count": 30,
   "id": "eaed2d49",
   "metadata": {},
   "outputs": [
    {
     "name": "stdout",
     "output_type": "stream",
     "text": [
      "[['I', 'am'], ['am', 'an'], ['an', 'NLPer']]\n",
      "[['I', ' '], [' ', 'a'], ['a', 'm'], ['m', ' '], [' ', 'a'], ['a', 'n'], ['n', ' '], [' ', 'N'], ['N', 'L'], ['L', 'P'], ['P', 'e'], ['e', 'r']]\n"
     ]
    }
   ],
   "source": [
    "# 05. n-gram\n",
    "str = 'I am an NLPer'\n",
    "\n",
    "def make_ngram(str, n):\n",
    "    ngram = []\n",
    "    for i in range(len(str)-n+1):\n",
    "        ngram.append([str[j] for j in range(i, i+n)])\n",
    "    return ngram\n",
    "\n",
    "str_splited = str.split()\n",
    "word_bigram = make_ngram(str_splited, 2)\n",
    "character_bigram = make_ngram(str, 2)\n",
    "\n",
    "print(word_bigram)\n",
    "print(character_bigram)"
   ]
  },
  {
   "cell_type": "code",
   "execution_count": null,
   "id": "38eee149",
   "metadata": {},
   "outputs": [],
   "source": []
  }
 ],
 "metadata": {
  "kernelspec": {
   "display_name": "Python 3 (ipykernel)",
   "language": "python",
   "name": "python3"
  },
  "language_info": {
   "codemirror_mode": {
    "name": "ipython",
    "version": 3
   },
   "file_extension": ".py",
   "mimetype": "text/x-python",
   "name": "python",
   "nbconvert_exporter": "python",
   "pygments_lexer": "ipython3",
   "version": "3.9.7"
  }
 },
 "nbformat": 4,
 "nbformat_minor": 5
}
