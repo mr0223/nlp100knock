{
 "cells": [
  {
   "cell_type": "markdown",
   "id": "309cbab6",
   "metadata": {},
   "source": [
    "## 80. ID番号への変換\n",
    "1. ~~単語をIDに変換する辞書を作成・保存(重いため,2回目以降はセル2を実行)~~\n",
    "2. 辞書の読み込み\n",
    "3. 単語列をID列に変換する関数"
   ]
  },
  {
   "cell_type": "code",
   "execution_count": 2,
   "id": "bc390a45",
   "metadata": {},
   "outputs": [],
   "source": [
    "# pklファイルから読み込み\n",
    "import pickle\n",
    "\n",
    "with open('../data/ch09/name_to_id.pkl', 'rb') as tf:\n",
    "    name_to_id = pickle.load(tf)"
   ]
  },
  {
   "cell_type": "code",
   "execution_count": 3,
   "id": "bd0b8d74",
   "metadata": {},
   "outputs": [],
   "source": [
    "# 与えられた単語列に対し, ID番号の列を返す関数\n",
    "# ch06ではCountVectorizerを利用したため, 今回もCountVectorizerを活用する\n",
    "from sklearn.feature_extraction.text import CountVectorizer\n",
    "\n",
    "def convert_words_to_ids(words):\n",
    "    '''\n",
    "    input :words(単語列)\n",
    "    output:ids(ID番号列)\n",
    "    '''\n",
    "    # analyzer: 単語列に前処理を加え, listに変換する関数\n",
    "    analyzer = CountVectorizer().build_analyzer()\n",
    "    word_list = analyzer(words)\n",
    "    \n",
    "    ids = []\n",
    "    for word in word_list:\n",
    "        if word in name_to_id:\n",
    "            ids.append(name_to_id[word])\n",
    "        else:\n",
    "            ids.append(0)  # 未知語の場合, IDを0とする\n",
    "    \n",
    "    return ids"
   ]
  },
  {
   "cell_type": "markdown",
   "id": "a8587b66",
   "metadata": {},
   "source": [
    "## GPU prepare\n",
    "1. 使用可能GPUの確認\n",
    "2. GPUの指定\n",
    "3. PyTorchで利用できるGPU数の確認"
   ]
  },
  {
   "cell_type": "code",
   "execution_count": 4,
   "id": "4b8a87e3",
   "metadata": {},
   "outputs": [
    {
     "name": "stdout",
     "output_type": "stream",
     "text": [
      "Mon Aug  1 05:04:25 2022       \n",
      "+-----------------------------------------------------------------------------+\n",
      "| NVIDIA-SMI 470.57.02    Driver Version: 470.57.02    CUDA Version: 11.4     |\n",
      "|-------------------------------+----------------------+----------------------+\n",
      "| GPU  Name        Persistence-M| Bus-Id        Disp.A | Volatile Uncorr. ECC |\n",
      "| Fan  Temp  Perf  Pwr:Usage/Cap|         Memory-Usage | GPU-Util  Compute M. |\n",
      "|                               |                      |               MIG M. |\n",
      "|===============================+======================+======================|\n",
      "|   0  NVIDIA RTX A6000    On   | 00000000:01:00.0 Off |                  Off |\n",
      "| 30%   38C    P2   150W / 300W |   1445MiB / 48685MiB |    100%      Default |\n",
      "|                               |                      |                  N/A |\n",
      "+-------------------------------+----------------------+----------------------+\n",
      "|   1  NVIDIA RTX A6000    On   | 00000000:25:00.0 Off |                  Off |\n",
      "| 30%   28C    P8    15W / 300W |      5MiB / 48685MiB |      0%      Default |\n",
      "|                               |                      |                  N/A |\n",
      "+-------------------------------+----------------------+----------------------+\n",
      "|   2  NVIDIA RTX A6000    On   | 00000000:41:00.0 Off |                  Off |\n",
      "| 30%   28C    P8    29W / 300W |      5MiB / 48685MiB |      0%      Default |\n",
      "|                               |                      |                  N/A |\n",
      "+-------------------------------+----------------------+----------------------+\n",
      "|   3  NVIDIA RTX A6000    On   | 00000000:61:00.0 Off |                  Off |\n",
      "| 30%   28C    P8    27W / 300W |      5MiB / 48685MiB |      0%      Default |\n",
      "|                               |                      |                  N/A |\n",
      "+-------------------------------+----------------------+----------------------+\n",
      "|   4  NVIDIA RTX A6000    On   | 00000000:81:00.0 Off |                  Off |\n",
      "| 30%   28C    P8    23W / 300W |      5MiB / 48685MiB |      0%      Default |\n",
      "|                               |                      |                  N/A |\n",
      "+-------------------------------+----------------------+----------------------+\n",
      "|   5  NVIDIA RTX A6000    On   | 00000000:A1:00.0 Off |                  Off |\n",
      "| 30%   27C    P8    24W / 300W |      5MiB / 48685MiB |      0%      Default |\n",
      "|                               |                      |                  N/A |\n",
      "+-------------------------------+----------------------+----------------------+\n",
      "|   6  NVIDIA RTX A6000    On   | 00000000:C1:00.0 Off |                  Off |\n",
      "| 30%   28C    P8    15W / 300W |      5MiB / 48685MiB |      0%      Default |\n",
      "|                               |                      |                  N/A |\n",
      "+-------------------------------+----------------------+----------------------+\n",
      "|   7  NVIDIA RTX A6000    On   | 00000000:E1:00.0 Off |                  Off |\n",
      "| 30%   27C    P8    15W / 300W |      5MiB / 48685MiB |      0%      Default |\n",
      "|                               |                      |                  N/A |\n",
      "+-------------------------------+----------------------+----------------------+\n",
      "                                                                               \n",
      "+-----------------------------------------------------------------------------+\n",
      "| Processes:                                                                  |\n",
      "|  GPU   GI   CI        PID   Type   Process name                  GPU Memory |\n",
      "|        ID   ID                                                   Usage      |\n",
      "|=============================================================================|\n",
      "+-----------------------------------------------------------------------------+\n"
     ]
    }
   ],
   "source": [
    "# 使用可能GPUの確認\n",
    "!nvidia-smi"
   ]
  },
  {
   "cell_type": "code",
   "execution_count": 5,
   "id": "772a2530",
   "metadata": {},
   "outputs": [],
   "source": [
    "# GPUの指定\n",
    "import os\n",
    "os.environ['CUDA_VISIBLE_DEVICES'] = '1' #0番を使用するとき"
   ]
  },
  {
   "cell_type": "code",
   "execution_count": 6,
   "id": "4dafe4bf",
   "metadata": {},
   "outputs": [
    {
     "name": "stdout",
     "output_type": "stream",
     "text": [
      "1\n"
     ]
    }
   ],
   "source": [
    "# 確認\n",
    "import torch\n",
    "print(torch.cuda.device_count()) #Pytorchで使用できるGPU数を取得"
   ]
  },
  {
   "cell_type": "markdown",
   "id": "d5f05cde",
   "metadata": {},
   "source": [
    "## prepare\n",
    "1. 語彙数の取得\n",
    "2. 学習データの用意(ラベル)\n",
    "3. 学習データの用意(特徴量)\n",
    "4. 乱数の種を固定"
   ]
  },
  {
   "cell_type": "code",
   "execution_count": 7,
   "id": "090f0044",
   "metadata": {},
   "outputs": [],
   "source": [
    "# 語彙数の取得(ID:0の単語はまとめて1語とする), 未知語, paddingを考慮\n",
    "vocab_size = max(name_to_id.values())+2"
   ]
  },
  {
   "cell_type": "code",
   "execution_count": 8,
   "id": "b7cfbffd",
   "metadata": {},
   "outputs": [],
   "source": [
    "# 訓練・検証・評価データの用意\n",
    "import torch\n",
    "import torch.nn as nn\n",
    "import numpy as np\n",
    "import torch.nn.functional as F\n",
    "\n",
    "# ラベル: ch08の出力を利用\n",
    "Y_train = np.loadtxt('../data/ch08/Y_train.txt')\n",
    "Y_valid = np.loadtxt('../data/ch08/Y_valid.txt')\n",
    "Y_test = np.loadtxt('../data/ch08/Y_test.txt')\n",
    "\n",
    "# pytorch用に変換\n",
    "Y_train_long = torch.tensor(Y_train, dtype=torch.int64)\n",
    "Y_valid_long = torch.tensor(Y_valid, dtype=torch.int64)\n",
    "Y_test_long = torch.tensor(Y_test, dtype=torch.int64)"
   ]
  },
  {
   "cell_type": "code",
   "execution_count": 9,
   "id": "e68740a7",
   "metadata": {},
   "outputs": [],
   "source": [
    "# 特徴量: convert_words_to_ids(80)を利用\n",
    "def convert_text_to_features(fname):\n",
    "    '''\n",
    "    input :fname\n",
    "    output:features(tensor)\n",
    "    '''\n",
    "    with open(fname, encoding='utf-8') as f:\n",
    "        lines = f.readlines()\n",
    "    \n",
    "    # id列(list)のリストに変換\n",
    "    ids_list = [convert_words_to_ids(line) for line in lines]\n",
    "    \n",
    "    # id列(tensor)のリストに変換\n",
    "    ids_tensor = [torch.tensor(ids, dtype=torch.int64) for ids in ids_list]\n",
    "    \n",
    "    # 最大のid+1(vocab_size-1)でパディング\n",
    "    features = torch.nn.utils.rnn.pad_sequence(ids_tensor, batch_first=True, padding_value=vocab_size-1)\n",
    "    \n",
    "    return features\n",
    "\n",
    "# 特徴量抽出\n",
    "X_train_long = convert_text_to_features('../data/ch06/train.txt')\n",
    "X_valid_long = convert_text_to_features('../data/ch06/valid.txt')\n",
    "X_test_long = convert_text_to_features('../data/ch06/test.txt')"
   ]
  },
  {
   "cell_type": "code",
   "execution_count": 10,
   "id": "713279bb",
   "metadata": {},
   "outputs": [],
   "source": [
    "# 乱数シードの固定\n",
    "import random\n",
    "\n",
    "def fix_seed(seed):\n",
    "    # random\n",
    "    random.seed(seed)\n",
    "    # Numpy\n",
    "    np.random.seed(seed)\n",
    "    # Pytorch\n",
    "    torch.manual_seed(seed)\n",
    "    torch.cuda.manual_seed_all(seed)\n",
    "    torch.backends.cudnn.deterministic = True"
   ]
  },
  {
   "cell_type": "markdown",
   "id": "a40ec420",
   "metadata": {},
   "source": [
    "## 86. 畳み込みニューラルネットワーク (CNN)\n",
    "1. CNNの定義\n",
    "2. ~~CNNの予測~~"
   ]
  },
  {
   "cell_type": "code",
   "execution_count": 11,
   "id": "7f7f9df1",
   "metadata": {},
   "outputs": [],
   "source": [
    "# CNNの定義\n",
    "class CNN1(nn.Module):\n",
    "    def __init__(self, vocab_size, embedding_dim, output_size, hidden_size, kernel_size, batch_size):\n",
    "        # 層の定義\n",
    "        super().__init__()\n",
    "        self.batch_size = batch_size\n",
    "        \n",
    "        self.emb = nn.Embedding(vocab_size, embedding_dim, padding_idx=vocab_size-1)\n",
    "        self.conv = nn.Conv2d(1, hidden_size, kernel_size=(kernel_size, embedding_dim), padding=(1,0))\n",
    "        self.relu = nn.ReLU()\n",
    "        self.fc = nn.Linear(hidden_size, output_size)\n",
    "\n",
    "        # GPUに移す\n",
    "        self.device = torch.device('cuda:0' if torch.cuda.is_available() else 'cpu')\n",
    "        self = self.to(self.device)\n",
    "    \n",
    "    def forward(self, x):\n",
    "        # embedding\n",
    "        emb_out = self.emb(x)          # batch_size, sentence_length, emb_dim\n",
    "\n",
    "        # conv\n",
    "        conv_in = emb_out.unsqueeze(1) # batch_size, input_channels, sentence_length, emb_dim\n",
    "        conv_out = self.conv(conv_in)  # batch_size, output_channels, sentence_length+2*pad-kernel+1, 1\n",
    "\n",
    "        # relu\n",
    "        relu_in = conv_out.squeeze(3)  # batch_size, output_channels, sentence_length+2*pad-kernel+1, 1\n",
    "        relu_out = self.relu(relu_in)  # batch_size, output_channels, sentence_length+2*pad-kernel+1\n",
    "\n",
    "        # pool\n",
    "        pool_out = F.max_pool2d(relu_out, kernel_size=(1, relu_out.size(2))) # batch_size, output_channels, 1\n",
    "\n",
    "        # fc\n",
    "        fc_in = pool_out.squeeze(2)    # batch_size, output_channels\n",
    "        fc_out = self.fc(fc_in)        # batch_size, output_size\n",
    "        \n",
    "        return fc_out"
   ]
  },
  {
   "cell_type": "markdown",
   "id": "f4edbf8e",
   "metadata": {},
   "source": [
    "## 87. 確率的勾配降下法によるCNNの学習\n",
    "1. GPUに対応したaccuracy計測関数の定義(CNN)\n",
    "2. CNNの学習"
   ]
  },
  {
   "cell_type": "code",
   "execution_count": 12,
   "id": "5fdb4aad",
   "metadata": {},
   "outputs": [],
   "source": [
    "# accuracyの計測\n",
    "def measure_loss_accuracy3(model, criterion, dataloader):\n",
    "    '''\n",
    "    input : model, criterion, dataloader\n",
    "    output: loss, accuracy\n",
    "    '''\n",
    "    running_loss = 0\n",
    "    correct_num = 0\n",
    "    device = model.device\n",
    "    for X, Y in dataloader:\n",
    "        # GPU上に\n",
    "        X = X.to(device)\n",
    "        Y = Y.to(device)\n",
    "        predict_y = model.forward(X)\n",
    "        \n",
    "        # lossの計算\n",
    "        loss = criterion(predict_y, Y)\n",
    "        running_loss += loss.item()\n",
    "        \n",
    "        # accuracyの計算\n",
    "        predict_label = torch.max(predict_y, 1)[1]\n",
    "        for i in range(batch_size):\n",
    "            if predict_label[i] == Y[i]:\n",
    "                correct_num += 1\n",
    "    \n",
    "    loss_avg = running_loss/len(dataloader)\n",
    "    accuracy = correct_num/(len(dataloader)*batch_size)\n",
    "    \n",
    "    return loss_avg, accuracy"
   ]
  },
  {
   "cell_type": "code",
   "execution_count": 13,
   "id": "bfe15259",
   "metadata": {},
   "outputs": [
    {
     "name": "stdout",
     "output_type": "stream",
     "text": [
      "epoch: 0\n",
      "   train loss: 0.713628689682635\ttrain acc: 0.9037813552976414\n",
      "   valid loss: 0.5440245585911567\tvalid acc: 0.8046407185628742\n",
      "epoch: 1\n",
      "   train loss: 0.31365741534471264\ttrain acc: 0.9676151254211905\n",
      "   valid loss: 0.494120385826065\tvalid acc: 0.8226047904191617\n",
      "epoch: 2\n",
      "   train loss: 0.12249027360386901\ttrain acc: 0.9931673530512917\n",
      "   valid loss: 0.5041469171806203\tvalid acc: 0.8293413173652695\n",
      "epoch: 3\n",
      "   train loss: 0.04347333697265642\ttrain acc: 0.9982216398352677\n",
      "   valid loss: 0.4862511499594356\tvalid acc: 0.842814371257485\n",
      "epoch: 4\n",
      "   train loss: 0.028748678184191967\ttrain acc: 0.9985960314488955\n",
      "   valid loss: 0.49526135984142416\tvalid acc: 0.8473053892215568\n",
      "epoch: 5\n",
      "   train loss: 0.02555991309434892\ttrain acc: 0.9984088356420816\n",
      "   valid loss: 0.5000098276475439\tvalid acc: 0.8502994011976048\n",
      "epoch: 6\n",
      "   train loss: 0.0238936185543951\ttrain acc: 0.9984088356420816\n",
      "   valid loss: 0.5057969863123528\tvalid acc: 0.8502994011976048\n",
      "epoch: 7\n",
      "   train loss: 0.023299864228641033\ttrain acc: 0.9983152377386747\n",
      "   valid loss: 0.5125919254716041\tvalid acc: 0.8495508982035929\n",
      "epoch: 8\n",
      "   train loss: 0.022255388382813553\ttrain acc: 0.9983152377386747\n",
      "   valid loss: 0.5182620920132728\tvalid acc: 0.8480538922155688\n",
      "epoch: 9\n",
      "   train loss: 0.021257041818106216\ttrain acc: 0.9984088356420816\n",
      "   valid loss: 0.5223812105898284\tvalid acc: 0.8488023952095808\n"
     ]
    }
   ],
   "source": [
    "# CNNの学習\n",
    "import torch.optim as optim\n",
    "\n",
    "# ハイパーパラメータ\n",
    "embedding_dim = 300\n",
    "hidden_size = 50\n",
    "kernel_size = 3\n",
    "batch_size = 1  # SGD\n",
    "max_epoch = 10\n",
    "lr = 0.002\n",
    "\n",
    "# dataloaderの定義\n",
    "train_dataset2 = torch.utils.data.TensorDataset(X_train_long, Y_train_long)\n",
    "train_dataloader2 = torch.utils.data.DataLoader(train_dataset2, batch_size=batch_size, drop_last=True)\n",
    "\n",
    "valid_dataset2 = torch.utils.data.TensorDataset(X_valid_long, Y_valid_long)\n",
    "valid_dataloader2 = torch.utils.data.DataLoader(valid_dataset2, batch_size=batch_size, drop_last=True)\n",
    "\n",
    "# モデルの定義\n",
    "fix_seed(42)\n",
    "cnn2 = CNN1(vocab_size, embedding_dim, 4, hidden_size, kernel_size, batch_size)\n",
    "criterion5 = nn.CrossEntropyLoss()\n",
    "optimizer5 = optim.SGD(cnn2.parameters(), lr)\n",
    "device = cnn2.device\n",
    "\n",
    "# SGDによる学習\n",
    "for epoch in range(max_epoch):\n",
    "    running_loss = 0\n",
    "    for X, Y in train_dataloader2:\n",
    "        # GPU上に\n",
    "        X = X.to(device)\n",
    "        Y = Y.to(device)\n",
    "        # forward\n",
    "        predict_y = cnn2.forward(X)\n",
    "        loss = criterion5(predict_y, Y)\n",
    "\n",
    "        # backward\n",
    "        optimizer5.zero_grad()\n",
    "        loss.backward()\n",
    "\n",
    "        # 更新\n",
    "        optimizer5.step()\n",
    "        running_loss += loss.item()\n",
    "\n",
    "    # loss, accuracyの表示\n",
    "    valid_loss, valid_acc = measure_loss_accuracy3(cnn2, criterion5, valid_dataloader2)\n",
    "    train_loss, train_acc = measure_loss_accuracy3(cnn2, criterion5, train_dataloader2)\n",
    "    train_loss = running_loss/len(train_dataloader2)\n",
    "    \n",
    "    print(f'epoch: {epoch}')\n",
    "    print(f'   train loss: {train_loss}\\ttrain acc: {train_acc}')\n",
    "    print(f'   valid loss: {valid_loss}\\tvalid acc: {valid_acc}')"
   ]
  },
  {
   "cell_type": "code",
   "execution_count": null,
   "id": "97756306",
   "metadata": {},
   "outputs": [],
   "source": []
  }
 ],
 "metadata": {
  "kernelspec": {
   "display_name": "Python 3.8.13 ('base')",
   "language": "python",
   "name": "python3"
  },
  "language_info": {
   "codemirror_mode": {
    "name": "ipython",
    "version": 3
   },
   "file_extension": ".py",
   "mimetype": "text/x-python",
   "name": "python",
   "nbconvert_exporter": "python",
   "pygments_lexer": "ipython3",
   "version": "3.8.13"
  },
  "vscode": {
   "interpreter": {
    "hash": "d4d1e4263499bec80672ea0156c357c1ee493ec2b1c70f0acce89fc37c4a6abe"
   }
  }
 },
 "nbformat": 4,
 "nbformat_minor": 5
}
