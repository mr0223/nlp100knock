{
 "cells": [
  {
   "cell_type": "markdown",
   "id": "309cbab6",
   "metadata": {},
   "source": [
    "## 80. ID番号への変換\n",
    "1. ~~単語をIDに変換する辞書を作成・保存(重いため,2回目以降はセル2を実行)~~\n",
    "2. 辞書の読み込み\n",
    "3. 単語列をID列に変換する関数"
   ]
  },
  {
   "cell_type": "code",
   "execution_count": 1,
   "id": "bc390a45",
   "metadata": {},
   "outputs": [],
   "source": [
    "# pklファイルから読み込み\n",
    "import pickle\n",
    "\n",
    "with open('../data/ch09/name_to_id.pkl', 'rb') as tf:\n",
    "    name_to_id = pickle.load(tf)"
   ]
  },
  {
   "cell_type": "code",
   "execution_count": 2,
   "id": "bd0b8d74",
   "metadata": {},
   "outputs": [],
   "source": [
    "# 与えられた単語列に対し, ID番号の列を返す関数\n",
    "# ch06ではCountVectorizerを利用したため, 今回もCountVectorizerを活用する\n",
    "from sklearn.feature_extraction.text import CountVectorizer\n",
    "\n",
    "def convert_words_to_ids(words):\n",
    "    '''\n",
    "    input :words(単語列)\n",
    "    output:ids(ID番号列)\n",
    "    '''\n",
    "    # analyzer: 単語列に前処理を加え, listに変換する関数\n",
    "    analyzer = CountVectorizer().build_analyzer()\n",
    "    word_list = analyzer(words)\n",
    "    \n",
    "    ids = []\n",
    "    for word in word_list:\n",
    "        if word in name_to_id:\n",
    "            ids.append(name_to_id[word])\n",
    "        else:\n",
    "            ids.append(0)  # 未知語の場合, IDを0とする\n",
    "    \n",
    "    return ids"
   ]
  },
  {
   "cell_type": "markdown",
   "id": "a8587b66",
   "metadata": {},
   "source": [
    "## GPU prepare\n",
    "1. 使用可能GPUの確認\n",
    "2. GPUの指定\n",
    "3. PyTorchで利用できるGPU数の確認"
   ]
  },
  {
   "cell_type": "code",
   "execution_count": 3,
   "id": "4b8a87e3",
   "metadata": {},
   "outputs": [
    {
     "name": "stdout",
     "output_type": "stream",
     "text": [
      "Tue Jun 14 18:56:18 2022       \n",
      "+-----------------------------------------------------------------------------+\n",
      "| NVIDIA-SMI 471.41       Driver Version: 471.41       CUDA Version: 11.4     |\n",
      "|-------------------------------+----------------------+----------------------+\n",
      "| GPU  Name            TCC/WDDM | Bus-Id        Disp.A | Volatile Uncorr. ECC |\n",
      "| Fan  Temp  Perf  Pwr:Usage/Cap|         Memory-Usage | GPU-Util  Compute M. |\n",
      "|                               |                      |               MIG M. |\n",
      "|===============================+======================+======================|\n",
      "|   0  NVIDIA GeForce ... WDDM  | 00000000:01:00.0 Off |                  N/A |\n",
      "| N/A   62C    P8    N/A /  N/A |     78MiB /  4096MiB |      1%      Default |\n",
      "|                               |                      |                  N/A |\n",
      "+-------------------------------+----------------------+----------------------+\n",
      "                                                                               \n",
      "+-----------------------------------------------------------------------------+\n",
      "| Processes:                                                                  |\n",
      "|  GPU   GI   CI        PID   Type   Process name                  GPU Memory |\n",
      "|        ID   ID                                                   Usage      |\n",
      "|=============================================================================|\n",
      "|  No running processes found                                                 |\n",
      "+-----------------------------------------------------------------------------+\n"
     ]
    }
   ],
   "source": [
    "# 使用可能GPUの確認\n",
    "!nvidia-smi"
   ]
  },
  {
   "cell_type": "code",
   "execution_count": 4,
   "id": "772a2530",
   "metadata": {},
   "outputs": [],
   "source": [
    "# GPUの指定\n",
    "import os\n",
    "os.environ['CUDA_VISIBLE_DEVICES'] = '0' #0番を使用"
   ]
  },
  {
   "cell_type": "code",
   "execution_count": 5,
   "id": "4dafe4bf",
   "metadata": {},
   "outputs": [
    {
     "name": "stdout",
     "output_type": "stream",
     "text": [
      "1\n"
     ]
    }
   ],
   "source": [
    "# 確認\n",
    "import torch\n",
    "print(torch.cuda.device_count()) #Pytorchで使用できるGPU数を取得"
   ]
  },
  {
   "cell_type": "markdown",
   "id": "d5f05cde",
   "metadata": {},
   "source": [
    "## prepare\n",
    "1. 語彙数の取得\n",
    "2. 学習データの用意(ラベル)\n",
    "3. 学習データの用意(特徴量)\n",
    "4. 乱数の種を固定"
   ]
  },
  {
   "cell_type": "code",
   "execution_count": 6,
   "id": "090f0044",
   "metadata": {},
   "outputs": [],
   "source": [
    "# 語彙数の取得(ID:0の単語はまとめて1語とする), 未知語, paddingを考慮\n",
    "vocab_size = max(name_to_id.values())+2"
   ]
  },
  {
   "cell_type": "code",
   "execution_count": 7,
   "id": "b7cfbffd",
   "metadata": {},
   "outputs": [],
   "source": [
    "# 訓練・検証・評価データの用意\n",
    "import torch\n",
    "import torch.nn as nn\n",
    "import numpy as np\n",
    "import torch.nn.functional as F\n",
    "\n",
    "# ラベル: ch08の出力を利用\n",
    "Y_train = np.loadtxt('../data/ch08/Y_train.txt')\n",
    "Y_valid = np.loadtxt('../data/ch08/Y_valid.txt')\n",
    "Y_test = np.loadtxt('../data/ch08/Y_test.txt')\n",
    "\n",
    "# pytorch用に変換\n",
    "Y_train_long = torch.tensor(Y_train, dtype=torch.int64)\n",
    "Y_valid_long = torch.tensor(Y_valid, dtype=torch.int64)\n",
    "Y_test_long = torch.tensor(Y_test, dtype=torch.int64)"
   ]
  },
  {
   "cell_type": "code",
   "execution_count": 8,
   "id": "e68740a7",
   "metadata": {},
   "outputs": [],
   "source": [
    "# 特徴量: convert_words_to_ids(80)を利用\n",
    "def convert_text_to_features(fname):\n",
    "    '''\n",
    "    input :fname\n",
    "    output:features(tensor)\n",
    "    '''\n",
    "    with open(fname, encoding='utf-8') as f:\n",
    "        lines = f.readlines()\n",
    "    \n",
    "    # id列(list)のリストに変換\n",
    "    ids_list = [convert_words_to_ids(line) for line in lines]\n",
    "    \n",
    "    # id列(tensor)のリストに変換\n",
    "    ids_tensor = [torch.tensor(ids, dtype=torch.int64) for ids in ids_list]\n",
    "    \n",
    "    # 最大のid+1(vocab_size-1)でパディング\n",
    "    features = torch.nn.utils.rnn.pad_sequence(ids_tensor, batch_first=True, padding_value=vocab_size-1)\n",
    "    \n",
    "    return features\n",
    "\n",
    "# 特徴量抽出\n",
    "X_train_long = convert_text_to_features('../data/ch06/train.txt')\n",
    "X_valid_long = convert_text_to_features('../data/ch06/valid.txt')\n",
    "X_test_long = convert_text_to_features('../data/ch06/test.txt')"
   ]
  },
  {
   "cell_type": "code",
   "execution_count": 9,
   "id": "713279bb",
   "metadata": {},
   "outputs": [],
   "source": [
    "# 乱数シードの固定\n",
    "import random\n",
    "\n",
    "def fix_seed(seed):\n",
    "    # random\n",
    "    random.seed(seed)\n",
    "    # Numpy\n",
    "    np.random.seed(seed)\n",
    "    # Pytorch\n",
    "    torch.manual_seed(seed)\n",
    "    torch.cuda.manual_seed_all(seed)\n",
    "    torch.backends.cudnn.deterministic = True"
   ]
  },
  {
   "cell_type": "markdown",
   "id": "060692bb",
   "metadata": {},
   "source": [
    "## 83. ミニバッチ化・GPU上での学習\n",
    "1. GPUに対応したRNNの定義\n",
    "2. GPUに対応したaccuracy計測関数の定義\n",
    "3. ミニバッチ化し, GPU上で学習"
   ]
  },
  {
   "cell_type": "code",
   "execution_count": 10,
   "id": "b64208f7",
   "metadata": {},
   "outputs": [],
   "source": [
    "# RNNの定義\n",
    "class RNN2(nn.Module):\n",
    "    def __init__(self, vocab_size, embedding_dim, hidden_size, output_size, batch_size, num_layers=1):\n",
    "        # 層の定義\n",
    "        super().__init__()\n",
    "        self.hidden_size = hidden_size\n",
    "        self.batch_size = batch_size\n",
    "        self.num_layers = num_layers\n",
    "        \n",
    "        self.emb = nn.Embedding(vocab_size, embedding_dim, padding_idx=vocab_size-1)\n",
    "        self.rnn = nn.RNN(embedding_dim, hidden_size, batch_first=True, num_layers=self.num_layers)\n",
    "        self.fc = nn.Linear(hidden_size, output_size)\n",
    "\n",
    "        # GPUに移す\n",
    "        self.device = torch.device('cuda:0' if torch.cuda.is_available() else 'cpu')\n",
    "        self = self.to(self.device)\n",
    "    \n",
    "    def init_hidden(self, batch_size=None):\n",
    "        if not batch_size:\n",
    "            batch_size = self.batch_size\n",
    "        self.hidden_state = torch.zeros(self.num_layers, batch_size, self.hidden_size).to(self.device)\n",
    "    \n",
    "    def forward(self, x):\n",
    "        x = self.emb(x)\n",
    "        x_rnn, self.hidden_state =self.rnn(x, self.hidden_state)\n",
    "        x = self.fc(x_rnn[:,-1,:])\n",
    "        return x"
   ]
  },
  {
   "cell_type": "code",
   "execution_count": 11,
   "id": "2c767c41",
   "metadata": {},
   "outputs": [],
   "source": [
    "# accuracyの計測\n",
    "def measure_loss_accuracy2(model, criterion, dataloader):\n",
    "    '''\n",
    "    input : model, criterion, dataloader\n",
    "    output: loss, accuracy\n",
    "    '''\n",
    "    running_loss = 0\n",
    "    correct_num = 0\n",
    "    device = model.device\n",
    "    batch_size = model.batch_size\n",
    "    for X, Y in dataloader:\n",
    "        # GPU上に\n",
    "        X = X.to(device)\n",
    "        Y = Y.to(device)\n",
    "        model.init_hidden()\n",
    "        predict_y = model.forward(X)\n",
    "        \n",
    "        # lossの計算\n",
    "        loss = criterion(predict_y, Y)\n",
    "        running_loss += loss.item()\n",
    "        \n",
    "        # accuracyの計算\n",
    "        predict_label = torch.max(predict_y, 1)[1]\n",
    "        for i in range(batch_size):\n",
    "            if predict_label[i] == Y[i]:\n",
    "                correct_num += 1\n",
    "    \n",
    "    loss_avg = running_loss/len(dataloader)\n",
    "    accuracy = correct_num/(len(dataloader)*batch_size)\n",
    "    \n",
    "    return loss_avg, accuracy"
   ]
  },
  {
   "cell_type": "code",
   "execution_count": 12,
   "id": "5a576f66",
   "metadata": {},
   "outputs": [
    {
     "name": "stdout",
     "output_type": "stream",
     "text": [
      "epoch: 0\n",
      "   train loss: 1.1952145052313359\ttrain acc: 0.42181647940074907\n",
      "   valid loss: 1.1615154496923892\tvalid acc: 0.4184131736526946\n",
      "epoch: 1\n",
      "   train loss: 1.160910779394014\ttrain acc: 0.423314606741573\n",
      "   valid loss: 1.1601068316819425\tvalid acc: 0.4244011976047904\n",
      "epoch: 2\n",
      "   train loss: 1.1600929844245482\ttrain acc: 0.427247191011236\n",
      "   valid loss: 1.1590807031014723\tvalid acc: 0.43263473053892215\n",
      "epoch: 3\n",
      "   train loss: 1.1590981029839105\ttrain acc: 0.43417602996254684\n",
      "   valid loss: 1.1578153846506587\tvalid acc: 0.4393712574850299\n",
      "epoch: 4\n",
      "   train loss: 1.1577108573377801\ttrain acc: 0.44634831460674157\n",
      "   valid loss: 1.156126109425893\tvalid acc: 0.4491017964071856\n",
      "epoch: 5\n",
      "   train loss: 1.1556175834677194\ttrain acc: 0.46282771535580525\n",
      "   valid loss: 1.153811127482774\tvalid acc: 0.46107784431137727\n",
      "epoch: 6\n",
      "   train loss: 1.1523196773136153\ttrain acc: 0.4811797752808989\n",
      "   valid loss: 1.150912536832387\tvalid acc: 0.46407185628742514\n",
      "epoch: 7\n",
      "   train loss: 1.1474475431085078\ttrain acc: 0.4868913857677903\n",
      "   valid loss: 1.148591583003541\tvalid acc: 0.4663173652694611\n",
      "epoch: 8\n",
      "   train loss: 1.141845068502962\ttrain acc: 0.49288389513108616\n",
      "   valid loss: 1.1481984650303503\tvalid acc: 0.4663173652694611\n",
      "epoch: 9\n",
      "   train loss: 1.1368217207072826\ttrain acc: 0.4975655430711611\n",
      "   valid loss: 1.1481961957708804\tvalid acc: 0.47380239520958084\n",
      "epoch: 10\n",
      "   train loss: 1.1322136849053344\ttrain acc: 0.5038389513108614\n",
      "   valid loss: 1.1475809983864516\tvalid acc: 0.4805389221556886\n",
      "epoch: 11\n",
      "   train loss: 1.1275498161601663\ttrain acc: 0.5108614232209738\n",
      "   valid loss: 1.1464162536723885\tvalid acc: 0.47979041916167664\n",
      "epoch: 12\n",
      "   train loss: 1.122531870822335\ttrain acc: 0.5197565543071161\n",
      "   valid loss: 1.1447655237363483\tvalid acc: 0.48952095808383234\n",
      "epoch: 13\n",
      "   train loss: 1.116858367705613\ttrain acc: 0.5279962546816479\n",
      "   valid loss: 1.1426337750372058\tvalid acc: 0.4962574850299401\n",
      "epoch: 14\n",
      "   train loss: 1.110117124618216\ttrain acc: 0.5352059925093633\n",
      "   valid loss: 1.1399171416631002\tvalid acc: 0.5029940119760479\n",
      "epoch: 15\n",
      "   train loss: 1.101747983091333\ttrain acc: 0.5459737827715356\n",
      "   valid loss: 1.136170893372176\tvalid acc: 0.5134730538922155\n",
      "epoch: 16\n",
      "   train loss: 1.0911398608586316\ttrain acc: 0.5582397003745319\n",
      "   valid loss: 1.1299315162761483\tvalid acc: 0.5217065868263473\n",
      "epoch: 17\n",
      "   train loss: 1.0776715459448567\ttrain acc: 0.575374531835206\n",
      "   valid loss: 1.1188304327919099\tvalid acc: 0.532185628742515\n",
      "epoch: 18\n",
      "   train loss: 1.0600170059597\ttrain acc: 0.5965355805243445\n",
      "   valid loss: 1.101686681102136\tvalid acc: 0.5494011976047904\n",
      "epoch: 19\n",
      "   train loss: 1.0366436073619327\ttrain acc: 0.619943820224719\n",
      "   valid loss: 1.0824323018153985\tvalid acc: 0.5681137724550899\n",
      "epoch: 20\n",
      "   train loss: 1.0083742407377294\ttrain acc: 0.6422284644194757\n",
      "   valid loss: 1.0609682102403242\tvalid acc: 0.5875748502994012\n",
      "epoch: 21\n",
      "   train loss: 0.9764855663874623\ttrain acc: 0.6632022471910113\n",
      "   valid loss: 1.040162970205981\tvalid acc: 0.6040419161676647\n",
      "epoch: 22\n",
      "   train loss: 0.9402385151118375\ttrain acc: 0.6881086142322097\n",
      "   valid loss: 1.0136195265961265\tvalid acc: 0.6272455089820359\n",
      "epoch: 23\n",
      "   train loss: 0.8923711394660928\ttrain acc: 0.7192883895131086\n",
      "   valid loss: 0.9824644457437322\tvalid acc: 0.6497005988023952\n",
      "epoch: 24\n",
      "   train loss: 0.8402673429206069\ttrain acc: 0.7393258426966293\n",
      "   valid loss: 0.9402027272892569\tvalid acc: 0.6736526946107785\n"
     ]
    }
   ],
   "source": [
    "import torch.optim as optim\n",
    "\n",
    "# ハイパーパラメータの設定\n",
    "embedding_dim = 300\n",
    "hidden_size = 50\n",
    "max_epoch = 25\n",
    "batch_size = 8\n",
    "lr = 0.002\n",
    "\n",
    "# dataloaderの定義\n",
    "train_dataset2 = torch.utils.data.TensorDataset(X_train_long, Y_train_long)\n",
    "train_dataloader2 = torch.utils.data.DataLoader(train_dataset2, batch_size=batch_size, drop_last=True)\n",
    "\n",
    "valid_dataset2 = torch.utils.data.TensorDataset(X_valid_long, Y_valid_long)\n",
    "valid_dataloader2 = torch.utils.data.DataLoader(valid_dataset2, batch_size=batch_size, drop_last=True)\n",
    "\n",
    "# モデルの定義\n",
    "fix_seed(42)\n",
    "rnn2 = RNN2(vocab_size=vocab_size, embedding_dim=embedding_dim, hidden_size=hidden_size, output_size=4, batch_size=batch_size)\n",
    "criterion2 = nn.CrossEntropyLoss()\n",
    "optimizer2 = optim.SGD(rnn2.parameters(), lr)\n",
    "device = rnn2.device\n",
    "\n",
    "# SGDによる学習\n",
    "for epoch in range(max_epoch):\n",
    "    running_loss = 0\n",
    "    for X, Y in train_dataloader2:\n",
    "        # GPU上に\n",
    "        X = X.to(device)\n",
    "        Y = Y.to(device)\n",
    "        # forward\n",
    "        rnn2.init_hidden()\n",
    "        predict_y = rnn2.forward(X)\n",
    "        loss = criterion2(predict_y, Y)\n",
    "        \n",
    "        # backward\n",
    "        optimizer2.zero_grad()\n",
    "        loss.backward()\n",
    "        \n",
    "        # 更新\n",
    "        optimizer2.step()\n",
    "        running_loss += loss.item()\n",
    "    \n",
    "    # loss, accuracyの表示\n",
    "    rnn2.init_hidden()\n",
    "    valid_loss, valid_acc = measure_loss_accuracy2(rnn2, criterion2, valid_dataloader2)\n",
    "    train_loss, train_acc = measure_loss_accuracy2(rnn2, criterion2, train_dataloader2)\n",
    "    train_loss = running_loss/len(train_dataloader2)\n",
    "    \n",
    "    print(f'epoch: {epoch}')\n",
    "    print(f'   train loss: {train_loss}\\ttrain acc: {train_acc}')\n",
    "    print(f'   valid loss: {valid_loss}\\tvalid acc: {valid_acc}')"
   ]
  },
  {
   "cell_type": "code",
   "execution_count": null,
   "id": "46f188c2",
   "metadata": {},
   "outputs": [],
   "source": []
  }
 ],
 "metadata": {
  "kernelspec": {
   "display_name": "Python 3.9.7 ('base')",
   "language": "python",
   "name": "python3"
  },
  "language_info": {
   "codemirror_mode": {
    "name": "ipython",
    "version": 3
   },
   "file_extension": ".py",
   "mimetype": "text/x-python",
   "name": "python",
   "nbconvert_exporter": "python",
   "pygments_lexer": "ipython3",
   "version": "3.9.7"
  },
  "vscode": {
   "interpreter": {
    "hash": "377a56719c49a5bb7f110725c6691de4f3061a8147680c0538b5cea6d6e25a26"
   }
  }
 },
 "nbformat": 4,
 "nbformat_minor": 5
}
