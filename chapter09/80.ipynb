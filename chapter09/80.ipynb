{
 "cells": [
  {
   "cell_type": "markdown",
   "id": "309cbab6",
   "metadata": {},
   "source": [
    "## 80. ID番号への変換\n",
    "1. 単語をIDに変換する辞書を作成・保存(重いため,2回目以降はセル2を実行)\n",
    "2. 辞書の読み込み\n",
    "3. 単語列をID列に変換する関数"
   ]
  },
  {
   "cell_type": "code",
   "execution_count": null,
   "id": "73b45da3",
   "metadata": {},
   "outputs": [],
   "source": [
    "'''\n",
    "# 単語にID番号を付与：単語をIDに変換する辞書name_to_idを作成\n",
    "# 51の学習データ(../data/ch06/train.feature.txt):\n",
    "#    各事例内の単語をone-hotベクトルで表し, その和を事例の特徴量として抽出\n",
    "#    単語辞書は../data/ch06/feature_names_out.txt\n",
    "import numpy as np\n",
    "import pickle\n",
    "\n",
    "# 学習データ, 単語辞書の読み込み\n",
    "train_feature = np.loadtxt('../data/ch06/train.feature.txt')\n",
    "with open('../data/ch06/feature_names_out.txt') as f:\n",
    "    feature_dict = f.read().split('\\n')\n",
    "\n",
    "# 頻度の計算\n",
    "word_frequency = train_feature.sum(axis=0)\n",
    "\n",
    "# 頻度について降順にソート\n",
    "word_frequency_sorted = np.argsort(-word_frequency)\n",
    "\n",
    "# 単語をIDに変換する辞書\n",
    "name_to_id = {}\n",
    "\n",
    "for num, word_id in enumerate(word_frequency_sorted):\n",
    "    # 頻度が1の場合, idは0\n",
    "    if word_frequency[word_id] == 1:\n",
    "        name_to_id[feature_dict[word_id]] = 0\n",
    "    else:\n",
    "        name_to_id[feature_dict[word_id]] = num + 1\n",
    "\n",
    "# 辞書をpklファイルに保存\n",
    "with open('../data/ch09/name_to_id.pkl', 'wb') as tf:\n",
    "    pickle.dump(name_to_id, tf)\n",
    "'''"
   ]
  },
  {
   "cell_type": "code",
   "execution_count": 1,
   "id": "bc390a45",
   "metadata": {},
   "outputs": [],
   "source": [
    "# pklファイルから読み込み\n",
    "import pickle\n",
    "\n",
    "with open('../data/ch09/name_to_id.pkl', 'rb') as tf:\n",
    "    name_to_id = pickle.load(tf)"
   ]
  },
  {
   "cell_type": "code",
   "execution_count": 2,
   "id": "bd0b8d74",
   "metadata": {},
   "outputs": [],
   "source": [
    "# 与えられた単語列に対し, ID番号の列を返す関数\n",
    "# ch06ではCountVectorizerを利用したため, 今回もCountVectorizerを活用する\n",
    "from sklearn.feature_extraction.text import CountVectorizer\n",
    "\n",
    "def convert_words_to_ids(words):\n",
    "    '''\n",
    "    input :words(単語列)\n",
    "    output:ids(ID番号列)\n",
    "    '''\n",
    "    # analyzer: 単語列に前処理を加え, listに変換する関数\n",
    "    analyzer = CountVectorizer().build_analyzer()\n",
    "    word_list = analyzer(words)\n",
    "    \n",
    "    ids = []\n",
    "    for word in word_list:\n",
    "        if word in name_to_id:\n",
    "            ids.append(name_to_id[word])\n",
    "        else:\n",
    "            ids.append(0)  # 未知語の場合, IDを0とする\n",
    "    \n",
    "    return ids"
   ]
  },
  {
   "cell_type": "code",
   "execution_count": null,
   "id": "76001ebc",
   "metadata": {},
   "outputs": [],
   "source": []
  }
 ],
 "metadata": {
  "kernelspec": {
   "display_name": "Python 3.9.7 ('base')",
   "language": "python",
   "name": "python3"
  },
  "language_info": {
   "codemirror_mode": {
    "name": "ipython",
    "version": 3
   },
   "file_extension": ".py",
   "mimetype": "text/x-python",
   "name": "python",
   "nbconvert_exporter": "python",
   "pygments_lexer": "ipython3",
   "version": "3.9.7"
  },
  "vscode": {
   "interpreter": {
    "hash": "377a56719c49a5bb7f110725c6691de4f3061a8147680c0538b5cea6d6e25a26"
   }
  }
 },
 "nbformat": 4,
 "nbformat_minor": 5
}
