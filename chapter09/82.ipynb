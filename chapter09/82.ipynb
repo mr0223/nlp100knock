{
 "cells": [
  {
   "cell_type": "markdown",
   "id": "309cbab6",
   "metadata": {},
   "source": [
    "## 80. ID番号への変換\n",
    "1. ~~単語をIDに変換する辞書を作成・保存(重いため,2回目以降はセル2を実行)~~\n",
    "2. 辞書の読み込み\n",
    "3. 単語列をID列に変換する関数"
   ]
  },
  {
   "cell_type": "code",
   "execution_count": 22,
   "id": "bc390a45",
   "metadata": {},
   "outputs": [],
   "source": [
    "# pklファイルから読み込み\n",
    "import pickle\n",
    "\n",
    "with open('../data/ch09/name_to_id.pkl', 'rb') as tf:\n",
    "    name_to_id = pickle.load(tf)"
   ]
  },
  {
   "cell_type": "code",
   "execution_count": 23,
   "id": "bd0b8d74",
   "metadata": {},
   "outputs": [],
   "source": [
    "# 与えられた単語列に対し, ID番号の列を返す関数\n",
    "# ch06ではCountVectorizerを利用したため, 今回もCountVectorizerを活用する\n",
    "from sklearn.feature_extraction.text import CountVectorizer\n",
    "\n",
    "def convert_words_to_ids(words):\n",
    "    '''\n",
    "    input :words(単語列)\n",
    "    output:ids(ID番号列)\n",
    "    '''\n",
    "    # analyzer: 単語列に前処理を加え, listに変換する関数\n",
    "    analyzer = CountVectorizer().build_analyzer()\n",
    "    word_list = analyzer(words)\n",
    "    \n",
    "    ids = []\n",
    "    for word in word_list:\n",
    "        if word in name_to_id:\n",
    "            ids.append(name_to_id[word])\n",
    "        else:\n",
    "            ids.append(0)  # 未知語の場合, IDを0とする\n",
    "    \n",
    "    return ids"
   ]
  },
  {
   "cell_type": "markdown",
   "id": "d5f05cde",
   "metadata": {},
   "source": [
    "## prepare\n",
    "1. 語彙数の取得\n",
    "2. 学習データの用意(ラベル)\n",
    "3. 学習データの用意(特徴量)\n",
    "4. 乱数の種を固定"
   ]
  },
  {
   "cell_type": "code",
   "execution_count": 24,
   "id": "090f0044",
   "metadata": {},
   "outputs": [],
   "source": [
    "# 語彙数の取得(ID:0の単語はまとめて1語とする), 未知語, paddingを考慮\n",
    "vocab_size = max(name_to_id.values())+2"
   ]
  },
  {
   "cell_type": "code",
   "execution_count": 25,
   "id": "b7cfbffd",
   "metadata": {},
   "outputs": [],
   "source": [
    "# 訓練・検証・評価データの用意\n",
    "import torch\n",
    "import torch.nn as nn\n",
    "import numpy as np\n",
    "import torch.nn.functional as F\n",
    "\n",
    "# ラベル: ch08の出力を利用\n",
    "Y_train = np.loadtxt('../data/ch08/Y_train.txt')\n",
    "Y_valid = np.loadtxt('../data/ch08/Y_valid.txt')\n",
    "Y_test = np.loadtxt('../data/ch08/Y_test.txt')\n",
    "\n",
    "# pytorch用に変換\n",
    "Y_train_long = torch.tensor(Y_train, dtype=torch.int64)\n",
    "Y_valid_long = torch.tensor(Y_valid, dtype=torch.int64)\n",
    "Y_test_long = torch.tensor(Y_test, dtype=torch.int64)"
   ]
  },
  {
   "cell_type": "code",
   "execution_count": 27,
   "id": "e68740a7",
   "metadata": {},
   "outputs": [],
   "source": [
    "# 特徴量: convert_words_to_ids(80)を利用\n",
    "def convert_text_to_features(fname):\n",
    "    '''\n",
    "    input :fname\n",
    "    output:features(tensor)\n",
    "    '''\n",
    "    with open(fname, encoding='utf-8') as f:\n",
    "        lines = f.readlines()\n",
    "    \n",
    "    # id列(list)のリストに変換\n",
    "    ids_list = [convert_words_to_ids(line) for line in lines]\n",
    "    \n",
    "    # id列(tensor)のリストに変換\n",
    "    ids_tensor = [torch.tensor(ids, dtype=torch.int64) for ids in ids_list]\n",
    "    \n",
    "    # 最大のid+1(vocab_size-1)でパディング\n",
    "    features = torch.nn.utils.rnn.pad_sequence(ids_tensor, batch_first=True, padding_value=vocab_size-1)\n",
    "    \n",
    "    return features\n",
    "\n",
    "# 特徴量抽出\n",
    "X_train_long = convert_text_to_features('../data/ch06/train.txt')\n",
    "X_valid_long = convert_text_to_features('../data/ch06/valid.txt')\n",
    "X_test_long = convert_text_to_features('../data/ch06/test.txt')"
   ]
  },
  {
   "cell_type": "code",
   "execution_count": 28,
   "id": "713279bb",
   "metadata": {},
   "outputs": [],
   "source": [
    "# 乱数シードの固定\n",
    "import random\n",
    "\n",
    "def fix_seed(seed):\n",
    "    # random\n",
    "    random.seed(seed)\n",
    "    # Numpy\n",
    "    np.random.seed(seed)\n",
    "    # Pytorch\n",
    "    torch.manual_seed(seed)\n",
    "    torch.cuda.manual_seed_all(seed)\n",
    "    torch.backends.cudnn.deterministic = True"
   ]
  },
  {
   "cell_type": "markdown",
   "id": "254c184e",
   "metadata": {},
   "source": [
    "## 81. RNNによる予測\n",
    "1. nn.RNNの定義\n",
    "2. ~~RNNを用いた予測~~"
   ]
  },
  {
   "cell_type": "code",
   "execution_count": 96,
   "id": "b88e53f7",
   "metadata": {
    "scrolled": false
   },
   "outputs": [],
   "source": [
    "# RNNの定義\n",
    "class RNN1(nn.Module):\n",
    "    def __init__(self, vocab_size, embedding_dim, hidden_size, output_size, batch_size, num_layers=1):\n",
    "        # 層の定義\n",
    "        super().__init__()\n",
    "        self.hidden_size = hidden_size\n",
    "        self.batch_size = batch_size\n",
    "        self.num_layers = num_layers\n",
    "        \n",
    "        self.emb = nn.Embedding(vocab_size, embedding_dim, padding_idx=vocab_size-1)\n",
    "        self.rnn = nn.RNN(embedding_dim, hidden_size, batch_first=True, num_layers=self.num_layers)\n",
    "        self.fc = nn.Linear(hidden_size, output_size)\n",
    "    \n",
    "    def init_hidden(self, batch_size=None):\n",
    "        if not batch_size:\n",
    "            batch_size = self.batch_size\n",
    "        self.hidden_state = torch.zeros(self.num_layers, batch_size, self.hidden_size)\n",
    "    \n",
    "    def forward(self, x):\n",
    "        x = self.emb(x)\n",
    "        x_rnn, self.hidden_state =self.rnn(x, self.hidden_state)\n",
    "        x = self.fc(x_rnn[:,-1,:])\n",
    "        return x"
   ]
  },
  {
   "cell_type": "markdown",
   "id": "db7a6f59",
   "metadata": {},
   "source": [
    "## 82. 確率的勾配降下法による学習\n",
    "1. accuracy計測関数の定義\n",
    "2. nn.RNNを用いて学習"
   ]
  },
  {
   "cell_type": "code",
   "execution_count": 11,
   "id": "d8bc1961",
   "metadata": {},
   "outputs": [],
   "source": [
    "def measure_loss_accuracy1(model, criterion, dataloader):\n",
    "    '''\n",
    "    input : model, criterion, dataloader\n",
    "    output: loss, accuracy\n",
    "    '''\n",
    "    running_loss = 0\n",
    "    correct_num = 0\n",
    "    for X, Y in dataloader:\n",
    "        model.init_hidden()\n",
    "        predict_y = model.forward(X)\n",
    "        \n",
    "        # lossの計算\n",
    "        loss = criterion(predict_y, Y)\n",
    "        running_loss += loss.item()\n",
    "        \n",
    "        # accuracyの計算\n",
    "        predict_label = torch.max(predict_y, 1)[1]\n",
    "        if predict_label == Y:\n",
    "            correct_num += 1\n",
    "    \n",
    "    loss_avg = running_loss/len(dataloader)\n",
    "    accuracy = correct_num/len(dataloader)\n",
    "    \n",
    "    return loss_avg, accuracy"
   ]
  },
  {
   "cell_type": "code",
   "execution_count": 12,
   "id": "52b5919e",
   "metadata": {},
   "outputs": [
    {
     "name": "stdout",
     "output_type": "stream",
     "text": [
      "epoch: 0\n",
      "   train loss: 1.162160323392314\ttrain acc: 0.47098464994384126\n",
      "   valid loss: 1.163287965658896\tvalid acc: 0.44236526946107785\n",
      "epoch: 1\n",
      "   train loss: 1.126209333208461\ttrain acc: 0.5584986896293523\n",
      "   valid loss: 1.1450665554779018\tvalid acc: 0.5224550898203593\n",
      "epoch: 2\n",
      "   train loss: 1.0570924885219535\ttrain acc: 0.6138150505428679\n",
      "   valid loss: 1.102347901102133\tvalid acc: 0.5681137724550899\n",
      "epoch: 3\n",
      "   train loss: 1.0247162953911761\ttrain acc: 0.6557469112691876\n",
      "   valid loss: 1.033805440553648\tvalid acc: 0.6317365269461078\n",
      "epoch: 4\n",
      "   train loss: 0.972744168231814\ttrain acc: 0.6744664919505803\n",
      "   valid loss: 1.008454257142758\tvalid acc: 0.6347305389221557\n",
      "epoch: 5\n",
      "   train loss: 0.9134693595248465\ttrain acc: 0.698427555222763\n",
      "   valid loss: 0.9795215310874635\tvalid acc: 0.6497005988023952\n",
      "epoch: 6\n",
      "   train loss: 0.8789332116128007\ttrain acc: 0.7185511044552602\n",
      "   valid loss: 0.9084338675515202\tvalid acc: 0.6848802395209581\n",
      "epoch: 7\n",
      "   train loss: 0.8511899708118533\ttrain acc: 0.7262261325346312\n",
      "   valid loss: 0.9038145090871585\tvalid acc: 0.6826347305389222\n",
      "epoch: 8\n",
      "   train loss: 0.8575310366777742\ttrain acc: 0.7024522650692624\n",
      "   valid loss: 0.9678330146233568\tvalid acc: 0.6526946107784432\n",
      "epoch: 9\n",
      "   train loss: 0.8084948769383877\ttrain acc: 0.7428865593410707\n",
      "   valid loss: 0.87583781791639\tvalid acc: 0.6968562874251497\n"
     ]
    }
   ],
   "source": [
    "import torch.optim as optim\n",
    "\n",
    "# ハイパーパラメータの設定\n",
    "embedding_dim = 300\n",
    "hidden_size = 50\n",
    "max_epoch = 10\n",
    "lr = 0.002  # 評価データのaccuracyが高くなるものを選択\n",
    "\n",
    "# dataloaderの定義\n",
    "train_dataset = torch.utils.data.TensorDataset(X_train_long, Y_train_long)\n",
    "train_dataloader = torch.utils.data.DataLoader(train_dataset)\n",
    "\n",
    "valid_dataset = torch.utils.data.TensorDataset(X_valid_long, Y_valid_long)\n",
    "valid_dataloader = torch.utils.data.DataLoader(valid_dataset)\n",
    "\n",
    "# モデルの定義\n",
    "fix_seed(42)\n",
    "rnn1 = RNN1(vocab_size=vocab_size, embedding_dim=embedding_dim, hidden_size=hidden_size, output_size=4, batch_size=1)\n",
    "criterion = nn.CrossEntropyLoss()\n",
    "optimizer = optim.SGD(rnn1.parameters(), lr)\n",
    "\n",
    "# SGDによる学習\n",
    "for epoch in range(max_epoch):\n",
    "    running_loss = 0\n",
    "    for X, Y in train_dataloader:\n",
    "        # forward\n",
    "        rnn1.init_hidden()\n",
    "        predict_y = rnn1.forward(X)\n",
    "        loss = criterion(predict_y, Y)\n",
    "        \n",
    "        # backward\n",
    "        optimizer.zero_grad()\n",
    "        loss.backward()\n",
    "        \n",
    "        # 更新\n",
    "        optimizer.step()\n",
    "        running_loss += loss.item()\n",
    "    \n",
    "    # loss, accuracyの表示\n",
    "    rnn1.init_hidden()\n",
    "    valid_loss, valid_acc = measure_loss_accuracy1(rnn1, criterion, valid_dataloader)\n",
    "    train_loss, train_acc = measure_loss_accuracy1(rnn1, criterion, train_dataloader)\n",
    "    train_loss = running_loss/len(train_dataloader)\n",
    "    \n",
    "    print(f'epoch: {epoch}')\n",
    "    print(f'   train loss: {train_loss}\\ttrain acc: {train_acc}')\n",
    "    print(f'   valid loss: {valid_loss}\\tvalid acc: {valid_acc}')"
   ]
  },
  {
   "cell_type": "code",
   "execution_count": null,
   "id": "07e292ba",
   "metadata": {},
   "outputs": [],
   "source": []
  }
 ],
 "metadata": {
  "kernelspec": {
   "display_name": "Python 3.9.7 ('base')",
   "language": "python",
   "name": "python3"
  },
  "language_info": {
   "codemirror_mode": {
    "name": "ipython",
    "version": 3
   },
   "file_extension": ".py",
   "mimetype": "text/x-python",
   "name": "python",
   "nbconvert_exporter": "python",
   "pygments_lexer": "ipython3",
   "version": "3.9.7"
  },
  "vscode": {
   "interpreter": {
    "hash": "377a56719c49a5bb7f110725c6691de4f3061a8147680c0538b5cea6d6e25a26"
   }
  }
 },
 "nbformat": 4,
 "nbformat_minor": 5
}
