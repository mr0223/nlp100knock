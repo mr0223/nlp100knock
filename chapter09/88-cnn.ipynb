{
 "cells": [
  {
   "cell_type": "markdown",
   "id": "309cbab6",
   "metadata": {},
   "source": [
    "## 80. ID番号への変換\n",
    "1. ~~単語をIDに変換する辞書を作成・保存(重いため,2回目以降はセル2を実行)~~\n",
    "2. 辞書の読み込み\n",
    "3. 単語列をID列に変換する関数"
   ]
  },
  {
   "cell_type": "code",
   "execution_count": 2,
   "id": "bc390a45",
   "metadata": {},
   "outputs": [],
   "source": [
    "# pklファイルから読み込み\n",
    "import pickle\n",
    "\n",
    "with open('../data/ch09/name_to_id.pkl', 'rb') as tf:\n",
    "    name_to_id = pickle.load(tf)"
   ]
  },
  {
   "cell_type": "code",
   "execution_count": 3,
   "id": "bd0b8d74",
   "metadata": {},
   "outputs": [],
   "source": [
    "# 与えられた単語列に対し, ID番号の列を返す関数\n",
    "# ch06ではCountVectorizerを利用したため, 今回もCountVectorizerを活用する\n",
    "from sklearn.feature_extraction.text import CountVectorizer\n",
    "\n",
    "def convert_words_to_ids(words):\n",
    "    '''\n",
    "    input :words(単語列)\n",
    "    output:ids(ID番号列)\n",
    "    '''\n",
    "    # analyzer: 単語列に前処理を加え, listに変換する関数\n",
    "    analyzer = CountVectorizer().build_analyzer()\n",
    "    word_list = analyzer(words)\n",
    "    \n",
    "    ids = []\n",
    "    for word in word_list:\n",
    "        if word in name_to_id:\n",
    "            ids.append(name_to_id[word])\n",
    "        else:\n",
    "            ids.append(0)  # 未知語の場合, IDを0とする\n",
    "    \n",
    "    return ids"
   ]
  },
  {
   "cell_type": "markdown",
   "id": "a8587b66",
   "metadata": {},
   "source": [
    "## GPU prepare\n",
    "1. 使用可能GPUの確認\n",
    "2. GPUの指定\n",
    "3. PyTorchで利用できるGPU数の確認"
   ]
  },
  {
   "cell_type": "code",
   "execution_count": 4,
   "id": "4b8a87e3",
   "metadata": {},
   "outputs": [
    {
     "name": "stdout",
     "output_type": "stream",
     "text": [
      "Wed Jun 15 21:44:41 2022       \n",
      "+-----------------------------------------------------------------------------+\n",
      "| NVIDIA-SMI 470.57.02    Driver Version: 470.57.02    CUDA Version: 11.4     |\n",
      "|-------------------------------+----------------------+----------------------+\n",
      "| GPU  Name        Persistence-M| Bus-Id        Disp.A | Volatile Uncorr. ECC |\n",
      "| Fan  Temp  Perf  Pwr:Usage/Cap|         Memory-Usage | GPU-Util  Compute M. |\n",
      "|                               |                      |               MIG M. |\n",
      "|===============================+======================+======================|\n",
      "|   0  NVIDIA RTX A6000    On   | 00000000:01:00.0 Off |                  Off |\n",
      "| 30%   28C    P8    16W / 300W |   2181MiB / 48685MiB |      0%      Default |\n",
      "|                               |                      |                  N/A |\n",
      "+-------------------------------+----------------------+----------------------+\n",
      "|   1  NVIDIA RTX A6000    On   | 00000000:25:00.0 Off |                  Off |\n",
      "| 30%   28C    P8    15W / 300W |      8MiB / 48685MiB |      0%      Default |\n",
      "|                               |                      |                  N/A |\n",
      "+-------------------------------+----------------------+----------------------+\n",
      "|   2  NVIDIA RTX A6000    On   | 00000000:C1:00.0 Off |                  Off |\n",
      "| 30%   27C    P8    17W / 300W |      8MiB / 48685MiB |      1%      Default |\n",
      "|                               |                      |                  N/A |\n",
      "+-------------------------------+----------------------+----------------------+\n",
      "|   3  NVIDIA RTX A6000    On   | 00000000:E1:00.0 Off |                  Off |\n",
      "| 30%   27C    P8    14W / 300W |      8MiB / 48685MiB |      0%      Default |\n",
      "|                               |                      |                  N/A |\n",
      "+-------------------------------+----------------------+----------------------+\n",
      "                                                                               \n",
      "+-----------------------------------------------------------------------------+\n",
      "| Processes:                                                                  |\n",
      "|  GPU   GI   CI        PID   Type   Process name                  GPU Memory |\n",
      "|        ID   ID                                                   Usage      |\n",
      "|=============================================================================|\n",
      "+-----------------------------------------------------------------------------+\n"
     ]
    }
   ],
   "source": [
    "# 使用可能GPUの確認\n",
    "!nvidia-smi"
   ]
  },
  {
   "cell_type": "code",
   "execution_count": 5,
   "id": "772a2530",
   "metadata": {},
   "outputs": [],
   "source": [
    "# GPUの指定\n",
    "import os\n",
    "os.environ['CUDA_VISIBLE_DEVICES'] = '1' #0番を使用するとき"
   ]
  },
  {
   "cell_type": "code",
   "execution_count": 6,
   "id": "4dafe4bf",
   "metadata": {},
   "outputs": [
    {
     "name": "stdout",
     "output_type": "stream",
     "text": [
      "1\n"
     ]
    }
   ],
   "source": [
    "# 確認\n",
    "import torch\n",
    "print(torch.cuda.device_count()) #Pytorchで使用できるGPU数を取得"
   ]
  },
  {
   "cell_type": "markdown",
   "id": "d5f05cde",
   "metadata": {},
   "source": [
    "## prepare\n",
    "1. 語彙数の取得\n",
    "2. 学習データの用意(ラベル)\n",
    "3. 学習データの用意(特徴量)\n",
    "4. 乱数の種を固定"
   ]
  },
  {
   "cell_type": "code",
   "execution_count": 7,
   "id": "090f0044",
   "metadata": {},
   "outputs": [],
   "source": [
    "# 語彙数の取得(ID:0の単語はまとめて1語とする), 未知語, paddingを考慮\n",
    "vocab_size = max(name_to_id.values())+2"
   ]
  },
  {
   "cell_type": "code",
   "execution_count": 8,
   "id": "b7cfbffd",
   "metadata": {},
   "outputs": [],
   "source": [
    "# 訓練・検証・評価データの用意\n",
    "import torch\n",
    "import torch.nn as nn\n",
    "import numpy as np\n",
    "import torch.nn.functional as F\n",
    "\n",
    "# ラベル: ch08の出力を利用\n",
    "Y_train = np.loadtxt('../data/ch08/Y_train.txt')\n",
    "Y_valid = np.loadtxt('../data/ch08/Y_valid.txt')\n",
    "Y_test = np.loadtxt('../data/ch08/Y_test.txt')\n",
    "\n",
    "# pytorch用に変換\n",
    "Y_train_long = torch.tensor(Y_train, dtype=torch.int64)\n",
    "Y_valid_long = torch.tensor(Y_valid, dtype=torch.int64)\n",
    "Y_test_long = torch.tensor(Y_test, dtype=torch.int64)"
   ]
  },
  {
   "cell_type": "code",
   "execution_count": 9,
   "id": "e68740a7",
   "metadata": {},
   "outputs": [],
   "source": [
    "# 特徴量: convert_words_to_ids(80)を利用\n",
    "def convert_text_to_features(fname):\n",
    "    '''\n",
    "    input :fname\n",
    "    output:features(tensor)\n",
    "    '''\n",
    "    with open(fname, encoding='utf-8') as f:\n",
    "        lines = f.readlines()\n",
    "    \n",
    "    # id列(list)のリストに変換\n",
    "    ids_list = [convert_words_to_ids(line) for line in lines]\n",
    "    \n",
    "    # id列(tensor)のリストに変換\n",
    "    ids_tensor = [torch.tensor(ids, dtype=torch.int64) for ids in ids_list]\n",
    "    \n",
    "    # 最大のid+1(vocab_size-1)でパディング\n",
    "    features = torch.nn.utils.rnn.pad_sequence(ids_tensor, batch_first=True, padding_value=vocab_size-1)\n",
    "    \n",
    "    return features\n",
    "\n",
    "# 特徴量抽出\n",
    "X_train_long = convert_text_to_features('../data/ch06/train.txt')\n",
    "X_valid_long = convert_text_to_features('../data/ch06/valid.txt')\n",
    "X_test_long = convert_text_to_features('../data/ch06/test.txt')"
   ]
  },
  {
   "cell_type": "code",
   "execution_count": 10,
   "id": "713279bb",
   "metadata": {},
   "outputs": [],
   "source": [
    "# 乱数シードの固定\n",
    "import random\n",
    "\n",
    "def fix_seed(seed):\n",
    "    # random\n",
    "    random.seed(seed)\n",
    "    # Numpy\n",
    "    np.random.seed(seed)\n",
    "    # Pytorch\n",
    "    torch.manual_seed(seed)\n",
    "    torch.cuda.manual_seed_all(seed)\n",
    "    torch.backends.cudnn.deterministic = True"
   ]
  },
  {
   "cell_type": "markdown",
   "id": "a40ec420",
   "metadata": {},
   "source": [
    "## 86. 畳み込みニューラルネットワーク (CNN)\n",
    "1. CNNの定義\n",
    "2. ~~CNNの予測~~"
   ]
  },
  {
   "cell_type": "code",
   "execution_count": 11,
   "id": "7f7f9df1",
   "metadata": {},
   "outputs": [],
   "source": [
    "# CNNの定義\n",
    "class CNN(nn.Module):\n",
    "    def __init__(self, vocab_size, embedding_dim, output_size, hidden_size, kernel_size, batch_size):\n",
    "        # 層の定義\n",
    "        super().__init__()\n",
    "        self.batch_size = batch_size\n",
    "        \n",
    "        self.emb = nn.Embedding(vocab_size, embedding_dim, padding_idx=vocab_size-1)\n",
    "        self.conv = nn.Conv2d(1, hidden_size, kernel_size=(kernel_size, embedding_dim), padding=(1,0))\n",
    "        self.relu = nn.ReLU()\n",
    "        self.fc = nn.Linear(hidden_size, output_size)\n",
    "\n",
    "        # GPUに移す\n",
    "        self.device = torch.device('cuda:0' if torch.cuda.is_available() else 'cpu')\n",
    "        self = self.to(self.device)\n",
    "    \n",
    "    def forward(self, x):\n",
    "        # embedding\n",
    "        emb_out = self.emb(x)          # batch_size, sentence_length, emb_dim\n",
    "\n",
    "        # conv\n",
    "        conv_in = emb_out.unsqueeze(1) # batch_size, input_channels=1, sentence_length, emb_dim\n",
    "        conv_out = self.conv(conv_in)  # batch_size, output_channels, sentence_length+2*pad-kernel+1, 1\n",
    "\n",
    "        # relu\n",
    "        relu_in = conv_out.squeeze(3)  # batch_size, output_channels, sentence_length+2*pad-kernel+1, 1\n",
    "        relu_out = self.relu(relu_in)  # batch_size, output_channels, sentence_length+2*pad-kernel+1\n",
    "\n",
    "        # pool\n",
    "        pool_out = F.max_pool2d(relu_out, kernel_size=(1, relu_out.size(2))) # batch_size, output_channels, 1\n",
    "\n",
    "        # fc\n",
    "        fc_in = pool_out.squeeze(2)    # batch_size, output_channels\n",
    "        fc_out = self.fc(fc_in)        # batch_size, output_size\n",
    "        \n",
    "        return fc_out"
   ]
  },
  {
   "cell_type": "markdown",
   "id": "7b5e3e5a",
   "metadata": {},
   "source": [
    "## 88. パラメータチューニング\n",
    "1. train, validの定義\n",
    "2. objectiveの定義\n",
    "3. optunaによるパラメータチューニング\n",
    "4. 結果表示"
   ]
  },
  {
   "cell_type": "code",
   "execution_count": 12,
   "id": "97756306",
   "metadata": {},
   "outputs": [],
   "source": [
    "def train(model, device, train_loader, optimizer):\n",
    "    model.train()\n",
    "    for X, Y in train_loader:\n",
    "        X, Y = X.to(device), Y.to(device)\n",
    "        # forward\n",
    "        optimizer.zero_grad()\n",
    "        predict_y = model(X)\n",
    "        loss = F.cross_entropy(predict_y, Y)\n",
    "        # backward\n",
    "        loss.backward()\n",
    "        # 更新\n",
    "        optimizer.step()\n",
    "\n",
    "def valid(model, device, valid_loader):\n",
    "    model.eval()\n",
    "    correct = 0\n",
    "    with torch.no_grad():\n",
    "        for X, Y in valid_loader:\n",
    "            X, Y = X.to(device), Y.to(device)\n",
    "            predict_y = model(X)\n",
    "            predict_label = torch.max(predict_y, 1)[1]\n",
    "            correct += predict_label.eq(Y.view_as(predict_label)).sum().item()\n",
    "    return 1 - correct/len(valid_loader.dataset)"
   ]
  },
  {
   "cell_type": "code",
   "execution_count": 26,
   "id": "765ffbc2",
   "metadata": {},
   "outputs": [],
   "source": [
    "import torch.optim as optim\n",
    "\n",
    "# batch_sizeは32とする\n",
    "batch_size = 32\n",
    "\n",
    "# dataloaderの定義\n",
    "train_dataset2 = torch.utils.data.TensorDataset(X_train_long, Y_train_long)\n",
    "train_dataloader2 = torch.utils.data.DataLoader(train_dataset2, batch_size=batch_size, drop_last=True)\n",
    "\n",
    "valid_dataset2 = torch.utils.data.TensorDataset(X_valid_long, Y_valid_long)\n",
    "valid_dataloader2 = torch.utils.data.DataLoader(valid_dataset2, batch_size=batch_size, drop_last=True)\n",
    "\n",
    "def objective(trial):\n",
    "    device = 'cuda:0' if torch.cuda.is_available() else 'cpu'\n",
    "\n",
    "    # hidden_size\n",
    "    hidden_size = int(trial.suggest_discrete_uniform('hidden_size', 50, 100, 10))\n",
    "\n",
    "    # lr\n",
    "    lr = trial.suggest_loguniform('lr', 1e-5, 1e-1)\n",
    "\n",
    "    # kernel_size\n",
    "    kernel_size = trial.suggest_int('kernel_size', 3, 9)\n",
    "\n",
    "    # モデルの作成\n",
    "    model = CNN(vocab_size, 300, 4, hidden_size, kernel_size, batch_size)\n",
    "    optimizer = optim.Adam(model.parameters(), lr)\n",
    "\n",
    "    for epoch in range(10):\n",
    "        train(model, device, train_dataloader2, optimizer)\n",
    "        error_rate = valid(model, device, valid_dataloader2)\n",
    "    \n",
    "    return error_rate\n"
   ]
  },
  {
   "cell_type": "code",
   "execution_count": 27,
   "id": "d22dfc86",
   "metadata": {},
   "outputs": [
    {
     "name": "stderr",
     "output_type": "stream",
     "text": [
      "\u001b[32m[I 2022-06-16 01:39:37,613]\u001b[0m A new study created in memory with name: no-name-16b3320d-55c1-4c60-af44-53a617abfb35\u001b[0m\n",
      "\u001b[32m[I 2022-06-16 02:11:53,901]\u001b[0m Trial 0 finished with value: 0.3967065868263473 and parameters: {'hidden_size': 90.0, 'lr': 0.0641889460746234, 'kernel_size': 8}. Best is trial 0 with value: 0.3967065868263473.\u001b[0m\n",
      "\u001b[32m[I 2022-06-16 02:18:39,673]\u001b[0m Trial 1 finished with value: 0.31586826347305386 and parameters: {'hidden_size': 50.0, 'lr': 1.8645219781154473e-05, 'kernel_size': 3}. Best is trial 1 with value: 0.31586826347305386.\u001b[0m\n",
      "\u001b[32m[I 2022-06-16 02:40:12,903]\u001b[0m Trial 2 finished with value: 0.18862275449101795 and parameters: {'hidden_size': 60.0, 'lr': 9.909975592654636e-05, 'kernel_size': 8}. Best is trial 2 with value: 0.18862275449101795.\u001b[0m\n",
      "\u001b[32m[I 2022-06-16 02:54:35,706]\u001b[0m Trial 3 finished with value: 0.16017964071856283 and parameters: {'hidden_size': 80.0, 'lr': 0.00034206115368394415, 'kernel_size': 4}. Best is trial 3 with value: 0.16017964071856283.\u001b[0m\n",
      "\u001b[32m[I 2022-06-16 03:06:43,999]\u001b[0m Trial 4 finished with value: 0.13847305389221554 and parameters: {'hidden_size': 90.0, 'lr': 0.000819849766593829, 'kernel_size': 3}. Best is trial 4 with value: 0.13847305389221554.\u001b[0m\n",
      "\u001b[32m[I 2022-06-16 03:30:58,525]\u001b[0m Trial 5 finished with value: 0.16467065868263475 and parameters: {'hidden_size': 60.0, 'lr': 0.001103983488052777, 'kernel_size': 9}. Best is trial 4 with value: 0.13847305389221554.\u001b[0m\n",
      "\u001b[32m[I 2022-06-16 03:56:06,294]\u001b[0m Trial 6 finished with value: 0.20359281437125754 and parameters: {'hidden_size': 70.0, 'lr': 4.8736089849346674e-05, 'kernel_size': 8}. Best is trial 4 with value: 0.13847305389221554.\u001b[0m\n",
      "\u001b[32m[I 2022-06-16 04:23:01,985]\u001b[0m Trial 7 finished with value: 0.30389221556886226 and parameters: {'hidden_size': 100.0, 'lr': 1.4491588413248895e-05, 'kernel_size': 6}. Best is trial 4 with value: 0.13847305389221554.\u001b[0m\n",
      "\u001b[32m[I 2022-06-16 04:40:59,586]\u001b[0m Trial 8 finished with value: 0.14071856287425155 and parameters: {'hidden_size': 50.0, 'lr': 0.002164466353228579, 'kernel_size': 8}. Best is trial 4 with value: 0.13847305389221554.\u001b[0m\n",
      "\u001b[32m[I 2022-06-16 04:58:57,177]\u001b[0m Trial 9 finished with value: 0.1302395209580839 and parameters: {'hidden_size': 50.0, 'lr': 0.00855755300540021, 'kernel_size': 8}. Best is trial 9 with value: 0.1302395209580839.\u001b[0m\n"
     ]
    }
   ],
   "source": [
    "import optuna\n",
    "\n",
    "study = optuna.create_study()\n",
    "study.optimize(objective, n_trials=10)"
   ]
  },
  {
   "cell_type": "code",
   "execution_count": 28,
   "id": "4503e0ca",
   "metadata": {},
   "outputs": [
    {
     "name": "stdout",
     "output_type": "stream",
     "text": [
      "best params: {'hidden_size': 50.0, 'lr': 0.00855755300540021, 'kernel_size': 8}\n",
      "best value: 0.1302395209580839\n"
     ]
    }
   ],
   "source": [
    "print(f'best params: {study.best_params}')\n",
    "print(f'best value: {study.best_value}')"
   ]
  },
  {
   "cell_type": "code",
   "execution_count": null,
   "id": "9be8a1ed",
   "metadata": {},
   "outputs": [],
   "source": []
  }
 ],
 "metadata": {
  "kernelspec": {
   "display_name": "Python 3.8.13 ('base')",
   "language": "python",
   "name": "python3"
  },
  "language_info": {
   "codemirror_mode": {
    "name": "ipython",
    "version": 3
   },
   "file_extension": ".py",
   "mimetype": "text/x-python",
   "name": "python",
   "nbconvert_exporter": "python",
   "pygments_lexer": "ipython3",
   "version": "3.8.13"
  },
  "vscode": {
   "interpreter": {
    "hash": "d4d1e4263499bec80672ea0156c357c1ee493ec2b1c70f0acce89fc37c4a6abe"
   }
  }
 },
 "nbformat": 4,
 "nbformat_minor": 5
}
