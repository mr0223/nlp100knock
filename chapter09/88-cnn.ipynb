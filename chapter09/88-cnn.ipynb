{
 "cells": [
  {
   "cell_type": "markdown",
   "id": "309cbab6",
   "metadata": {},
   "source": [
    "## 80. ID番号への変換\n",
    "1. ~~単語をIDに変換する辞書を作成・保存(重いため,2回目以降はセル2を実行)~~\n",
    "2. 辞書の読み込み\n",
    "3. 単語列をID列に変換する関数"
   ]
  },
  {
   "cell_type": "code",
   "execution_count": 1,
   "id": "bc390a45",
   "metadata": {},
   "outputs": [],
   "source": [
    "# pklファイルから読み込み\n",
    "import pickle\n",
    "\n",
    "with open('../data/ch09/name_to_id.pkl', 'rb') as tf:\n",
    "    name_to_id = pickle.load(tf)"
   ]
  },
  {
   "cell_type": "code",
   "execution_count": 2,
   "id": "bd0b8d74",
   "metadata": {},
   "outputs": [],
   "source": [
    "# 与えられた単語列に対し, ID番号の列を返す関数\n",
    "# ch06ではCountVectorizerを利用したため, 今回もCountVectorizerを活用する\n",
    "from sklearn.feature_extraction.text import CountVectorizer\n",
    "\n",
    "def convert_words_to_ids(words):\n",
    "    '''\n",
    "    input :words(単語列)\n",
    "    output:ids(ID番号列)\n",
    "    '''\n",
    "    # analyzer: 単語列に前処理を加え, listに変換する関数\n",
    "    analyzer = CountVectorizer().build_analyzer()\n",
    "    word_list = analyzer(words)\n",
    "    \n",
    "    ids = []\n",
    "    for word in word_list:\n",
    "        if word in name_to_id:\n",
    "            ids.append(name_to_id[word])\n",
    "        else:\n",
    "            ids.append(0)  # 未知語の場合, IDを0とする\n",
    "    \n",
    "    return ids"
   ]
  },
  {
   "cell_type": "markdown",
   "id": "a8587b66",
   "metadata": {},
   "source": [
    "## GPU prepare\n",
    "1. 使用可能GPUの確認\n",
    "2. GPUの指定\n",
    "3. PyTorchで利用できるGPU数の確認"
   ]
  },
  {
   "cell_type": "code",
   "execution_count": 3,
   "id": "4b8a87e3",
   "metadata": {},
   "outputs": [
    {
     "name": "stdout",
     "output_type": "stream",
     "text": [
      "Mon Aug  1 13:24:51 2022       \n",
      "+-----------------------------------------------------------------------------+\n",
      "| NVIDIA-SMI 470.57.02    Driver Version: 470.57.02    CUDA Version: 11.4     |\n",
      "|-------------------------------+----------------------+----------------------+\n",
      "| GPU  Name        Persistence-M| Bus-Id        Disp.A | Volatile Uncorr. ECC |\n",
      "| Fan  Temp  Perf  Pwr:Usage/Cap|         Memory-Usage | GPU-Util  Compute M. |\n",
      "|                               |                      |               MIG M. |\n",
      "|===============================+======================+======================|\n",
      "|   0  NVIDIA RTX A6000    On   | 00000000:01:00.0 Off |                  Off |\n",
      "| 30%   43C    P2   106W / 300W |   1557MiB / 48685MiB |     33%      Default |\n",
      "|                               |                      |                  N/A |\n",
      "+-------------------------------+----------------------+----------------------+\n",
      "|   1  NVIDIA RTX A6000    On   | 00000000:25:00.0 Off |                  Off |\n",
      "| 30%   31C    P8    15W / 300W |      5MiB / 48685MiB |      0%      Default |\n",
      "|                               |                      |                  N/A |\n",
      "+-------------------------------+----------------------+----------------------+\n",
      "|   2  NVIDIA RTX A6000    On   | 00000000:41:00.0 Off |                  Off |\n",
      "| 30%   30C    P8    33W / 300W |      5MiB / 48685MiB |      0%      Default |\n",
      "|                               |                      |                  N/A |\n",
      "+-------------------------------+----------------------+----------------------+\n",
      "|   3  NVIDIA RTX A6000    On   | 00000000:61:00.0 Off |                  Off |\n",
      "| 30%   29C    P8    19W / 300W |      5MiB / 48685MiB |      0%      Default |\n",
      "|                               |                      |                  N/A |\n",
      "+-------------------------------+----------------------+----------------------+\n",
      "|   4  NVIDIA RTX A6000    On   | 00000000:81:00.0 Off |                  Off |\n",
      "| 30%   30C    P8    18W / 300W |      5MiB / 48685MiB |      0%      Default |\n",
      "|                               |                      |                  N/A |\n",
      "+-------------------------------+----------------------+----------------------+\n",
      "|   5  NVIDIA RTX A6000    On   | 00000000:A1:00.0 Off |                  Off |\n",
      "| 30%   29C    P8    24W / 300W |      5MiB / 48685MiB |      0%      Default |\n",
      "|                               |                      |                  N/A |\n",
      "+-------------------------------+----------------------+----------------------+\n",
      "|   6  NVIDIA RTX A6000    On   | 00000000:C1:00.0 Off |                  Off |\n",
      "| 30%   30C    P8    18W / 300W |      5MiB / 48685MiB |      0%      Default |\n",
      "|                               |                      |                  N/A |\n",
      "+-------------------------------+----------------------+----------------------+\n",
      "|   7  NVIDIA RTX A6000    On   | 00000000:E1:00.0 Off |                  Off |\n",
      "| 30%   28C    P8    14W / 300W |      5MiB / 48685MiB |      0%      Default |\n",
      "|                               |                      |                  N/A |\n",
      "+-------------------------------+----------------------+----------------------+\n",
      "                                                                               \n",
      "+-----------------------------------------------------------------------------+\n",
      "| Processes:                                                                  |\n",
      "|  GPU   GI   CI        PID   Type   Process name                  GPU Memory |\n",
      "|        ID   ID                                                   Usage      |\n",
      "|=============================================================================|\n",
      "+-----------------------------------------------------------------------------+\n"
     ]
    }
   ],
   "source": [
    "# 使用可能GPUの確認\n",
    "!nvidia-smi"
   ]
  },
  {
   "cell_type": "code",
   "execution_count": 4,
   "id": "772a2530",
   "metadata": {},
   "outputs": [],
   "source": [
    "# GPUの指定\n",
    "import os\n",
    "os.environ['CUDA_VISIBLE_DEVICES'] = '1' #1番を使用"
   ]
  },
  {
   "cell_type": "code",
   "execution_count": 5,
   "id": "4dafe4bf",
   "metadata": {},
   "outputs": [
    {
     "name": "stdout",
     "output_type": "stream",
     "text": [
      "1\n"
     ]
    }
   ],
   "source": [
    "# 確認\n",
    "import torch\n",
    "print(torch.cuda.device_count()) #Pytorchで使用できるGPU数を取得"
   ]
  },
  {
   "cell_type": "markdown",
   "id": "d5f05cde",
   "metadata": {},
   "source": [
    "## prepare\n",
    "1. 語彙数の取得\n",
    "2. 学習データの用意(ラベル)\n",
    "3. 学習データの用意(特徴量)\n",
    "4. 乱数の種を固定"
   ]
  },
  {
   "cell_type": "code",
   "execution_count": 6,
   "id": "090f0044",
   "metadata": {},
   "outputs": [],
   "source": [
    "# 語彙数の取得(ID:0の単語はまとめて1語とする), 未知語, paddingを考慮\n",
    "vocab_size = max(name_to_id.values())+2"
   ]
  },
  {
   "cell_type": "code",
   "execution_count": 7,
   "id": "b7cfbffd",
   "metadata": {},
   "outputs": [],
   "source": [
    "# 訓練・検証・評価データの用意\n",
    "import torch\n",
    "import torch.nn as nn\n",
    "import numpy as np\n",
    "import torch.nn.functional as F\n",
    "\n",
    "# ラベル: ch08の出力を利用\n",
    "Y_train = np.loadtxt('../data/ch08/Y_train.txt')\n",
    "Y_valid = np.loadtxt('../data/ch08/Y_valid.txt')\n",
    "Y_test = np.loadtxt('../data/ch08/Y_test.txt')\n",
    "\n",
    "# pytorch用に変換\n",
    "Y_train_long = torch.tensor(Y_train, dtype=torch.int64)\n",
    "Y_valid_long = torch.tensor(Y_valid, dtype=torch.int64)\n",
    "Y_test_long = torch.tensor(Y_test, dtype=torch.int64)"
   ]
  },
  {
   "cell_type": "code",
   "execution_count": 8,
   "id": "e68740a7",
   "metadata": {},
   "outputs": [],
   "source": [
    "# 特徴量: convert_words_to_ids(80)を利用\n",
    "def convert_text_to_features(fname):\n",
    "    '''\n",
    "    input :fname\n",
    "    output:features(tensor)\n",
    "    '''\n",
    "    with open(fname, encoding='utf-8') as f:\n",
    "        lines = f.readlines()\n",
    "    \n",
    "    # id列(list)のリストに変換\n",
    "    ids_list = [convert_words_to_ids(line) for line in lines]\n",
    "    \n",
    "    # id列(tensor)のリストに変換\n",
    "    ids_tensor = [torch.tensor(ids, dtype=torch.int64) for ids in ids_list]\n",
    "    \n",
    "    # 最大のid+1(vocab_size-1)でパディング\n",
    "    features = torch.nn.utils.rnn.pad_sequence(ids_tensor, batch_first=True, padding_value=vocab_size-1)\n",
    "    \n",
    "    return features\n",
    "\n",
    "# 特徴量抽出\n",
    "X_train_long = convert_text_to_features('../data/ch06/train.txt')\n",
    "X_valid_long = convert_text_to_features('../data/ch06/valid.txt')\n",
    "X_test_long = convert_text_to_features('../data/ch06/test.txt')"
   ]
  },
  {
   "cell_type": "code",
   "execution_count": 9,
   "id": "713279bb",
   "metadata": {},
   "outputs": [],
   "source": [
    "# 乱数シードの固定\n",
    "import random\n",
    "\n",
    "def fix_seed(seed):\n",
    "    # random\n",
    "    random.seed(seed)\n",
    "    # Numpy\n",
    "    np.random.seed(seed)\n",
    "    # Pytorch\n",
    "    torch.manual_seed(seed)\n",
    "    torch.cuda.manual_seed_all(seed)\n",
    "    torch.backends.cudnn.deterministic = True"
   ]
  },
  {
   "cell_type": "markdown",
   "id": "a40ec420",
   "metadata": {},
   "source": [
    "## 86. 畳み込みニューラルネットワーク (CNN)\n",
    "1. CNNの定義\n",
    "2. ~~CNNの予測~~"
   ]
  },
  {
   "cell_type": "code",
   "execution_count": 10,
   "id": "7f7f9df1",
   "metadata": {},
   "outputs": [],
   "source": [
    "# CNNの定義\n",
    "class CNN(nn.Module):\n",
    "    def __init__(self, vocab_size, embedding_dim, output_size, hidden_size, kernel_size, batch_size):\n",
    "        # 層の定義\n",
    "        super().__init__()\n",
    "        self.batch_size = batch_size\n",
    "        \n",
    "        self.emb = nn.Embedding(vocab_size, embedding_dim, padding_idx=vocab_size-1)\n",
    "        self.conv = nn.Conv2d(1, hidden_size, kernel_size=(kernel_size, embedding_dim), padding=(1,0))\n",
    "        self.relu = nn.ReLU()\n",
    "        self.fc = nn.Linear(hidden_size, output_size)\n",
    "\n",
    "        # GPUに移す(MultiGPU用に変更)\n",
    "        self.device = torch.device('cuda' if torch.cuda.is_available() else 'cpu')\n",
    "        self = self.to(self.device)\n",
    "    \n",
    "    def forward(self, x):\n",
    "        # embedding\n",
    "        emb_out = self.emb(x)          # batch_size, sentence_length, emb_dim\n",
    "\n",
    "        # conv\n",
    "        conv_in = emb_out.unsqueeze(1) # batch_size, input_channels=1, sentence_length, emb_dim\n",
    "        conv_out = self.conv(conv_in)  # batch_size, output_channels, sentence_length+2*pad-kernel+1, 1\n",
    "\n",
    "        # relu\n",
    "        relu_in = conv_out.squeeze(3)  # batch_size, output_channels, sentence_length+2*pad-kernel+1, 1\n",
    "        relu_out = self.relu(relu_in)  # batch_size, output_channels, sentence_length+2*pad-kernel+1\n",
    "\n",
    "        # pool\n",
    "        pool_out = F.max_pool2d(relu_out, kernel_size=(1, relu_out.size(2))) # batch_size, output_channels, 1\n",
    "\n",
    "        # fc\n",
    "        fc_in = pool_out.squeeze(2)    # batch_size, output_channels\n",
    "        fc_out = self.fc(fc_in)        # batch_size, output_size\n",
    "        \n",
    "        return fc_out"
   ]
  },
  {
   "cell_type": "markdown",
   "id": "7b5e3e5a",
   "metadata": {},
   "source": [
    "## 88. パラメータチューニング\n",
    "1. train, validの定義\n",
    "2. objectiveの定義\n",
    "3. optunaによるパラメータチューニング\n",
    "4. 結果表示"
   ]
  },
  {
   "cell_type": "code",
   "execution_count": 11,
   "id": "97756306",
   "metadata": {},
   "outputs": [],
   "source": [
    "def train(model, device, train_loader, optimizer):\n",
    "    model.train()\n",
    "    for X, Y in train_loader:\n",
    "        X, Y = X.to(device), Y.to(device)\n",
    "        # forward\n",
    "        optimizer.zero_grad()\n",
    "        predict_y = model(X)\n",
    "        loss = F.cross_entropy(predict_y, Y)\n",
    "        # backward\n",
    "        loss.backward()\n",
    "        # 更新\n",
    "        optimizer.step()\n",
    "\n",
    "def valid(model, device, valid_loader):\n",
    "    model.eval()\n",
    "    correct = 0\n",
    "    with torch.no_grad():\n",
    "        for X, Y in valid_loader:\n",
    "            X, Y = X.to(device), Y.to(device)\n",
    "            predict_y = model(X)\n",
    "            predict_label = torch.max(predict_y, 1)[1]\n",
    "            correct += predict_label.eq(Y.view_as(predict_label)).sum().item()\n",
    "    return correct/len(valid_loader.dataset)  # accuracy"
   ]
  },
  {
   "cell_type": "code",
   "execution_count": 12,
   "id": "765ffbc2",
   "metadata": {},
   "outputs": [],
   "source": [
    "import torch.optim as optim\n",
    "\n",
    "# batch_sizeは16とする\n",
    "batch_size = 16\n",
    "\n",
    "# dataloaderの定義\n",
    "train_dataset2 = torch.utils.data.TensorDataset(X_train_long, Y_train_long)\n",
    "train_dataloader2 = torch.utils.data.DataLoader(train_dataset2, batch_size=batch_size, drop_last=True)\n",
    "\n",
    "valid_dataset2 = torch.utils.data.TensorDataset(X_valid_long, Y_valid_long)\n",
    "valid_dataloader2 = torch.utils.data.DataLoader(valid_dataset2, batch_size=batch_size, drop_last=True)\n",
    "\n",
    "def objective(trial):\n",
    "    device = 'cuda' if torch.cuda.is_available() else 'cpu'\n",
    "\n",
    "    # hidden_size\n",
    "    hidden_size = int(trial.suggest_discrete_uniform('hidden_size', 50, 100, 10))\n",
    "\n",
    "    # lr\n",
    "    lr = trial.suggest_loguniform('lr', 1e-5, 1e-1)\n",
    "\n",
    "    # kernel_size\n",
    "    kernel_size = trial.suggest_int('kernel_size', 3, 9)\n",
    "\n",
    "    # モデルの作成\n",
    "    model = CNN(vocab_size, 300, 4, hidden_size, kernel_size, batch_size)\n",
    "    # MultiGPUを利用\n",
    "    # model = torch.nn.DataParallel(model)\n",
    "    torch.backends.cudnn.benchmark = True\n",
    "    \n",
    "    optimizer = optim.Adam(model.parameters(), lr)\n",
    "\n",
    "    for epoch in range(20):\n",
    "        train(model, device, train_dataloader2, optimizer)\n",
    "        accuracy = valid(model, device, valid_dataloader2)\n",
    "    \n",
    "    return accuracy\n"
   ]
  },
  {
   "cell_type": "code",
   "execution_count": 13,
   "id": "d22dfc86",
   "metadata": {},
   "outputs": [
    {
     "name": "stderr",
     "output_type": "stream",
     "text": [
      "\u001b[32m[I 2022-08-01 13:29:14,757]\u001b[0m A new study created in memory with name: no-name-bd0d9ea8-d36b-4ec8-bb18-7f35681bb8f0\u001b[0m\n",
      "\u001b[32m[I 2022-08-01 13:29:35,100]\u001b[0m Trial 0 finished with value: 0.8854790419161677 and parameters: {'hidden_size': 60.0, 'lr': 0.0040178936486375124, 'kernel_size': 4}. Best is trial 0 with value: 0.8854790419161677.\u001b[0m\n",
      "\u001b[32m[I 2022-08-01 13:29:53,155]\u001b[0m Trial 1 finished with value: 0.6773952095808383 and parameters: {'hidden_size': 80.0, 'lr': 0.0604712311463782, 'kernel_size': 6}. Best is trial 0 with value: 0.8854790419161677.\u001b[0m\n",
      "\u001b[32m[I 2022-08-01 13:30:14,830]\u001b[0m Trial 2 finished with value: 0.8353293413173652 and parameters: {'hidden_size': 80.0, 'lr': 7.60032177216933e-05, 'kernel_size': 7}. Best is trial 0 with value: 0.8854790419161677.\u001b[0m\n",
      "\u001b[32m[I 2022-08-01 13:30:42,560]\u001b[0m Trial 3 finished with value: 0.8794910179640718 and parameters: {'hidden_size': 50.0, 'lr': 0.00812323386808038, 'kernel_size': 6}. Best is trial 0 with value: 0.8854790419161677.\u001b[0m\n",
      "\u001b[32m[I 2022-08-01 13:31:10,537]\u001b[0m Trial 4 finished with value: 0.8712574850299402 and parameters: {'hidden_size': 90.0, 'lr': 0.0008168795371876464, 'kernel_size': 9}. Best is trial 0 with value: 0.8854790419161677.\u001b[0m\n",
      "\u001b[32m[I 2022-08-01 13:31:38,343]\u001b[0m Trial 5 finished with value: 0.8705089820359282 and parameters: {'hidden_size': 60.0, 'lr': 0.012304110582728246, 'kernel_size': 8}. Best is trial 0 with value: 0.8854790419161677.\u001b[0m\n",
      "\u001b[32m[I 2022-08-01 13:32:06,301]\u001b[0m Trial 6 finished with value: 0.749251497005988 and parameters: {'hidden_size': 100.0, 'lr': 1.0100109635470238e-05, 'kernel_size': 8}. Best is trial 0 with value: 0.8854790419161677.\u001b[0m\n",
      "\u001b[32m[I 2022-08-01 13:32:34,070]\u001b[0m Trial 7 finished with value: 0.8143712574850299 and parameters: {'hidden_size': 70.0, 'lr': 4.37941909035402e-05, 'kernel_size': 8}. Best is trial 0 with value: 0.8854790419161677.\u001b[0m\n",
      "\u001b[32m[I 2022-08-01 13:33:01,642]\u001b[0m Trial 8 finished with value: 0.8802395209580839 and parameters: {'hidden_size': 80.0, 'lr': 0.0022302811953297517, 'kernel_size': 5}. Best is trial 0 with value: 0.8854790419161677.\u001b[0m\n",
      "\u001b[32m[I 2022-08-01 13:33:29,033]\u001b[0m Trial 9 finished with value: 0.8787425149700598 and parameters: {'hidden_size': 80.0, 'lr': 0.010131234162296495, 'kernel_size': 3}. Best is trial 0 with value: 0.8854790419161677.\u001b[0m\n",
      "\u001b[32m[I 2022-08-01 13:33:56,407]\u001b[0m Trial 10 finished with value: 0.8869760479041916 and parameters: {'hidden_size': 50.0, 'lr': 0.0005057799413963886, 'kernel_size': 3}. Best is trial 10 with value: 0.8869760479041916.\u001b[0m\n",
      "\u001b[32m[I 2022-08-01 13:34:23,727]\u001b[0m Trial 11 finished with value: 0.8862275449101796 and parameters: {'hidden_size': 50.0, 'lr': 0.0004857148983651149, 'kernel_size': 3}. Best is trial 10 with value: 0.8869760479041916.\u001b[0m\n",
      "\u001b[32m[I 2022-08-01 13:34:51,016]\u001b[0m Trial 12 finished with value: 0.8967065868263473 and parameters: {'hidden_size': 50.0, 'lr': 0.0003885545046601125, 'kernel_size': 3}. Best is trial 12 with value: 0.8967065868263473.\u001b[0m\n",
      "\u001b[32m[I 2022-08-01 13:35:18,365]\u001b[0m Trial 13 finished with value: 0.8675149700598802 and parameters: {'hidden_size': 60.0, 'lr': 0.00021888236786402719, 'kernel_size': 4}. Best is trial 12 with value: 0.8967065868263473.\u001b[0m\n",
      "\u001b[32m[I 2022-08-01 13:35:45,808]\u001b[0m Trial 14 finished with value: 0.875 and parameters: {'hidden_size': 50.0, 'lr': 0.00017385126053103307, 'kernel_size': 4}. Best is trial 12 with value: 0.8967065868263473.\u001b[0m\n",
      "\u001b[32m[I 2022-08-01 13:36:13,202]\u001b[0m Trial 15 finished with value: 0.8630239520958084 and parameters: {'hidden_size': 60.0, 'lr': 0.0011446167969998285, 'kernel_size': 3}. Best is trial 12 with value: 0.8967065868263473.\u001b[0m\n",
      "\u001b[32m[I 2022-08-01 13:36:40,742]\u001b[0m Trial 16 finished with value: 0.8151197604790419 and parameters: {'hidden_size': 70.0, 'lr': 2.5213543671650557e-05, 'kernel_size': 5}. Best is trial 12 with value: 0.8967065868263473.\u001b[0m\n",
      "\u001b[32m[I 2022-08-01 13:37:08,324]\u001b[0m Trial 17 finished with value: 0.8675149700598802 and parameters: {'hidden_size': 50.0, 'lr': 0.00029963418451798684, 'kernel_size': 5}. Best is trial 12 with value: 0.8967065868263473.\u001b[0m\n",
      "\u001b[32m[I 2022-08-01 13:37:35,752]\u001b[0m Trial 18 finished with value: 0.8607784431137725 and parameters: {'hidden_size': 70.0, 'lr': 0.00010123510214263834, 'kernel_size': 3}. Best is trial 12 with value: 0.8967065868263473.\u001b[0m\n",
      "\u001b[32m[I 2022-08-01 13:38:03,056]\u001b[0m Trial 19 finished with value: 0.8510479041916168 and parameters: {'hidden_size': 50.0, 'lr': 0.001684959884445494, 'kernel_size': 4}. Best is trial 12 with value: 0.8967065868263473.\u001b[0m\n",
      "\u001b[32m[I 2022-08-01 13:38:21,203]\u001b[0m Trial 20 finished with value: 0.8787425149700598 and parameters: {'hidden_size': 60.0, 'lr': 0.000451247872053158, 'kernel_size': 5}. Best is trial 12 with value: 0.8967065868263473.\u001b[0m\n",
      "\u001b[32m[I 2022-08-01 13:38:39,023]\u001b[0m Trial 21 finished with value: 0.8809880239520959 and parameters: {'hidden_size': 50.0, 'lr': 0.0006088510447400258, 'kernel_size': 3}. Best is trial 12 with value: 0.8967065868263473.\u001b[0m\n",
      "\u001b[32m[I 2022-08-01 13:38:56,843]\u001b[0m Trial 22 finished with value: 0.8809880239520959 and parameters: {'hidden_size': 50.0, 'lr': 0.00035488535598443544, 'kernel_size': 3}. Best is trial 12 with value: 0.8967065868263473.\u001b[0m\n",
      "\u001b[32m[I 2022-08-01 13:39:15,886]\u001b[0m Trial 23 finished with value: 0.8667664670658682 and parameters: {'hidden_size': 60.0, 'lr': 0.0001369242673574131, 'kernel_size': 4}. Best is trial 12 with value: 0.8967065868263473.\u001b[0m\n",
      "\u001b[32m[I 2022-08-01 13:39:43,352]\u001b[0m Trial 24 finished with value: 0.8989520958083832 and parameters: {'hidden_size': 50.0, 'lr': 0.00374337089823699, 'kernel_size': 3}. Best is trial 24 with value: 0.8989520958083832.\u001b[0m\n",
      "\u001b[32m[I 2022-08-01 13:40:11,291]\u001b[0m Trial 25 finished with value: 0.8038922155688623 and parameters: {'hidden_size': 60.0, 'lr': 0.02561667641266296, 'kernel_size': 4}. Best is trial 24 with value: 0.8989520958083832.\u001b[0m\n",
      "\u001b[32m[I 2022-08-01 13:40:38,705]\u001b[0m Trial 26 finished with value: 0.8772455089820359 and parameters: {'hidden_size': 50.0, 'lr': 0.0035156597563504284, 'kernel_size': 3}. Best is trial 24 with value: 0.8989520958083832.\u001b[0m\n",
      "\u001b[32m[I 2022-08-01 13:41:06,262]\u001b[0m Trial 27 finished with value: 0.8944610778443114 and parameters: {'hidden_size': 100.0, 'lr': 0.00488883852130653, 'kernel_size': 4}. Best is trial 24 with value: 0.8989520958083832.\u001b[0m\n",
      "\u001b[32m[I 2022-08-01 13:41:33,696]\u001b[0m Trial 28 finished with value: 0.8877245508982036 and parameters: {'hidden_size': 100.0, 'lr': 0.006009907295777337, 'kernel_size': 4}. Best is trial 24 with value: 0.8989520958083832.\u001b[0m\n",
      "\u001b[32m[I 2022-08-01 13:41:57,946]\u001b[0m Trial 29 finished with value: 0.7747005988023952 and parameters: {'hidden_size': 90.0, 'lr': 0.03000953762010771, 'kernel_size': 5}. Best is trial 24 with value: 0.8989520958083832.\u001b[0m\n",
      "\u001b[32m[I 2022-08-01 13:42:16,012]\u001b[0m Trial 30 finished with value: 0.8884730538922155 and parameters: {'hidden_size': 90.0, 'lr': 0.0033331848708653363, 'kernel_size': 4}. Best is trial 24 with value: 0.8989520958083832.\u001b[0m\n",
      "\u001b[32m[I 2022-08-01 13:42:33,763]\u001b[0m Trial 31 finished with value: 0.875 and parameters: {'hidden_size': 90.0, 'lr': 0.0031257000976888005, 'kernel_size': 4}. Best is trial 24 with value: 0.8989520958083832.\u001b[0m\n",
      "\u001b[32m[I 2022-08-01 13:42:51,532]\u001b[0m Trial 32 finished with value: 0.8652694610778443 and parameters: {'hidden_size': 100.0, 'lr': 0.0013348737061171078, 'kernel_size': 4}. Best is trial 24 with value: 0.8989520958083832.\u001b[0m\n",
      "\u001b[32m[I 2022-08-01 13:43:09,656]\u001b[0m Trial 33 finished with value: 0.8323353293413174 and parameters: {'hidden_size': 90.0, 'lr': 0.01969947699968829, 'kernel_size': 6}. Best is trial 24 with value: 0.8989520958083832.\u001b[0m\n",
      "\u001b[32m[I 2022-08-01 13:43:27,800]\u001b[0m Trial 34 finished with value: 0.7305389221556886 and parameters: {'hidden_size': 100.0, 'lr': 0.08541910549829135, 'kernel_size': 3}. Best is trial 24 with value: 0.8989520958083832.\u001b[0m\n",
      "\u001b[32m[I 2022-08-01 13:43:46,469]\u001b[0m Trial 35 finished with value: 0.8839820359281437 and parameters: {'hidden_size': 90.0, 'lr': 0.006292350281716087, 'kernel_size': 7}. Best is trial 24 with value: 0.8989520958083832.\u001b[0m\n",
      "\u001b[32m[I 2022-08-01 13:44:04,355]\u001b[0m Trial 36 finished with value: 0.8929640718562875 and parameters: {'hidden_size': 100.0, 'lr': 0.004692564405670364, 'kernel_size': 4}. Best is trial 24 with value: 0.8989520958083832.\u001b[0m\n",
      "\u001b[32m[I 2022-08-01 13:44:22,939]\u001b[0m Trial 37 finished with value: 0.8622754491017964 and parameters: {'hidden_size': 100.0, 'lr': 0.015341328788008719, 'kernel_size': 5}. Best is trial 24 with value: 0.8989520958083832.\u001b[0m\n",
      "\u001b[32m[I 2022-08-01 13:44:41,890]\u001b[0m Trial 38 finished with value: 0.8779940119760479 and parameters: {'hidden_size': 70.0, 'lr': 0.005305413787091701, 'kernel_size': 7}. Best is trial 24 with value: 0.8989520958083832.\u001b[0m\n",
      "\u001b[32m[I 2022-08-01 13:45:00,676]\u001b[0m Trial 39 finished with value: 0.8772455089820359 and parameters: {'hidden_size': 80.0, 'lr': 0.0008014535169818808, 'kernel_size': 9}. Best is trial 24 with value: 0.8989520958083832.\u001b[0m\n",
      "\u001b[32m[I 2022-08-01 13:45:19,709]\u001b[0m Trial 40 finished with value: 0.8690119760479041 and parameters: {'hidden_size': 100.0, 'lr': 0.0017810219651320349, 'kernel_size': 6}. Best is trial 24 with value: 0.8989520958083832.\u001b[0m\n",
      "\u001b[32m[I 2022-08-01 13:45:37,503]\u001b[0m Trial 41 finished with value: 0.8817365269461078 and parameters: {'hidden_size': 90.0, 'lr': 0.0024862659352271298, 'kernel_size': 4}. Best is trial 24 with value: 0.8989520958083832.\u001b[0m\n",
      "\u001b[32m[I 2022-08-01 13:45:55,291]\u001b[0m Trial 42 finished with value: 0.8869760479041916 and parameters: {'hidden_size': 100.0, 'lr': 0.009059123162792374, 'kernel_size': 3}. Best is trial 24 with value: 0.8989520958083832.\u001b[0m\n",
      "\u001b[32m[I 2022-08-01 13:46:13,082]\u001b[0m Trial 43 finished with value: 0.8862275449101796 and parameters: {'hidden_size': 100.0, 'lr': 0.00460961625021966, 'kernel_size': 3}. Best is trial 24 with value: 0.8989520958083832.\u001b[0m\n",
      "\u001b[32m[I 2022-08-01 13:46:30,834]\u001b[0m Trial 44 finished with value: 0.7649700598802395 and parameters: {'hidden_size': 90.0, 'lr': 0.03709615837058101, 'kernel_size': 4}. Best is trial 24 with value: 0.8989520958083832.\u001b[0m\n",
      "\u001b[32m[I 2022-08-01 13:46:48,679]\u001b[0m Trial 45 finished with value: 0.8892215568862275 and parameters: {'hidden_size': 80.0, 'lr': 0.0030810147810472065, 'kernel_size': 5}. Best is trial 24 with value: 0.8989520958083832.\u001b[0m\n",
      "\u001b[32m[I 2022-08-01 13:47:06,484]\u001b[0m Trial 46 finished with value: 0.8862275449101796 and parameters: {'hidden_size': 80.0, 'lr': 0.007805012511946168, 'kernel_size': 5}. Best is trial 24 with value: 0.8989520958083832.\u001b[0m\n",
      "\u001b[32m[I 2022-08-01 13:47:24,307]\u001b[0m Trial 47 finished with value: 0.8772455089820359 and parameters: {'hidden_size': 70.0, 'lr': 0.000868445088803017, 'kernel_size': 5}. Best is trial 24 with value: 0.8989520958083832.\u001b[0m\n",
      "\u001b[32m[I 2022-08-01 13:47:42,586]\u001b[0m Trial 48 finished with value: 0.8675149700598802 and parameters: {'hidden_size': 80.0, 'lr': 0.013397482115813604, 'kernel_size': 6}. Best is trial 24 with value: 0.8989520958083832.\u001b[0m\n",
      "\u001b[32m[I 2022-08-01 13:48:09,960]\u001b[0m Trial 49 finished with value: 0.8959580838323353 and parameters: {'hidden_size': 60.0, 'lr': 0.002199117414158285, 'kernel_size': 3}. Best is trial 24 with value: 0.8989520958083832.\u001b[0m\n"
     ]
    }
   ],
   "source": [
    "import optuna\n",
    "\n",
    "study = optuna.create_study(direction='maximize')\n",
    "study.optimize(objective, n_trials=50)"
   ]
  },
  {
   "cell_type": "code",
   "execution_count": 14,
   "id": "4503e0ca",
   "metadata": {},
   "outputs": [
    {
     "name": "stdout",
     "output_type": "stream",
     "text": [
      "best params: {'hidden_size': 50.0, 'lr': 0.00374337089823699, 'kernel_size': 3}\n",
      "best value: 0.8989520958083832\n"
     ]
    }
   ],
   "source": [
    "print(f'best params: {study.best_params}')\n",
    "print(f'best value: {study.best_value}')"
   ]
  },
  {
   "cell_type": "code",
   "execution_count": null,
   "id": "9be8a1ed",
   "metadata": {},
   "outputs": [],
   "source": []
  }
 ],
 "metadata": {
  "kernelspec": {
   "display_name": "Python 3.8.13 ('base')",
   "language": "python",
   "name": "python3"
  },
  "language_info": {
   "codemirror_mode": {
    "name": "ipython",
    "version": 3
   },
   "file_extension": ".py",
   "mimetype": "text/x-python",
   "name": "python",
   "nbconvert_exporter": "python",
   "pygments_lexer": "ipython3",
   "version": "3.8.13"
  },
  "vscode": {
   "interpreter": {
    "hash": "d4d1e4263499bec80672ea0156c357c1ee493ec2b1c70f0acce89fc37c4a6abe"
   }
  }
 },
 "nbformat": 4,
 "nbformat_minor": 5
}
