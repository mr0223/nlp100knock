{
 "cells": [
  {
   "cell_type": "markdown",
   "id": "309cbab6",
   "metadata": {},
   "source": [
    "## 80. ID番号への変換\n",
    "1. ~~単語をIDに変換する辞書を作成・保存(重いため,2回目以降はセル2を実行)~~\n",
    "2. 辞書の読み込み\n",
    "3. 単語列をID列に変換する関数"
   ]
  },
  {
   "cell_type": "code",
   "execution_count": 1,
   "id": "bc390a45",
   "metadata": {},
   "outputs": [],
   "source": [
    "# pklファイルから読み込み\n",
    "import pickle\n",
    "\n",
    "with open('../data/ch09/name_to_id.pkl', 'rb') as tf:\n",
    "    name_to_id = pickle.load(tf)"
   ]
  },
  {
   "cell_type": "code",
   "execution_count": 2,
   "id": "bd0b8d74",
   "metadata": {},
   "outputs": [],
   "source": [
    "# 与えられた単語列に対し, ID番号の列を返す関数\n",
    "# ch06ではCountVectorizerを利用したため, 今回もCountVectorizerを活用する\n",
    "from sklearn.feature_extraction.text import CountVectorizer\n",
    "\n",
    "def convert_words_to_ids(words):\n",
    "    '''\n",
    "    input :words(単語列)\n",
    "    output:ids(ID番号列)\n",
    "    '''\n",
    "    # analyzer: 単語列に前処理を加え, listに変換する関数\n",
    "    analyzer = CountVectorizer().build_analyzer()\n",
    "    word_list = analyzer(words)\n",
    "    \n",
    "    ids = []\n",
    "    for word in word_list:\n",
    "        if word in name_to_id:\n",
    "            ids.append(name_to_id[word])\n",
    "        else:\n",
    "            ids.append(0)  # 未知語の場合, IDを0とする\n",
    "    \n",
    "    return ids"
   ]
  },
  {
   "cell_type": "markdown",
   "id": "a8587b66",
   "metadata": {},
   "source": [
    "## GPU prepare\n",
    "1. 使用可能GPUの確認\n",
    "2. GPUの指定\n",
    "3. PyTorchで利用できるGPU数の確認"
   ]
  },
  {
   "cell_type": "code",
   "execution_count": 3,
   "id": "4b8a87e3",
   "metadata": {},
   "outputs": [
    {
     "name": "stdout",
     "output_type": "stream",
     "text": [
      "Wed Jun 15 12:45:16 2022       \n",
      "+-----------------------------------------------------------------------------+\n",
      "| NVIDIA-SMI 470.57.02    Driver Version: 470.57.02    CUDA Version: 11.4     |\n",
      "|-------------------------------+----------------------+----------------------+\n",
      "| GPU  Name        Persistence-M| Bus-Id        Disp.A | Volatile Uncorr. ECC |\n",
      "| Fan  Temp  Perf  Pwr:Usage/Cap|         Memory-Usage | GPU-Util  Compute M. |\n",
      "|                               |                      |               MIG M. |\n",
      "|===============================+======================+======================|\n",
      "|   0  NVIDIA RTX A6000    On   | 00000000:01:00.0 Off |                  Off |\n",
      "| 30%   28C    P8    17W / 300W |   2181MiB / 48685MiB |      0%      Default |\n",
      "|                               |                      |                  N/A |\n",
      "+-------------------------------+----------------------+----------------------+\n",
      "|   1  NVIDIA RTX A6000    On   | 00000000:25:00.0 Off |                  Off |\n",
      "| 30%   28C    P8    15W / 300W |      8MiB / 48685MiB |      0%      Default |\n",
      "|                               |                      |                  N/A |\n",
      "+-------------------------------+----------------------+----------------------+\n",
      "|   2  NVIDIA RTX A6000    On   | 00000000:C1:00.0 Off |                  Off |\n",
      "| 30%   27C    P8    16W / 300W |      8MiB / 48685MiB |      0%      Default |\n",
      "|                               |                      |                  N/A |\n",
      "+-------------------------------+----------------------+----------------------+\n",
      "|   3  NVIDIA RTX A6000    On   | 00000000:E1:00.0 Off |                  Off |\n",
      "| 30%   27C    P8    14W / 300W |      8MiB / 48685MiB |      0%      Default |\n",
      "|                               |                      |                  N/A |\n",
      "+-------------------------------+----------------------+----------------------+\n",
      "                                                                               \n",
      "+-----------------------------------------------------------------------------+\n",
      "| Processes:                                                                  |\n",
      "|  GPU   GI   CI        PID   Type   Process name                  GPU Memory |\n",
      "|        ID   ID                                                   Usage      |\n",
      "|=============================================================================|\n",
      "+-----------------------------------------------------------------------------+\n"
     ]
    }
   ],
   "source": [
    "# 使用可能GPUの確認\n",
    "!nvidia-smi"
   ]
  },
  {
   "cell_type": "code",
   "execution_count": 4,
   "id": "772a2530",
   "metadata": {},
   "outputs": [],
   "source": [
    "# GPUの指定\n",
    "import os\n",
    "os.environ['CUDA_VISIBLE_DEVICES'] = '2' #0番を使用するとき"
   ]
  },
  {
   "cell_type": "code",
   "execution_count": 5,
   "id": "4dafe4bf",
   "metadata": {},
   "outputs": [
    {
     "name": "stdout",
     "output_type": "stream",
     "text": [
      "1\n"
     ]
    }
   ],
   "source": [
    "# 確認\n",
    "import torch\n",
    "print(torch.cuda.device_count()) #Pytorchで使用できるGPU数を取得"
   ]
  },
  {
   "cell_type": "markdown",
   "id": "d5f05cde",
   "metadata": {},
   "source": [
    "## prepare\n",
    "1. 語彙数の取得\n",
    "2. 学習データの用意(ラベル)\n",
    "3. 学習データの用意(特徴量)\n",
    "4. 乱数の種を固定"
   ]
  },
  {
   "cell_type": "code",
   "execution_count": 6,
   "id": "090f0044",
   "metadata": {},
   "outputs": [],
   "source": [
    "# 語彙数の取得(ID:0の単語はまとめて1語とする), 未知語, paddingを考慮\n",
    "vocab_size = max(name_to_id.values())+2"
   ]
  },
  {
   "cell_type": "code",
   "execution_count": 7,
   "id": "b7cfbffd",
   "metadata": {},
   "outputs": [],
   "source": [
    "# 訓練・検証・評価データの用意\n",
    "import torch\n",
    "import torch.nn as nn\n",
    "import numpy as np\n",
    "import torch.nn.functional as F\n",
    "\n",
    "# ラベル: ch08の出力を利用\n",
    "Y_train = np.loadtxt('../data/ch08/Y_train.txt')\n",
    "Y_valid = np.loadtxt('../data/ch08/Y_valid.txt')\n",
    "Y_test = np.loadtxt('../data/ch08/Y_test.txt')\n",
    "\n",
    "# pytorch用に変換\n",
    "Y_train_long = torch.tensor(Y_train, dtype=torch.int64)\n",
    "Y_valid_long = torch.tensor(Y_valid, dtype=torch.int64)\n",
    "Y_test_long = torch.tensor(Y_test, dtype=torch.int64)"
   ]
  },
  {
   "cell_type": "code",
   "execution_count": 8,
   "id": "2d8d1392",
   "metadata": {},
   "outputs": [],
   "source": [
    "# 特徴量: convert_words_to_ids(80)を利用\n",
    "def convert_text_to_features(fname):\n",
    "    '''\n",
    "    input :fname\n",
    "    output:features(tensor)\n",
    "    '''\n",
    "    with open(fname, encoding='utf-8') as f:\n",
    "        lines = f.readlines()\n",
    "    \n",
    "    # id列(list)のリストに変換\n",
    "    ids_list = [convert_words_to_ids(line) for line in lines]\n",
    "    \n",
    "    # id列(tensor)のリストに変換\n",
    "    ids_tensor = [torch.tensor(ids, dtype=torch.int64) for ids in ids_list]\n",
    "    \n",
    "    # 最大のid+1(vocab_size-1)でパディング\n",
    "    features = torch.nn.utils.rnn.pad_sequence(ids_tensor, batch_first=True, padding_value=vocab_size-1)\n",
    "    \n",
    "    return features\n",
    "\n",
    "# 特徴量抽出\n",
    "X_train_long = convert_text_to_features('../data/ch06/train.txt')\n",
    "X_valid_long = convert_text_to_features('../data/ch06/valid.txt')\n",
    "X_test_long = convert_text_to_features('../data/ch06/test.txt')"
   ]
  },
  {
   "cell_type": "code",
   "execution_count": 9,
   "id": "713279bb",
   "metadata": {},
   "outputs": [],
   "source": [
    "# 乱数シードの固定\n",
    "import random\n",
    "\n",
    "def fix_seed(seed):\n",
    "    # random\n",
    "    random.seed(seed)\n",
    "    # Numpy\n",
    "    np.random.seed(seed)\n",
    "    # Pytorch\n",
    "    torch.manual_seed(seed)\n",
    "    torch.cuda.manual_seed_all(seed)\n",
    "    torch.backends.cudnn.deterministic = True"
   ]
  },
  {
   "cell_type": "markdown",
   "id": "060692bb",
   "metadata": {},
   "source": [
    "## 83. ミニバッチ化・GPU上での学習\n",
    "1. ~~GPUに対応したRNNの定義~~\n",
    "2. GPUに対応したaccuracy計測関数の定義\n",
    "3. ~~ミニバッチ化し, GPU上で学習~~"
   ]
  },
  {
   "cell_type": "code",
   "execution_count": 10,
   "id": "2c767c41",
   "metadata": {},
   "outputs": [],
   "source": [
    "# accuracyの計測\n",
    "def measure_loss_accuracy2(model, criterion, dataloader):\n",
    "    '''\n",
    "    input : model, criterion, dataloader\n",
    "    output: loss, accuracy\n",
    "    '''\n",
    "    running_loss = 0\n",
    "    correct_num = 0\n",
    "    device = model.device\n",
    "    batch_size = model.batch_size\n",
    "    for X, Y in dataloader:\n",
    "        # GPU上に\n",
    "        X = X.to(device)\n",
    "        Y = Y.to(device)\n",
    "        model.init_hidden()\n",
    "        predict_y = model.forward(X)\n",
    "        \n",
    "        # lossの計算\n",
    "        loss = criterion(predict_y, Y)\n",
    "        running_loss += loss.item()\n",
    "        \n",
    "        # accuracyの計算\n",
    "        predict_label = torch.max(predict_y, 1)[1]\n",
    "        for i in range(batch_size):\n",
    "            if predict_label[i] == Y[i]:\n",
    "                correct_num += 1\n",
    "    \n",
    "    loss_avg = running_loss/len(dataloader)\n",
    "    accuracy = correct_num/(len(dataloader)*batch_size)\n",
    "    \n",
    "    return loss_avg, accuracy"
   ]
  },
  {
   "cell_type": "markdown",
   "id": "2bd64f93",
   "metadata": {},
   "source": [
    "## 85. 双方向RNN・多層化\n",
    "1. biRNNの定義\n",
    "2. ~~biRNNの学習~~\n",
    "3. ~~多層biRNNの学習~~"
   ]
  },
  {
   "cell_type": "code",
   "execution_count": 13,
   "id": "38adc754",
   "metadata": {},
   "outputs": [],
   "source": [
    "# biRNNの定義\n",
    "class biRNN(nn.Module):\n",
    "    def __init__(self, vocab_size, embedding_dim, hidden_size, output_size, batch_size, num_layers=1):\n",
    "        # 層の定義\n",
    "        super().__init__()\n",
    "        self.hidden_size = hidden_size\n",
    "        self.batch_size = batch_size\n",
    "        self.num_layers = num_layers\n",
    "        \n",
    "        self.emb = nn.Embedding(vocab_size, embedding_dim, padding_idx=vocab_size-1)\n",
    "        # biRNNに対応: bidirectional=True\n",
    "        self.birnn = nn.RNN(embedding_dim, hidden_size, num_layers=self.num_layers, batch_first=True, bidirectional=True)\n",
    "        # biRNNに対応: birnnの出力次元はrnnの次元の2倍\n",
    "        self.fc = nn.Linear(hidden_size*2, output_size)\n",
    "\n",
    "        # GPUに移す\n",
    "        self.device = torch.device('cuda:0' if torch.cuda.is_available() else 'cpu')\n",
    "        self = self.to(self.device)\n",
    "    \n",
    "    def init_hidden(self, batch_size=None):\n",
    "        if not batch_size:\n",
    "            batch_size = self.batch_size\n",
    "        # biRNNに対応: birnnの出力次元はrnnの次元の2倍\n",
    "        self.hidden_state = torch.zeros(self.num_layers*2, batch_size, self.hidden_size).to(self.device)\n",
    "    \n",
    "    def forward(self, x):\n",
    "        x = self.emb(x)\n",
    "        # biRNNに対応\n",
    "        x_birnn, self.hidden_state =self.birnn(x, self.hidden_state)\n",
    "        x = self.fc(x_birnn[:,-1,:])\n",
    "        return x"
   ]
  },
  {
   "cell_type": "markdown",
   "id": "7b5e3e5a",
   "metadata": {},
   "source": [
    "## 88. パラメータチューニング\n",
    "1. train, validの定義\n",
    "2. objectiveの定義\n",
    "3. optunaによるパラメータチューニング\n",
    "4. 結果表示"
   ]
  },
  {
   "cell_type": "code",
   "execution_count": 17,
   "id": "a48c709e",
   "metadata": {},
   "outputs": [],
   "source": [
    "def train(model, device, train_loader, optimizer):\n",
    "    model.train()\n",
    "    for X, Y in train_loader:\n",
    "        X, Y = X.to(device), Y.to(device)\n",
    "        # forward\n",
    "        optimizer.zero_grad()\n",
    "        model.init_hidden()\n",
    "        predict_y = model(X)\n",
    "        loss = F.cross_entropy(predict_y, Y)\n",
    "        # backward\n",
    "        loss.backward()\n",
    "        # 更新\n",
    "        optimizer.step()\n",
    "\n",
    "def valid(model, device, valid_loader):\n",
    "    model.eval()\n",
    "    correct = 0\n",
    "    with torch.no_grad():\n",
    "        for X, Y in valid_loader:\n",
    "            X, Y = X.to(device), Y.to(device)\n",
    "            model.init_hidden()\n",
    "            predict_y = model(X)\n",
    "            predict_label = torch.max(predict_y, 1)[1]\n",
    "            correct += predict_label.eq(Y.view_as(predict_label)).sum().item()\n",
    "    return 1 - correct/len(valid_loader.dataset)"
   ]
  },
  {
   "cell_type": "code",
   "execution_count": 21,
   "id": "0eb122f9",
   "metadata": {},
   "outputs": [],
   "source": [
    "import torch.optim as optim\n",
    "\n",
    "def objective(trial):\n",
    "    device = 'cuda:0' if torch.cuda.is_available() else 'cpu'\n",
    "    \n",
    "    # RNNの層数\n",
    "    num_layers = trial.suggest_int('num_layers', 1, 9)\n",
    "\n",
    "    # hidden_size\n",
    "    hidden_size = int(trial.suggest_discrete_uniform('hidden_size', 10, 150, 10))\n",
    "\n",
    "    # batch_size\n",
    "    batch_size = trial.suggest_int('batch_size', 8, 256)\n",
    "\n",
    "    # lr\n",
    "    lr = trial.suggest_loguniform('lr', 1e-5, 1e-1)\n",
    "\n",
    "    # dataloaderの定義\n",
    "    train_dataset2 = torch.utils.data.TensorDataset(X_train_long, Y_train_long)\n",
    "    train_dataloader2 = torch.utils.data.DataLoader(train_dataset2, batch_size=batch_size, drop_last=True)\n",
    "\n",
    "    valid_dataset2 = torch.utils.data.TensorDataset(X_valid_long, Y_valid_long)\n",
    "    valid_dataloader2 = torch.utils.data.DataLoader(valid_dataset2, batch_size=batch_size, drop_last=True)\n",
    "\n",
    "    # モデルの作成\n",
    "    model = biRNN(vocab_size, 300, hidden_size, 4, batch_size, num_layers)\n",
    "    optimizer = optim.Adam(model.parameters(), lr)\n",
    "\n",
    "    for epoch in range(20):\n",
    "        train(model, device, train_dataloader2, optimizer)\n",
    "        error_rate = valid(model, device, valid_dataloader2)\n",
    "    \n",
    "    return error_rate\n"
   ]
  },
  {
   "cell_type": "code",
   "execution_count": 23,
   "id": "01eeee94",
   "metadata": {},
   "outputs": [
    {
     "name": "stderr",
     "output_type": "stream",
     "text": [
      "\u001b[32m[I 2022-06-15 13:48:35,538]\u001b[0m A new study created in memory with name: no-name-78929e7d-3f18-4301-b680-ead5da68a2a8\u001b[0m\n",
      "\u001b[32m[I 2022-06-15 13:48:56,692]\u001b[0m Trial 0 finished with value: 0.5958083832335329 and parameters: {'num_layers': 6, 'hidden_size': 40.0, 'batch_size': 185, 'lr': 0.02399012871230951}. Best is trial 0 with value: 0.5958083832335329.\u001b[0m\n",
      "\u001b[32m[I 2022-06-15 13:49:50,211]\u001b[0m Trial 1 finished with value: 0.6122754491017964 and parameters: {'num_layers': 4, 'hidden_size': 140.0, 'batch_size': 50, 'lr': 0.012192549200322086}. Best is trial 0 with value: 0.5958083832335329.\u001b[0m\n",
      "\u001b[32m[I 2022-06-15 13:52:04,230]\u001b[0m Trial 2 finished with value: 0.8817365269461078 and parameters: {'num_layers': 7, 'hidden_size': 50.0, 'batch_size': 36, 'lr': 0.09780523335514346}. Best is trial 0 with value: 0.5958083832335329.\u001b[0m\n",
      "\u001b[32m[I 2022-06-15 13:52:57,258]\u001b[0m Trial 3 finished with value: 0.6212574850299402 and parameters: {'num_layers': 7, 'hidden_size': 90.0, 'batch_size': 80, 'lr': 0.017394906930627063}. Best is trial 0 with value: 0.5958083832335329.\u001b[0m\n",
      "\u001b[32m[I 2022-06-15 13:54:36,804]\u001b[0m Trial 4 finished with value: 0.20059880239520955 and parameters: {'num_layers': 1, 'hidden_size': 100.0, 'batch_size': 10, 'lr': 0.0012993055161637907}. Best is trial 4 with value: 0.20059880239520955.\u001b[0m\n",
      "\u001b[32m[I 2022-06-15 14:00:53,654]\u001b[0m Trial 5 finished with value: 0.6017964071856288 and parameters: {'num_layers': 6, 'hidden_size': 70.0, 'batch_size': 10, 'lr': 0.0364279293065491}. Best is trial 4 with value: 0.20059880239520955.\u001b[0m\n",
      "\u001b[32m[I 2022-06-15 14:01:12,702]\u001b[0m Trial 6 finished with value: 0.812874251497006 and parameters: {'num_layers': 6, 'hidden_size': 120.0, 'batch_size': 248, 'lr': 0.005400276660828312}. Best is trial 4 with value: 0.20059880239520955.\u001b[0m\n",
      "\u001b[32m[I 2022-06-15 14:01:31,896]\u001b[0m Trial 7 finished with value: 0.6332335329341318 and parameters: {'num_layers': 5, 'hidden_size': 80.0, 'batch_size': 171, 'lr': 0.010777458793432502}. Best is trial 4 with value: 0.20059880239520955.\u001b[0m\n",
      "\u001b[32m[I 2022-06-15 14:02:01,573]\u001b[0m Trial 8 finished with value: 0.2911676646706587 and parameters: {'num_layers': 9, 'hidden_size': 120.0, 'batch_size': 205, 'lr': 0.0009743871608345313}. Best is trial 4 with value: 0.20059880239520955.\u001b[0m\n",
      "\u001b[32m[I 2022-06-15 14:02:38,054]\u001b[0m Trial 9 finished with value: 0.6347305389221557 and parameters: {'num_layers': 8, 'hidden_size': 150.0, 'batch_size': 154, 'lr': 0.013131838212736974}. Best is trial 4 with value: 0.20059880239520955.\u001b[0m\n",
      "\u001b[32m[I 2022-06-15 14:02:51,035]\u001b[0m Trial 10 finished with value: 0.37574850299401197 and parameters: {'num_layers': 1, 'hidden_size': 20.0, 'batch_size': 94, 'lr': 5.779104117694329e-05}. Best is trial 4 with value: 0.20059880239520955.\u001b[0m\n",
      "\u001b[32m[I 2022-06-15 14:02:56,582]\u001b[0m Trial 11 finished with value: 0.3315868263473054 and parameters: {'num_layers': 1, 'hidden_size': 110.0, 'batch_size': 234, 'lr': 0.00024092179511502038}. Best is trial 4 with value: 0.20059880239520955.\u001b[0m\n",
      "\u001b[32m[I 2022-06-15 14:03:14,437]\u001b[0m Trial 12 finished with value: 0.26047904191616766 and parameters: {'num_layers': 3, 'hidden_size': 120.0, 'batch_size': 123, 'lr': 0.0008720745709007037}. Best is trial 4 with value: 0.20059880239520955.\u001b[0m\n",
      "\u001b[32m[I 2022-06-15 14:03:34,843]\u001b[0m Trial 13 finished with value: 0.4086826347305389 and parameters: {'num_layers': 3, 'hidden_size': 100.0, 'batch_size': 105, 'lr': 0.0015234063856978844}. Best is trial 4 with value: 0.20059880239520955.\u001b[0m\n",
      "\u001b[32m[I 2022-06-15 14:03:47,980]\u001b[0m Trial 14 finished with value: 0.4595808383233533 and parameters: {'num_layers': 2, 'hidden_size': 130.0, 'batch_size': 135, 'lr': 1.3075138310450596e-05}. Best is trial 4 with value: 0.20059880239520955.\u001b[0m\n",
      "\u001b[32m[I 2022-06-15 14:04:24,096]\u001b[0m Trial 15 finished with value: 0.16017964071856283 and parameters: {'num_layers': 3, 'hidden_size': 70.0, 'batch_size': 70, 'lr': 0.0009666428899284338}. Best is trial 15 with value: 0.16017964071856283.\u001b[0m\n",
      "\u001b[32m[I 2022-06-15 14:04:58,609]\u001b[0m Trial 16 finished with value: 0.218562874251497 and parameters: {'num_layers': 2, 'hidden_size': 60.0, 'batch_size': 54, 'lr': 0.0002002423693421044}. Best is trial 15 with value: 0.16017964071856283.\u001b[0m\n",
      "\u001b[32m[I 2022-06-15 14:08:06,671]\u001b[0m Trial 17 finished with value: 0.25 and parameters: {'num_layers': 3, 'hidden_size': 10.0, 'batch_size': 12, 'lr': 0.0031932434155542704}. Best is trial 15 with value: 0.16017964071856283.\u001b[0m\n",
      "\u001b[32m[I 2022-06-15 14:08:35,376]\u001b[0m Trial 18 finished with value: 0.20508982035928147 and parameters: {'num_layers': 2, 'hidden_size': 90.0, 'batch_size': 70, 'lr': 0.00046205789996383966}. Best is trial 15 with value: 0.16017964071856283.\u001b[0m\n",
      "\u001b[32m[I 2022-06-15 14:10:06,855]\u001b[0m Trial 19 finished with value: 0.23428143712574845 and parameters: {'num_layers': 4, 'hidden_size': 40.0, 'batch_size': 32, 'lr': 7.169420465845512e-05}. Best is trial 15 with value: 0.16017964071856283.\u001b[0m\n",
      "\u001b[32m[I 2022-06-15 14:10:25,311]\u001b[0m Trial 20 finished with value: 0.3675149700598802 and parameters: {'num_layers': 1, 'hidden_size': 70.0, 'batch_size': 69, 'lr': 0.001982575116283539}. Best is trial 15 with value: 0.16017964071856283.\u001b[0m\n",
      "\u001b[32m[I 2022-06-15 14:10:50,464]\u001b[0m Trial 21 finished with value: 0.18787425149700598 and parameters: {'num_layers': 2, 'hidden_size': 90.0, 'batch_size': 81, 'lr': 0.0004613846499965038}. Best is trial 15 with value: 0.16017964071856283.\u001b[0m\n",
      "\u001b[32m[I 2022-06-15 14:11:07,608]\u001b[0m Trial 22 finished with value: 0.20808383233532934 and parameters: {'num_layers': 2, 'hidden_size': 100.0, 'batch_size': 107, 'lr': 0.00038893651101373094}. Best is trial 15 with value: 0.16017964071856283.\u001b[0m\n",
      "\u001b[32m[I 2022-06-15 14:12:34,057]\u001b[0m Trial 23 finished with value: 0.2140718562874252 and parameters: {'num_layers': 4, 'hidden_size': 80.0, 'batch_size': 35, 'lr': 9.157512554572016e-05}. Best is trial 15 with value: 0.16017964071856283.\u001b[0m\n",
      "\u001b[32m[I 2022-06-15 14:12:49,772]\u001b[0m Trial 24 finished with value: 0.29416167664670656 and parameters: {'num_layers': 1, 'hidden_size': 100.0, 'batch_size': 86, 'lr': 0.004059855010354982}. Best is trial 15 with value: 0.16017964071856283.\u001b[0m\n",
      "\u001b[32m[I 2022-06-15 14:13:09,339]\u001b[0m Trial 25 finished with value: 0.2447604790419161 and parameters: {'num_layers': 3, 'hidden_size': 60.0, 'batch_size': 126, 'lr': 0.0005417023411957914}. Best is trial 15 with value: 0.16017964071856283.\u001b[0m\n",
      "\u001b[32m[I 2022-06-15 14:13:45,307]\u001b[0m Trial 26 finished with value: 0.19835329341317365 and parameters: {'num_layers': 2, 'hidden_size': 80.0, 'batch_size': 54, 'lr': 0.00014382827867923364}. Best is trial 15 with value: 0.16017964071856283.\u001b[0m\n",
      "\u001b[32m[I 2022-06-15 14:14:30,970]\u001b[0m Trial 27 finished with value: 0.2784431137724551 and parameters: {'num_layers': 4, 'hidden_size': 80.0, 'batch_size': 56, 'lr': 2.603984170991417e-05}. Best is trial 15 with value: 0.16017964071856283.\u001b[0m\n",
      "\u001b[32m[I 2022-06-15 14:14:51,946]\u001b[0m Trial 28 finished with value: 0.25149700598802394 and parameters: {'num_layers': 2, 'hidden_size': 60.0, 'batch_size': 98, 'lr': 0.00017133170731149563}. Best is trial 15 with value: 0.16017964071856283.\u001b[0m\n",
      "\u001b[32m[I 2022-06-15 14:15:48,409]\u001b[0m Trial 29 finished with value: 0.29491017964071853 and parameters: {'num_layers': 5, 'hidden_size': 30.0, 'batch_size': 72, 'lr': 3.6276474534536546e-05}. Best is trial 15 with value: 0.16017964071856283.\u001b[0m\n",
      "\u001b[32m[I 2022-06-15 14:16:41,279]\u001b[0m Trial 30 finished with value: 0.2425149700598802 and parameters: {'num_layers': 3, 'hidden_size': 40.0, 'batch_size': 46, 'lr': 0.0001318009827875322}. Best is trial 15 with value: 0.16017964071856283.\u001b[0m\n",
      "\u001b[32m[I 2022-06-15 14:17:31,606]\u001b[0m Trial 31 finished with value: 0.19086826347305386 and parameters: {'num_layers': 1, 'hidden_size': 90.0, 'batch_size': 22, 'lr': 0.0006466352375933522}. Best is trial 15 with value: 0.16017964071856283.\u001b[0m\n",
      "\u001b[32m[I 2022-06-15 14:18:47,457]\u001b[0m Trial 32 finished with value: 0.21107784431137722 and parameters: {'num_layers': 2, 'hidden_size': 90.0, 'batch_size': 23, 'lr': 0.00028619909905070297}. Best is trial 15 with value: 0.16017964071856283.\u001b[0m\n",
      "\u001b[32m[I 2022-06-15 14:19:08,918]\u001b[0m Trial 33 finished with value: 0.19610778443113774 and parameters: {'num_layers': 1, 'hidden_size': 70.0, 'batch_size': 59, 'lr': 0.0005536095135750002}. Best is trial 15 with value: 0.16017964071856283.\u001b[0m\n",
      "\u001b[32m[I 2022-06-15 14:19:36,970]\u001b[0m Trial 34 finished with value: 0.27020958083832336 and parameters: {'num_layers': 1, 'hidden_size': 70.0, 'batch_size': 41, 'lr': 0.00231622754639235}. Best is trial 15 with value: 0.16017964071856283.\u001b[0m\n",
      "\u001b[32m[I 2022-06-15 14:19:53,883]\u001b[0m Trial 35 finished with value: 0.2477544910179641 and parameters: {'num_layers': 1, 'hidden_size': 50.0, 'batch_size': 76, 'lr': 0.0005556150405771717}. Best is trial 15 with value: 0.16017964071856283.\u001b[0m\n",
      "\u001b[32m[I 2022-06-15 14:20:36,893]\u001b[0m Trial 36 finished with value: 0.15568862275449102 and parameters: {'num_layers': 1, 'hidden_size': 90.0, 'batch_size': 26, 'lr': 0.0007633693373516085}. Best is trial 36 with value: 0.15568862275449102.\u001b[0m\n",
      "\u001b[32m[I 2022-06-15 14:23:05,234]\u001b[0m Trial 37 finished with value: 0.5366766467065869 and parameters: {'num_layers': 5, 'hidden_size': 110.0, 'batch_size': 25, 'lr': 0.006087330306308527}. Best is trial 36 with value: 0.15568862275449102.\u001b[0m\n",
      "\u001b[32m[I 2022-06-15 14:25:14,962]\u001b[0m Trial 38 finished with value: 0.3824850299401198 and parameters: {'num_layers': 3, 'hidden_size': 90.0, 'batch_size': 18, 'lr': 0.0009036509375509684}. Best is trial 36 with value: 0.15568862275449102.\u001b[0m\n",
      "\u001b[32m[I 2022-06-15 14:26:02,568]\u001b[0m Trial 39 finished with value: 0.594311377245509 and parameters: {'num_layers': 2, 'hidden_size': 50.0, 'batch_size': 37, 'lr': 0.06024570184721863}. Best is trial 36 with value: 0.15568862275449102.\u001b[0m\n",
      "\u001b[32m[I 2022-06-15 14:30:46,687]\u001b[0m Trial 40 finished with value: 0.5568862275449102 and parameters: {'num_layers': 4, 'hidden_size': 110.0, 'batch_size': 10, 'lr': 0.001393885827267972}. Best is trial 36 with value: 0.15568862275449102.\u001b[0m\n",
      "\u001b[32m[I 2022-06-15 14:31:06,755]\u001b[0m Trial 41 finished with value: 0.16392215568862278 and parameters: {'num_layers': 1, 'hidden_size': 70.0, 'batch_size': 63, 'lr': 0.0006145397804802396}. Best is trial 36 with value: 0.15568862275449102.\u001b[0m\n",
      "\u001b[32m[I 2022-06-15 14:31:22,459]\u001b[0m Trial 42 finished with value: 0.1946107784431138 and parameters: {'num_layers': 1, 'hidden_size': 90.0, 'batch_size': 86, 'lr': 0.0008414980466057973}. Best is trial 36 with value: 0.15568862275449102.\u001b[0m\n",
      "\u001b[32m[I 2022-06-15 14:31:43,140]\u001b[0m Trial 43 finished with value: 0.20059880239520955 and parameters: {'num_layers': 1, 'hidden_size': 70.0, 'batch_size': 63, 'lr': 0.0003179913500389018}. Best is trial 36 with value: 0.15568862275449102.\u001b[0m\n",
      "\u001b[32m[I 2022-06-15 14:32:24,083]\u001b[0m Trial 44 finished with value: 0.3779940119760479 and parameters: {'num_layers': 2, 'hidden_size': 90.0, 'batch_size': 44, 'lr': 0.0019974594357588687}. Best is trial 36 with value: 0.15568862275449102.\u001b[0m\n",
      "\u001b[32m[I 2022-06-15 14:33:06,922]\u001b[0m Trial 45 finished with value: 0.19835329341317365 and parameters: {'num_layers': 1, 'hidden_size': 80.0, 'batch_size': 26, 'lr': 0.0008252504958617468}. Best is trial 36 with value: 0.15568862275449102.\u001b[0m\n",
      "\u001b[32m[I 2022-06-15 14:33:24,725]\u001b[0m Trial 46 finished with value: 0.2529940119760479 and parameters: {'num_layers': 2, 'hidden_size': 60.0, 'batch_size': 117, 'lr': 0.001216072319367196}. Best is trial 36 with value: 0.15568862275449102.\u001b[0m\n",
      "\u001b[32m[I 2022-06-15 14:33:34,623]\u001b[0m Trial 47 finished with value: 0.2357784431137725 and parameters: {'num_layers': 1, 'hidden_size': 110.0, 'batch_size': 146, 'lr': 0.008547055729128198}. Best is trial 36 with value: 0.15568862275449102.\u001b[0m\n",
      "\u001b[32m[I 2022-06-15 14:34:42,050]\u001b[0m Trial 48 finished with value: 0.2881736526946108 and parameters: {'num_layers': 9, 'hidden_size': 100.0, 'batch_size': 83, 'lr': 0.0007271909517304726}. Best is trial 36 with value: 0.15568862275449102.\u001b[0m\n",
      "\u001b[32m[I 2022-06-15 14:34:55,710]\u001b[0m Trial 49 finished with value: 0.41017964071856283 and parameters: {'num_layers': 3, 'hidden_size': 80.0, 'batch_size': 179, 'lr': 0.0032420719779423022}. Best is trial 36 with value: 0.15568862275449102.\u001b[0m\n"
     ]
    }
   ],
   "source": [
    "import optuna\n",
    "\n",
    "study = optuna.create_study()\n",
    "study.optimize(objective, n_trials=50)"
   ]
  },
  {
   "cell_type": "code",
   "execution_count": 24,
   "id": "72105c2b",
   "metadata": {},
   "outputs": [
    {
     "name": "stdout",
     "output_type": "stream",
     "text": [
      "best params: {'num_layers': 1, 'hidden_size': 90.0, 'batch_size': 26, 'lr': 0.0007633693373516085}\n",
      "best value: 0.15568862275449102\n"
     ]
    }
   ],
   "source": [
    "print(f'best params: {study.best_params}')\n",
    "print(f'best value: {study.best_value}')"
   ]
  },
  {
   "cell_type": "code",
   "execution_count": null,
   "id": "c5922c26",
   "metadata": {},
   "outputs": [],
   "source": []
  }
 ],
 "metadata": {
  "kernelspec": {
   "display_name": "Python 3.8.13 ('base')",
   "language": "python",
   "name": "python3"
  },
  "language_info": {
   "codemirror_mode": {
    "name": "ipython",
    "version": 3
   },
   "file_extension": ".py",
   "mimetype": "text/x-python",
   "name": "python",
   "nbconvert_exporter": "python",
   "pygments_lexer": "ipython3",
   "version": "3.8.13"
  },
  "vscode": {
   "interpreter": {
    "hash": "d4d1e4263499bec80672ea0156c357c1ee493ec2b1c70f0acce89fc37c4a6abe"
   }
  }
 },
 "nbformat": 4,
 "nbformat_minor": 5
}
